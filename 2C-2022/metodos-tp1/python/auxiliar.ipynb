{
 "cells": [
  {
   "cell_type": "code",
   "execution_count": 205,
   "id": "8fc53aa6",
   "metadata": {},
   "outputs": [],
   "source": [
    "import sys\n",
    "import numpy as np\n",
    "import pandas as pd\n",
    "import random, math\n",
    "import os\n",
    "from os import path\n",
    "import matplotlib as mpl\n",
    "import seaborn as sns\n",
    "import matplotlib.pyplot as plt\n",
    "import networkx as nx\n",
    "from IPython.display import display, clear_output\n",
    "import matplotlib.pyplot as plt\n",
    "import networkx as nx\n",
    "import PIL\n",
    "import igraph as ig"
   ]
  },
  {
   "cell_type": "code",
   "execution_count": 206,
   "id": "7a8d3b6c",
   "metadata": {},
   "outputs": [],
   "source": [
    "def leer_matriz(path_instancia):\n",
    "    file = open(path_instancia, \"r\")\n",
    "    Lines = file.readlines()\n",
    "    header = [int(Lines[0]), int(Lines[1])]\n",
    "    Lines = Lines[2:]\n",
    "    \n",
    "    relaciones = []\n",
    "    \n",
    "    for line in Lines:\n",
    "        line_data = line.split()\n",
    "        relaciones.append([int(line_data[0]), int(line_data[1])])\n",
    "        \n",
    "    return([header, relaciones])\n",
    "\n",
    "def leer_resultado(path_instancia):\n",
    "    file = open(path_instancia, \"r\")\n",
    "    Lines = file.readlines()\n",
    "    \n",
    "    header = float(Lines[0])\n",
    "    \n",
    "    Lines = Lines[1:]\n",
    "    \n",
    "    resultados = []\n",
    "    \n",
    "    for line in Lines:\n",
    "        resultados.append(float(line))\n",
    "        \n",
    "    return([header, resultados])"
   ]
  },
  {
   "cell_type": "code",
   "execution_count": 207,
   "id": "35e1760a",
   "metadata": {},
   "outputs": [],
   "source": [
    "def calcular_A(archivo_entrada, p_valor):\n",
    "    data = leer_matriz(archivo_entrada)\n",
    "    header = data[0]\n",
    "    body = data[1]\n",
    "    \n",
    "    M = header[0] # Filas y Columnas de matriz\n",
    "    N = header[1] # Relaciones\n",
    "    W = np.zeros((M, M), dtype=float)\n",
    "    \n",
    "    for rel in body:\n",
    "        W[rel[1]-1][rel[0]-1] = 1\n",
    "        \n",
    "    D = np.zeros((M, M), dtype=float)\n",
    "    C = np.zeros(M, dtype=float)\n",
    "    Z = np.zeros(M, dtype=float)\n",
    "    E = np.ones(M, dtype=float)\n",
    "    I = np.identity(M)\n",
    "    \n",
    "    for j in range(0, M):\n",
    "        zeroes = 0\n",
    "        for i in range(0, M):\n",
    "            if W[i][j] == 1:\n",
    "                zeroes = zeroes + 1\n",
    "        C[j] = zeroes\n",
    "\n",
    "    for i in range(0, M):\n",
    "        if C[i] != 0:\n",
    "            D[i][i] = float(1/C[i])\n",
    "\n",
    "    p = p_valor\n",
    "\n",
    "    for i in range(0, M):\n",
    "        if C[i] != 0:\n",
    "            Z[i] = (float((1 - p) / M))\n",
    "        else:\n",
    "            Z[i] = (float((1) / M))\n",
    "\n",
    "    WD = np.matmul(W, D)\n",
    "    WDp = p*WD\n",
    "    # Hasta aca todo bien, falta ver el EZ\n",
    "    \n",
    "    E = np.array(E)[np.newaxis]\n",
    "    EZt = E.T * Z\n",
    "    A = WDp + EZt\n",
    "    \n",
    "    return A"
   ]
  },
  {
   "cell_type": "code",
   "execution_count": 208,
   "id": "79fed1d1",
   "metadata": {
    "scrolled": false
   },
   "outputs": [],
   "source": [
    "A_matriz = calcular_A(\"./tests/instancias/test_15_segundos.txt\", 0.9)"
   ]
  },
  {
   "cell_type": "code",
   "execution_count": 209,
   "id": "450f2357",
   "metadata": {},
   "outputs": [],
   "source": [
    "x= leer_resultado(\"./tests/resultados_catedra/test_15_segundos.txt.out\")\n",
    "x_vector = np.array(x[1])"
   ]
  },
  {
   "cell_type": "code",
   "execution_count": 210,
   "id": "7fadd1a6",
   "metadata": {},
   "outputs": [],
   "source": [
    "Ax = A_matriz.dot(x_vector)"
   ]
  },
  {
   "cell_type": "code",
   "execution_count": 211,
   "id": "4b23560f",
   "metadata": {
    "scrolled": true
   },
   "outputs": [],
   "source": [
    "Ax_x = Ax - x_vector"
   ]
  },
  {
   "cell_type": "markdown",
   "id": "9c5536e8",
   "metadata": {},
   "source": [
    "### Numero de condicion basado en la formula de la teorica y la norma de frobenius"
   ]
  },
  {
   "cell_type": "code",
   "execution_count": 264,
   "id": "4c983e5a",
   "metadata": {
    "scrolled": true
   },
   "outputs": [
    {
     "name": "stdout",
     "output_type": "stream",
     "text": [
      "3.333147398979831e+49\n"
     ]
    }
   ],
   "source": [
    "A_inverse = np.linalg.inv(A_matriz) # Busco la inversa de la matriz\n",
    "A_norm = np.linalg.norm(A_matriz) # Busco la norma de A\n",
    "A_inverse_norm = np.linalg.norm(A_inverse) # Busco la norma de A^-1\n",
    "condition_number = np.multiply(A_norm, A_inverse_norm) # Hago el producto de ambos resultados\n",
    "print(condition_number)"
   ]
  },
  {
   "cell_type": "code",
   "execution_count": 292,
   "id": "f233ed31",
   "metadata": {},
   "outputs": [
    {
     "name": "stdout",
     "output_type": "stream",
     "text": [
      "[[1.   0.   0.  ]\n",
      " [0.   0.25 0.  ]\n",
      " [0.   0.   0.25]]\n"
     ]
    }
   ],
   "source": [
    "A = np.zeros((3, 3), dtype=float)\n",
    "A_inv = []\n",
    "A[0][0] = 1\n",
    "A[1][1] = 4\n",
    "A[2][2] = 4\n",
    "if np.linalg.det(A) != 0:\n",
    "    A_inv = np.linalg.inv(A)\n",
    "print(A_inv)"
   ]
  },
  {
   "cell_type": "markdown",
   "id": "fb271cbb",
   "metadata": {},
   "source": [
    "### Metodo de python para calcular el numero de condicion"
   ]
  },
  {
   "cell_type": "code",
   "execution_count": 296,
   "id": "c1e2166a",
   "metadata": {},
   "outputs": [
    {
     "data": {
      "text/plain": [
       "2.3803746296773345e+18"
      ]
     },
     "execution_count": 296,
     "metadata": {},
     "output_type": "execute_result"
    }
   ],
   "source": [
    "np.linalg.cond(A_matriz, None) # 2-norm, computed directly using the SVD"
   ]
  },
  {
   "cell_type": "code",
   "execution_count": 297,
   "id": "82d48347",
   "metadata": {
    "scrolled": true
   },
   "outputs": [
    {
     "data": {
      "text/plain": [
       "2.3803746296773345e+18"
      ]
     },
     "execution_count": 297,
     "metadata": {},
     "output_type": "execute_result"
    }
   ],
   "source": [
    "np.linalg.cond(A_matriz, 2) # 2-norm (largest sing. value)"
   ]
  },
  {
   "cell_type": "code",
   "execution_count": 259,
   "id": "7a86e95e",
   "metadata": {},
   "outputs": [
    {
     "data": {
      "text/plain": [
       "1.824475680917364e+48"
      ]
     },
     "execution_count": 259,
     "metadata": {},
     "output_type": "execute_result"
    }
   ],
   "source": [
    "np.linalg.cond(A_matriz, 1) # max(sum(abs(x), axis=0))"
   ]
  },
  {
   "cell_type": "code",
   "execution_count": 260,
   "id": "e13a7165",
   "metadata": {},
   "outputs": [
    {
     "data": {
      "text/plain": [
       "4.201019400612384e-19"
      ]
     },
     "execution_count": 260,
     "metadata": {},
     "output_type": "execute_result"
    }
   ],
   "source": [
    "np.linalg.cond(A_matriz, -2) # smallest singular value"
   ]
  },
  {
   "cell_type": "code",
   "execution_count": 261,
   "id": "d60aecbf",
   "metadata": {},
   "outputs": [
    {
     "data": {
      "text/plain": [
       "37526784115019.75"
      ]
     },
     "execution_count": 261,
     "metadata": {},
     "output_type": "execute_result"
    }
   ],
   "source": [
    "np.linalg.cond(A_matriz, -1) # min(sum(abs(x), axis=0))"
   ]
  },
  {
   "cell_type": "code",
   "execution_count": 202,
   "id": "ecdeef53",
   "metadata": {},
   "outputs": [
    {
     "data": {
      "text/plain": [
       "2.6814167816281186e-08"
      ]
     },
     "execution_count": 202,
     "metadata": {},
     "output_type": "execute_result"
    }
   ],
   "source": [
    "np.linalg.norm(Ax_x)"
   ]
  },
  {
   "cell_type": "code",
   "execution_count": 10,
   "id": "92e0d0fd",
   "metadata": {},
   "outputs": [
    {
     "name": "stdout",
     "output_type": "stream",
     "text": [
      "[[1 1 1 1 1]]\n",
      "[[0.48]\n",
      " [0.2 ]\n",
      " [0.48]\n",
      " [0.48]\n",
      " [0.48]]\n"
     ]
    },
    {
     "data": {
      "text/plain": [
       "matrix([[0.48, 0.48, 0.48, 0.48, 0.48],\n",
       "        [0.2 , 0.2 , 0.2 , 0.2 , 0.2 ],\n",
       "        [0.48, 0.48, 0.48, 0.48, 0.48],\n",
       "        [0.48, 0.48, 0.48, 0.48, 0.48],\n",
       "        [0.48, 0.48, 0.48, 0.48, 0.48]])"
      ]
     },
     "execution_count": 10,
     "metadata": {},
     "output_type": "execute_result"
    }
   ],
   "source": [
    "e = np.matrix([1, 1, 1, 1, 1])\n",
    "z = np.matrix([0.48, 0.2, 0.48, 0.48, 0.48])\n",
    "print(e)\n",
    "print(z.T)\n",
    "np.dot(z.T, e)"
   ]
  },
  {
   "cell_type": "code",
   "execution_count": 194,
   "id": "27618548",
   "metadata": {},
   "outputs": [
    {
     "data": {
      "image/png": "[encoded data removed]",
      "text/plain": [
       "<Figure size 640x480 with 11 Axes>"
      ]
     },
     "metadata": {},
     "output_type": "display_data"
    }
   ],
   "source": [
    "seed = random.randint(1, 100000)  # Seed random number generators for reproducibility\n",
    "\n",
    "icons = {\n",
    "    \"router\": \"./icons/computer.png\",\n",
    "    \"switch\": \"./icons/computer.png\",\n",
    "    \"PC\": \"./icons/computer.png\",\n",
    "}\n",
    "\n",
    "# Generate the computer network graph\n",
    "G = nx.DiGraph()\n",
    "\n",
    "G.add_node(\"router\", image=images[\"router\"])\n",
    "for i in range(1, 4):\n",
    "    G.add_node(f\"switch_{i}\", image=images[\"switch\"])\n",
    "    for j in range(1, 3):\n",
    "        G.add_node(\"PC_\" + str(i) + \"_\" + str(j), image=images[\"PC\"])\n",
    "\n",
    "G.add_edge(\"router\", \"switch_1\")\n",
    "G.add_edge(\"router\", \"switch_2\")\n",
    "G.add_edge(\"router\", \"switch_3\")\n",
    "\n",
    "for u in range(1, 4):\n",
    "    for v in range(1, 3):\n",
    "        G.add_edge(\"switch_\" + str(u), \"PC_\" + str(u) + \"_\" + str(v))\n",
    "        nodo_AB = random.uniform(0, 1)\n",
    "        if nodo_AB > 0.5:\n",
    "            G.add_edge(\"PC_\" + str(u) + \"_\" + str(v),\"switch_\" + str(u))\n",
    "    \n",
    "G.add_edge(\"switch_3\", \"router\")\n",
    "G.add_edge(\"switch_1\", \"router\")\n",
    "\n",
    "for u in range(1, 4):\n",
    "    nodo_AB = random.uniform(0, 1)\n",
    "    if nodo_AB > 0.5:\n",
    "        G.add_edge(\"PC_\" + str(u) + \"_\" + str(v),\"router\")\n",
    "\n",
    "# Get a reproducible layout and create figure\n",
    "pos = nx.spring_layout(G)\n",
    "fig, ax = plt.subplots()\n",
    "\n",
    "# Note: the min_source/target_margin kwargs only work with FancyArrowPatch objects.\n",
    "# Force the use of FancyArrowPatch for edge drawing by setting `arrows=True`,\n",
    "# but suppress arrowheads with `arrowstyle=\"-\"`\n",
    "nx.draw_networkx_edges(\n",
    "    G,\n",
    "    pos=pos,\n",
    "    ax=ax,\n",
    "    arrows=True,\n",
    "    arrowstyle=\"->\",\n",
    ")\n",
    "\n",
    "# Transform from data coordinates (scaled between xlim and ylim) to display coordinates\n",
    "tr_figure = ax.transData.transform\n",
    "# Transform from display to figure coordinates\n",
    "tr_axes = fig.transFigure.inverted().transform\n",
    "\n",
    "# Select the size of the image (relative to the X axis)\n",
    "icon_size = (ax.get_xlim()[1] - ax.get_xlim()[0]) * 0.025\n",
    "icon_center = icon_size / 2.0\n",
    "\n",
    "# Add the respective image to each node\n",
    "for n in G.nodes:\n",
    "    xf, yf = tr_figure(pos[n])\n",
    "    xa, ya = tr_axes((xf, yf))\n",
    "    # get overlapped axes and plot icon\n",
    "    a = plt.axes([xa - icon_center, ya - icon_center, icon_size, icon_size])\n",
    "    a.imshow(G.nodes[n][\"image\"])\n",
    "    a.axis(\"off\")\n",
    "\n",
    "plt.savefig(\"graficos/union-paginas.svg\");\n",
    "plt.show()"
   ]
  },
  {
   "cell_type": "code",
   "execution_count": 191,
   "id": "ca712090",
   "metadata": {},
   "outputs": [
    {
     "data": {
      "image/png": "[encoded data removed]",
      "text/plain": [
       "<Figure size 640x480 with 2 Axes>"
      ]
     },
     "metadata": {},
     "output_type": "display_data"
    }
   ],
   "source": [
    "# PRUEBA DE DIGRAFO\n",
    "seed = 13648  # Seed random number generators for reproducibility\n",
    "G = nx.random_k_out_graph(10, 3, 0.5, seed=seed)\n",
    "pos = nx.spring_layout(G, seed=seed)\n",
    "\n",
    "node_sizes = [3 + 10 * i for i in range(len(G))]\n",
    "M = G.number_of_edges()\n",
    "edge_colors = range(2, M + 2)\n",
    "edge_alphas = [(5 + i) / (M + 4) for i in range(M)]\n",
    "cmap = plt.cm.plasma\n",
    "\n",
    "nodes = nx.draw_networkx_nodes(G, pos, node_size=node_sizes, node_color=\"indigo\")\n",
    "edges = nx.draw_networkx_edges(\n",
    "    G,\n",
    "    pos,\n",
    "    node_size=node_sizes,\n",
    "    arrowstyle=\"->\",\n",
    "    arrowsize=10,\n",
    "    edge_color=edge_colors,\n",
    "    edge_cmap=cmap,\n",
    "    width=2,\n",
    ")\n",
    "# set alpha value for each edge\n",
    "for i in range(M):\n",
    "    edges[i].set_alpha(edge_alphas[i])\n",
    "\n",
    "pc = mpl.collections.PatchCollection(edges, cmap=cmap)\n",
    "pc.set_array(edge_colors)\n",
    "\n",
    "ax = plt.gca()\n",
    "ax.set_axis_off()\n",
    "plt.colorbar(pc, ax=ax)\n",
    "plt.show()"
   ]
  }
 ],
 "metadata": {
  "kernelspec": {
   "display_name": "Python 3 (ipykernel)",
   "language": "python",
   "name": "python3"
  },
  "language_info": {
   "codemirror_mode": {
    "name": "ipython",
    "version": 3
   },
   "file_extension": ".py",
   "mimetype": "text/x-python",
   "name": "python",
   "nbconvert_exporter": "python",
   "pygments_lexer": "ipython3",
   "version": "3.8.0"
  }
 },
 "nbformat": 4,
 "nbformat_minor": 5
}
