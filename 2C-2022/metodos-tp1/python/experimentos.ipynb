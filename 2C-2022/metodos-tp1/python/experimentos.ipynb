{
 "cells": [
  {
   "cell_type": "markdown",
   "metadata": {},
   "source": [
    "# Correr experimentos\n",
    "En este archivo está el código para correr los experimentos y escribir los resultados en archivos CSV.\n",
    "> Los archivos se guardan en la carpeta _resultados_."
   ]
  },
  {
   "cell_type": "code",
   "execution_count": 3,
   "metadata": {},
   "outputs": [],
   "source": [
    "import math, subprocess\n",
    "import pandas as pd\n",
    "import numpy as np\n",
    "import random, math\n",
    "import os\n",
    "from IPython.display import display, clear_output"
   ]
  },
  {
   "cell_type": "markdown",
   "metadata": {},
   "source": [
    "El ejecutable se corre indicando el archivo y un valor $p \\in (0, 1)$"
   ]
  },
  {
   "cell_type": "code",
   "execution_count": 14,
   "metadata": {},
   "outputs": [],
   "source": [
    "\"\"\"\n",
    "    p_value\n",
    "    archivo_instancia: path del archivo a evaluar\n",
    "    instancia: numero de experimento\n",
    "\"\"\"\n",
    "def correr_experimento(p_value, archivo_instancia, instancia):\n",
    "    # Leer archivo de la instancia.\n",
    "    # instancia = leer_instancia(archivo_instancia\n",
    "    \n",
    "    # Crear proceso para ejecutar el codigo.\n",
    "    process = subprocess.Popen([\"./page_rank\", archivo_instancia, str(p_value)], stderr=subprocess.PIPE, stdout=subprocess.PIPE, stdin=subprocess.PIPE, universal_newlines = True)\n",
    "\n",
    "    # Poner la instancia en la entrada estandar.\n",
    "    # process.stdin.write(instancia)\n",
    "    # process.stdin.flush()\n",
    "\n",
    "    # Correr experimento.\n",
    "    exit_code = process.wait()\n",
    "    \n",
    "    # Verificar que el proceso no fallo.\n",
    "    if exit_code != 0: \n",
    "        print(F\"Hubo un error en la experimentacion con la instancia {archivo_instancia}\")\n",
    "    else:\n",
    "        file_out = F\"{archivo_instancia}.out\"\n",
    "        os.rename(file_out, F\"{file_out}-{instancia}\")\n",
    "\n",
    "    # Leer salida de STDERR con los tiempos de ejecucion de cada metodo.\n",
    "    process.stdin.close();\n",
    "    process.stdout.close();\n",
    "    process.stderr.close();"
   ]
  },
  {
   "cell_type": "code",
   "execution_count": 15,
   "metadata": {},
   "outputs": [],
   "source": [
    "def agregar_experimentos(p_valores, exp_num, dataframe):\n",
    "    # Obtenemos el experimento\n",
    "    fila = dataframe.iloc[exp_num];\n",
    "    for i in range(0, len(p_valores)):\n",
    "        # p_valores[i] contiene el i-esimo p_valor de exp_num\n",
    "        \"\"\"\n",
    "            fila_n[\"dataset\"]: El dataset al que pertenece\n",
    "            fila_n[\"n\"]: La cantidad de filas y columnas\n",
    "            fila_n[\"M\"]: La cantidad de relaciones\n",
    "            p_caso: El caso de p-valor a evaluar\n",
    "            p_value: El p-valor\n",
    "            fila_n[\"archivo\"]: El path del archivo\n",
    "        \"\"\"\n",
    "        experimentos.append([\n",
    "            fila[\"dataset\"], \n",
    "            fila[\"n\"], \n",
    "            fila[\"M\"], \n",
    "            p_valores[i], \n",
    "            fila[\"archivo\"]\n",
    "        ])\n",
    "        \n",
    "def agregar_experimentos_grupos(p_valores, exp_num, dataframe):\n",
    "    # Obtenemos el experimento\n",
    "    fila = dataframe.iloc[exp_num];\n",
    "    for i in range(0, len(p_valores)):\n",
    "        # p_valores[i] contiene el i-esimo p_valor de exp_num\n",
    "        \"\"\"\n",
    "            fila_n[\"dataset\"]: El dataset al que pertenece\n",
    "            fila_n[\"n\"]: La cantidad de filas y columnas\n",
    "            fila_n[\"M\"]: La cantidad de relaciones\n",
    "            p_caso: El caso de p-valor a evaluar\n",
    "            p_value: El p-valor\n",
    "            fila_n[\"archivo\"]: El path del archivo\n",
    "        \"\"\"\n",
    "        experimentos_grupos.append([\n",
    "            fila[\"dataset\"], \n",
    "            fila[\"n\"], \n",
    "            fila[\"M\"], \n",
    "            p_valores[i], \n",
    "            fila[\"archivo\"]\n",
    "        ])"
   ]
  },
  {
   "cell_type": "markdown",
   "metadata": {},
   "source": [
    "# Corremos los experimentos\n",
    "Vamos a guardar una tabla con las ejecuciones y sus respectivos tiempos."
   ]
  },
  {
   "cell_type": "markdown",
   "metadata": {},
   "source": [
    "Se procede a hacer lo siguiente:\n",
    "Para cada caso a evaluar y cada caso de p-valor hago:\n",
    "- Defino un n que estará entre 0 y 100, ese n me dirá cual de los 101 casos generados se va a usar\n",
    "- Para ese n, defino p_cant cantidades de p-valor y los guardo en un arreglo que será p_valores\n",
    "    - Es importante tener en cuenta que ese p_cant estará sujeto al casos_p tomado\n",
    "- Se pasará a agregar_experimentos el caso, el número el p_valores para que lo agregue a experimentos\n",
    "- Haremos esto 10 veces por cada instancia de manera que, para caso random tomados 10 random, evaluamos cant_it p-valores para cada uno y con ello obtenemos una metrica a comparar"
   ]
  },
  {
   "cell_type": "markdown",
   "metadata": {},
   "source": [
    "## Experimentación de todos menos grupos"
   ]
  },
  {
   "cell_type": "code",
   "execution_count": 4,
   "metadata": {},
   "outputs": [],
   "source": [
    "investigacion={}\n",
    "casos = [\"ref-one-ref-lot-diversity\", \"ref-one-ref-lot\", \"referenciadas\", \"una-sola\"]\n",
    "#casos = [\"referenciadas\"]\n",
    "experimentos = []\n",
    "cant_pvalues = 200\n",
    "cant_exp = 15\n",
    "\n",
    "for caso in casos:\n",
    "    investigacion[caso]=pd.read_csv(F\"instancias/{caso}/indice.csv\")\n",
    "\n",
    "p_valores = []\n",
    "for i in range(0, cant_pvalues):\n",
    "    p_valores.append(random.uniform(0, 1))\n",
    "    \n",
    "for caso in casos:\n",
    "    # exp_set es el set de experimentos de los 100 que puede haber en el indice.csv\n",
    "    exp_set = random.sample(list(range(1, 100)), cant_exp)\n",
    "    for exp in exp_set:\n",
    "            #if casos_p == \"random\":\n",
    "            #    p_valores.append(random.uniform(0, 1))\n",
    "            #if casos_p == \"pbajo\":\n",
    "            #    p_valores.append(random.uniform(0, 1))\n",
    "            #if casos_p == \"palto\":\n",
    "            #    p_valores.append(random.uniform(0, 1))       \n",
    "        # En este punto ya tengo los 10 p-valores buscados, ahora solo se lo envio a agregar_experimento\n",
    "        \"\"\"\n",
    "            Enviamos:\n",
    "                p_valores: arr[] (Valores p)\n",
    "                exp: int (Numero de experimento)\n",
    "                casos_p: string (caso de experimento con valor p)\n",
    "                investigacion[casos_c]: string (caso de experimento)\n",
    "        \"\"\"\n",
    "        agregar_experimentos(p_valores, exp, investigacion[caso])\n",
    "                    \n",
    "if(not os.path.isdir(\"resultados\")):\n",
    "    os.mkdir(\"resultados\")"
   ]
  },
  {
   "cell_type": "code",
   "execution_count": 5,
   "metadata": {},
   "outputs": [
    {
     "name": "stdout",
     "output_type": "stream",
     "text": [
      "12000\n"
     ]
    }
   ],
   "source": [
    "print(len(experimentos))"
   ]
  },
  {
   "cell_type": "markdown",
   "metadata": {},
   "source": [
    "## Ejecutar los experimentos y guardar los resultados en un archivo CSV.\n",
    "Este paso puede tardar unos minutos hasta terminar de ejecutarse."
   ]
  },
  {
   "cell_type": "markdown",
   "metadata": {},
   "source": [
    "Sabemos que nuestros resultados dependen del p-valor porque nuestras matrices son siempre las \"mismas\".\n",
    "Es decir, dada una matriz, tenemos k p-valores con los que evaluar\n",
    "Usemos eso, la cantidad de experimentos tomados es *cant_exp* y para cada uno hay *cant_pvalues*"
   ]
  },
  {
   "cell_type": "code",
   "execution_count": 6,
   "metadata": {
    "scrolled": false
   },
   "outputs": [
    {
     "data": {
      "text/plain": [
       "'Experimento: 12000/12000'"
      ]
     },
     "metadata": {},
     "output_type": "display_data"
    },
    {
     "data": {
      "text/plain": [
       "'Dataset: una-sola'"
      ]
     },
     "metadata": {},
     "output_type": "display_data"
    },
    {
     "data": {
      "text/plain": [
       "'Matrix Size: 1000'"
      ]
     },
     "metadata": {},
     "output_type": "display_data"
    },
    {
     "data": {
      "text/plain": [
       "'Relationship: 36'"
      ]
     },
     "metadata": {},
     "output_type": "display_data"
    },
    {
     "data": {
      "text/plain": [
       "'P value: 0.6226501275407794'"
      ]
     },
     "metadata": {},
     "output_type": "display_data"
    },
    {
     "data": {
      "text/plain": [
       "'Path: instancias/una-sola/una-sola-93/Test-una-sola-93.txt'"
      ]
     },
     "metadata": {},
     "output_type": "display_data"
    }
   ],
   "source": [
    "filas = []\n",
    "\n",
    "numero = 0\n",
    "num_out = 1\n",
    "indice = 1\n",
    "exp_actual = experimentos[0][4]\n",
    "# Nuestros resultados dependen del p-valor\n",
    "for experimento in experimentos:\n",
    "    # Voy mostrando que experimento se esta ejecutando.\n",
    "    clear_output(wait=True)\n",
    "    display('Experimento: ' + str(num_out) + \"/\" + str(len(experimentos)))\n",
    "    display('Dataset: ' + str(experimento[0]))\n",
    "    display('Matrix Size: ' + str(experimento[1]))\n",
    "    display('Relationship: ' + str(experimento[2]))\n",
    "    display('P value: ' + str(experimento[3])) \n",
    "    display('Path: ' + str(experimento[4]))\n",
    "    \n",
    "    if(experimento[4] != exp_actual):\n",
    "        numero = 0\n",
    "        indice += 1\n",
    "        exp_actual = experimento[4]\n",
    "        \n",
    "    correr_experimento(experimento[3], experimento[4], numero)\n",
    "    \n",
    "    filas.append([\n",
    "        indice,\n",
    "        experimento[0], \n",
    "        experimento[1], \n",
    "        experimento[2], \n",
    "        experimento[3], \n",
    "        experimento[4], \n",
    "        F\"{experimento[4]}.out-{numero}\"\n",
    "    ]);\n",
    "    \n",
    "    num_out += 1\n",
    "    numero += 1"
   ]
  },
  {
   "cell_type": "code",
   "execution_count": 7,
   "metadata": {},
   "outputs": [],
   "source": [
    "columnas = [\"n_exp\", \"dataset\", \"n\", \"M\", \"p-valor\", \"path\", \"path-out\"]\n",
    "df_resultado = pd.DataFrame(filas, columns=columnas);\n",
    "df_resultado.to_csv(\"resultados/resultado.csv\", index=False, header=True); "
   ]
  },
  {
   "cell_type": "markdown",
   "metadata": {},
   "source": [
    "## Experimentación de referenciadas con n creciente"
   ]
  },
  {
   "cell_type": "code",
   "execution_count": 44,
   "metadata": {},
   "outputs": [],
   "source": [
    "investigacion={}\n",
    "casos = [\"referenciadas-n\"]\n",
    "experimentos = []\n",
    "cant_pvalues = 15\n",
    "\n",
    "for caso in casos:\n",
    "    investigacion[caso]=pd.read_csv(F\"instancias/{caso}/indice.csv\")\n",
    "\n",
    "p_valores = []\n",
    "for i in range(0, cant_pvalues):\n",
    "    p_valores.append(random.uniform(0, 1))\n",
    "    \n",
    "for caso in casos:\n",
    "    # exp_set es el set de experimentos de los 100 que puede haber en el indice.csv\n",
    "    exp_set = list(range(1, 1000))\n",
    "    for exp in exp_set:\n",
    "        agregar_experimentos(p_valores, exp, investigacion[caso])\n",
    "        \"\"\"\n",
    "            Enviamos:\n",
    "                p_valores: arr[] (Valores p)\n",
    "                exp: int (Numero de experimento)\n",
    "                casos_p: string (caso de experimento con valor p)\n",
    "                investigacion[casos_c]: string (caso de experimento)\n",
    "        \"\"\"\n",
    "        \n",
    "if(not os.path.isdir(\"resultados\")):\n",
    "    os.mkdir(\"resultados\")"
   ]
  },
  {
   "cell_type": "code",
   "execution_count": 45,
   "metadata": {},
   "outputs": [
    {
     "name": "stdout",
     "output_type": "stream",
     "text": [
      "14985\n"
     ]
    }
   ],
   "source": [
    "print(len(experimentos))"
   ]
  },
  {
   "cell_type": "markdown",
   "metadata": {},
   "source": [
    "## Ejecutar los experimentos y guardar los resultados en un archivo CSV.\n",
    "Este paso puede tardar unos minutos hasta terminar de ejecutarse."
   ]
  },
  {
   "cell_type": "markdown",
   "metadata": {},
   "source": [
    "Sabemos que nuestros resultados dependen del p-valor porque nuestras matrices son siempre las \"mismas\".\n",
    "Es decir, dada una matriz, tenemos k p-valores con los que evaluar\n",
    "Usemos eso, la cantidad de experimentos tomados es *cant_exp* y para cada uno hay *cant_pvalues*"
   ]
  },
  {
   "cell_type": "code",
   "execution_count": 46,
   "metadata": {
    "scrolled": false
   },
   "outputs": [
    {
     "data": {
      "text/plain": [
       "'Experimento: 14105/14985'"
      ]
     },
     "metadata": {},
     "output_type": "display_data"
    },
    {
     "data": {
      "text/plain": [
       "'Dataset: referenciadas-n'"
      ]
     },
     "metadata": {},
     "output_type": "display_data"
    },
    {
     "data": {
      "text/plain": [
       "'Matrix Size: 942'"
      ]
     },
     "metadata": {},
     "output_type": "display_data"
    },
    {
     "data": {
      "text/plain": [
       "'Relationship: 46961'"
      ]
     },
     "metadata": {},
     "output_type": "display_data"
    },
    {
     "data": {
      "text/plain": [
       "'P value: 0.6845442408778625'"
      ]
     },
     "metadata": {},
     "output_type": "display_data"
    },
    {
     "data": {
      "text/plain": [
       "'Path: instancias/referenciadas-n/referenciadas-n-942/Test-referenciadas-n-942.txt'"
      ]
     },
     "metadata": {},
     "output_type": "display_data"
    },
    {
     "ename": "FileNotFoundError",
     "evalue": "[WinError 3] El sistema no puede encontrar la ruta especificada: 'instancias/referenciadas-n/referenciadas-n-942/Test-referenciadas-n-942.txt.out' -> 'instancias/referenciadas-n/referenciadas-n-942/Test-referenciadas-n-942.txt.out-4'",
     "output_type": "error",
     "traceback": [
      "\u001b[1;31m---------------------------------------------------------------------------\u001b[0m",
      "\u001b[1;31mFileNotFoundError\u001b[0m                         Traceback (most recent call last)",
      "Cell \u001b[1;32mIn [46], line 23\u001b[0m\n\u001b[0;32m     20\u001b[0m     indice \u001b[38;5;241m+\u001b[39m\u001b[38;5;241m=\u001b[39m \u001b[38;5;241m1\u001b[39m\n\u001b[0;32m     21\u001b[0m     exp_actual \u001b[38;5;241m=\u001b[39m experimento[\u001b[38;5;241m4\u001b[39m]\n\u001b[1;32m---> 23\u001b[0m \u001b[43mcorrer_experimento\u001b[49m\u001b[43m(\u001b[49m\u001b[43mexperimento\u001b[49m\u001b[43m[\u001b[49m\u001b[38;5;241;43m3\u001b[39;49m\u001b[43m]\u001b[49m\u001b[43m,\u001b[49m\u001b[43m \u001b[49m\u001b[43mexperimento\u001b[49m\u001b[43m[\u001b[49m\u001b[38;5;241;43m4\u001b[39;49m\u001b[43m]\u001b[49m\u001b[43m,\u001b[49m\u001b[43m \u001b[49m\u001b[43mnumero\u001b[49m\u001b[43m)\u001b[49m\n\u001b[0;32m     25\u001b[0m filas\u001b[38;5;241m.\u001b[39mappend([\n\u001b[0;32m     26\u001b[0m     indice,\n\u001b[0;32m     27\u001b[0m     experimento[\u001b[38;5;241m0\u001b[39m], \n\u001b[1;32m   (...)\u001b[0m\n\u001b[0;32m     32\u001b[0m     \u001b[38;5;124mF\u001b[39m\u001b[38;5;124m\"\u001b[39m\u001b[38;5;132;01m{\u001b[39;00mexperimento[\u001b[38;5;241m4\u001b[39m]\u001b[38;5;132;01m}\u001b[39;00m\u001b[38;5;124m.out-\u001b[39m\u001b[38;5;132;01m{\u001b[39;00mnumero\u001b[38;5;132;01m}\u001b[39;00m\u001b[38;5;124m\"\u001b[39m\n\u001b[0;32m     33\u001b[0m ]);\n\u001b[0;32m     35\u001b[0m num_out \u001b[38;5;241m+\u001b[39m\u001b[38;5;241m=\u001b[39m \u001b[38;5;241m1\u001b[39m\n",
      "Cell \u001b[1;32mIn [14], line 25\u001b[0m, in \u001b[0;36mcorrer_experimento\u001b[1;34m(p_value, archivo_instancia, instancia)\u001b[0m\n\u001b[0;32m     23\u001b[0m \u001b[38;5;28;01melse\u001b[39;00m:\n\u001b[0;32m     24\u001b[0m     file_out \u001b[38;5;241m=\u001b[39m \u001b[38;5;124mF\u001b[39m\u001b[38;5;124m\"\u001b[39m\u001b[38;5;132;01m{\u001b[39;00marchivo_instancia\u001b[38;5;132;01m}\u001b[39;00m\u001b[38;5;124m.out\u001b[39m\u001b[38;5;124m\"\u001b[39m\n\u001b[1;32m---> 25\u001b[0m     \u001b[43mos\u001b[49m\u001b[38;5;241;43m.\u001b[39;49m\u001b[43mrename\u001b[49m\u001b[43m(\u001b[49m\u001b[43mfile_out\u001b[49m\u001b[43m,\u001b[49m\u001b[43m \u001b[49m\u001b[38;5;124;43mF\u001b[39;49m\u001b[38;5;124;43m\"\u001b[39;49m\u001b[38;5;132;43;01m{\u001b[39;49;00m\u001b[43mfile_out\u001b[49m\u001b[38;5;132;43;01m}\u001b[39;49;00m\u001b[38;5;124;43m-\u001b[39;49m\u001b[38;5;132;43;01m{\u001b[39;49;00m\u001b[43minstancia\u001b[49m\u001b[38;5;132;43;01m}\u001b[39;49;00m\u001b[38;5;124;43m\"\u001b[39;49m\u001b[43m)\u001b[49m\n\u001b[0;32m     27\u001b[0m \u001b[38;5;66;03m# Leer salida de STDERR con los tiempos de ejecucion de cada metodo.\u001b[39;00m\n\u001b[0;32m     28\u001b[0m process\u001b[38;5;241m.\u001b[39mstdin\u001b[38;5;241m.\u001b[39mclose();\n",
      "\u001b[1;31mFileNotFoundError\u001b[0m: [WinError 3] El sistema no puede encontrar la ruta especificada: 'instancias/referenciadas-n/referenciadas-n-942/Test-referenciadas-n-942.txt.out' -> 'instancias/referenciadas-n/referenciadas-n-942/Test-referenciadas-n-942.txt.out-4'"
     ]
    }
   ],
   "source": [
    "filas = []\n",
    "\n",
    "numero = 0\n",
    "num_out = 1\n",
    "indice = 1\n",
    "exp_actual = experimentos[0][4]\n",
    "# Nuestros resultados dependen del p-valor\n",
    "for experimento in experimentos:\n",
    "    # Voy mostrando que experimento se esta ejecutando.\n",
    "    clear_output(wait=True)\n",
    "    display('Experimento: ' + str(num_out) + \"/\" + str(len(experimentos)))\n",
    "    display('Dataset: ' + str(experimento[0]))\n",
    "    display('Matrix Size: ' + str(experimento[1]))\n",
    "    display('Relationship: ' + str(experimento[2]))\n",
    "    display('P value: ' + str(experimento[3])) \n",
    "    display('Path: ' + str(experimento[4]))\n",
    "    \n",
    "    if(experimento[4] != exp_actual):\n",
    "        numero = 0\n",
    "        indice += 1\n",
    "        exp_actual = experimento[4]\n",
    "        \n",
    "    correr_experimento(experimento[3], experimento[4], numero)\n",
    "    \n",
    "    filas.append([\n",
    "        indice,\n",
    "        experimento[0], \n",
    "        experimento[1], \n",
    "        experimento[2], \n",
    "        experimento[3], \n",
    "        experimento[4], \n",
    "        F\"{experimento[4]}.out-{numero}\"\n",
    "    ]);\n",
    "    \n",
    "    num_out += 1\n",
    "    numero += 1"
   ]
  },
  {
   "cell_type": "code",
   "execution_count": null,
   "metadata": {},
   "outputs": [],
   "source": [
    "columnas = [\"n_exp\", \"dataset\", \"n\", \"M\", \"p-valor\", \"path\", \"path-out\"]\n",
    "df_resultado = pd.DataFrame(filas, columns=columnas);\n",
    "df_resultado.to_csv(\"resultados/resultado-n.csv\", index=False, header=True); "
   ]
  },
  {
   "cell_type": "markdown",
   "metadata": {},
   "source": [
    "## Experimentación de Grupos"
   ]
  },
  {
   "cell_type": "code",
   "execution_count": 12,
   "metadata": {},
   "outputs": [],
   "source": [
    "investigacion_grupos={}\n",
    "experimentos_grupos = []\n",
    "cant_pvalues = 100\n",
    "\n",
    "investigacion_grupos[\"grupos\"]=pd.read_csv(F\"instancias/grupos/indice.csv\")\n",
    "\n",
    "# exp_set es el set de experimentos de los 100 que puede haber en el indice.csv\n",
    "exp_set = list(range(0, 4))\n",
    "\n",
    "# Instancio los 100 p-valores con los que voy a evaluar\n",
    "p_valores = []\n",
    "for i in range(0, cant_pvalues):\n",
    "    p_valores.append(random.uniform(0, 1))\n",
    "    \n",
    "for exp in exp_set:\n",
    "    \"\"\"\n",
    "        Enviamos:\n",
    "            p_valores: arr[] (Valores p)\n",
    "            exp: int (Numero de experimento)\n",
    "            casos_p: string (caso de experimento con valor p)\n",
    "            investigacion[casos_c]: string (caso de experimento)\n",
    "    \"\"\"\n",
    "    agregar_experimentos_grupos(p_valores, exp, investigacion_grupos[\"grupos\"])\n",
    "                    \n",
    "if(not os.path.isdir(\"resultados\")):\n",
    "    os.mkdir(\"resultados\")"
   ]
  },
  {
   "cell_type": "markdown",
   "metadata": {},
   "source": [
    "## Ejecutar los experimentos y guardar los resultados en un archivo CSV.\n",
    "Este paso puede tardar unos minutos hasta terminar de ejecutarse."
   ]
  },
  {
   "cell_type": "markdown",
   "metadata": {},
   "source": [
    "Sabemos que nuestros resultados dependen del p-valor porque nuestras matrices son siempre las \"mismas\".\n",
    "Es decir, dada una matriz, tenemos k p-valores con los que evaluar\n",
    "Usemos eso, la cantidad de experimentos tomados es *cant_exp* y para cada uno hay *cant_pvalues*"
   ]
  },
  {
   "cell_type": "code",
   "execution_count": 4,
   "metadata": {},
   "outputs": [
    {
     "ename": "NameError",
     "evalue": "name 'experimentos_grupos' is not defined",
     "output_type": "error",
     "traceback": [
      "\u001b[1;31m---------------------------------------------------------------------------\u001b[0m",
      "\u001b[1;31mNameError\u001b[0m                                 Traceback (most recent call last)",
      "Cell \u001b[1;32mIn [4], line 6\u001b[0m\n\u001b[0;32m      4\u001b[0m num_out \u001b[38;5;241m=\u001b[39m \u001b[38;5;241m1\u001b[39m\n\u001b[0;32m      5\u001b[0m indice \u001b[38;5;241m=\u001b[39m \u001b[38;5;241m1\u001b[39m\n\u001b[1;32m----> 6\u001b[0m exp_actual \u001b[38;5;241m=\u001b[39m \u001b[43mexperimentos_grupos\u001b[49m[\u001b[38;5;241m0\u001b[39m][\u001b[38;5;241m4\u001b[39m]\n\u001b[0;32m      7\u001b[0m \u001b[38;5;66;03m# Nuestros resultados dependen del p-valor\u001b[39;00m\n\u001b[0;32m     10\u001b[0m \u001b[38;5;28;01mfor\u001b[39;00m experimento \u001b[38;5;129;01min\u001b[39;00m experimentos_grupos:\n\u001b[0;32m     11\u001b[0m     \u001b[38;5;66;03m# Voy mostrando que experimento se esta ejecutando.\u001b[39;00m\n",
      "\u001b[1;31mNameError\u001b[0m: name 'experimentos_grupos' is not defined"
     ]
    }
   ],
   "source": [
    "filas_grupos = []\n",
    "\n",
    "numero = 0\n",
    "num_out = 1\n",
    "indice = 1\n",
    "exp_actual = experimentos_grupos[0][4]\n",
    "# Nuestros resultados dependen del p-valor\n",
    "\n",
    "\n",
    "for experimento in experimentos_grupos:\n",
    "    # Voy mostrando que experimento se esta ejecutando.\n",
    "    clear_output(wait=True)\n",
    "    display('Experimento: ' + str(num_out) + \"/\" + str(len(experimentos_grupos)))\n",
    "    display('Dataset: ' + str(experimento[0]))\n",
    "    display('Matrix Size: ' + str(experimento[1]))\n",
    "    display('Relationship: ' + str(experimento[2]))\n",
    "    display('P value: ' + str(experimento[3])) \n",
    "    display('Path: ' + str(experimento[4]))\n",
    "    \n",
    "    if(experimento[4] != exp_actual):\n",
    "        numero = 0\n",
    "        indice += 1\n",
    "        exp_actual = experimento[4]\n",
    "        \n",
    "    correr_experimento(experimento[3], experimento[4], numero)\n",
    "    \n",
    "    filas_grupos.append([\n",
    "        indice,\n",
    "        experimento[0], \n",
    "        experimento[1], \n",
    "        experimento[2], \n",
    "        experimento[3], \n",
    "        experimento[4], \n",
    "        F\"{experimento[4]}.out-{numero}\"\n",
    "    ]);\n",
    "    \n",
    "    num_out += 1\n",
    "    numero += 1"
   ]
  },
  {
   "cell_type": "code",
   "execution_count": 14,
   "metadata": {},
   "outputs": [],
   "source": [
    "columnas = [\"n_exp\", \"dataset\", \"n\", \"M\", \"p-valor\", \"path\", \"path-out\"]\n",
    "df_resultado = pd.DataFrame(filas_grupos, columns=columnas);\n",
    "df_resultado.to_csv(\"resultados/resultado-grupos.csv\", index=False, header=True); "
   ]
  },
  {
   "cell_type": "markdown",
   "metadata": {},
   "source": [
    "# Evaluacion de test de 15 segundos"
   ]
  },
  {
   "cell_type": "code",
   "execution_count": 17,
   "metadata": {},
   "outputs": [],
   "source": [
    "investigacion={}\n",
    "experimentos_segundos = []\n",
    "cant_pvalues = 100\n",
    "p_valores = []\n",
    "for i in range(0, 50):\n",
    "    p_valores.append(random.uniform(0, 1))\n",
    "    \n",
    "for i in range(0, len(p_valores)):\n",
    "    # p_valores[i] contiene el i-esimo p_valor de exp_num\n",
    "    \"\"\"\n",
    "        fila_n[\"dataset\"]: El dataset al que pertenece\n",
    "        fila_n[\"n\"]: La cantidad de filas y columnas\n",
    "        fila_n[\"M\"]: La cantidad de relaciones\n",
    "        p_caso: El caso de p-valor a evaluar\n",
    "        p_value: El p-valor\n",
    "        fila_n[\"archivo\"]: El path del archivo\n",
    "    \"\"\"\n",
    "    experimentos_segundos.append([\n",
    "        \"test-15-segundos\", \n",
    "        2000, \n",
    "        12000, \n",
    "        p_valores[i], \n",
    "        F\"instancias/test-15-segundos/test-15-segundos.txt\"\n",
    "    ])\n",
    "\n",
    "for i in range(0, len(p_valores)):\n",
    "    # p_valores[i] contiene el i-esimo p_valor de exp_num\n",
    "    \"\"\"\n",
    "        fila_n[\"dataset\"]: El dataset al que pertenece\n",
    "        fila_n[\"n\"]: La cantidad de filas y columnas\n",
    "        fila_n[\"M\"]: La cantidad de relaciones\n",
    "        p_caso: El caso de p-valor a evaluar\n",
    "        p_value: El p-valor\n",
    "        fila_n[\"archivo\"]: El path del archivo\n",
    "    \"\"\"\n",
    "    experimentos_segundos.append([\n",
    "        \"test-30-segundos\", \n",
    "        3000, \n",
    "        18000, \n",
    "        p_valores[i], \n",
    "        F\"instancias/test-30-segundos/test-30-segundos.txt\"\n",
    "    ])\n",
    "\n",
    "if(not os.path.isdir(\"resultados\")):\n",
    "    os.mkdir(\"resultados\")"
   ]
  },
  {
   "cell_type": "code",
   "execution_count": 18,
   "metadata": {
    "scrolled": true
   },
   "outputs": [
    {
     "data": {
      "text/plain": [
       "100"
      ]
     },
     "execution_count": 18,
     "metadata": {},
     "output_type": "execute_result"
    }
   ],
   "source": [
    "len(experimentos_segundos)"
   ]
  },
  {
   "cell_type": "code",
   "execution_count": 19,
   "metadata": {
    "scrolled": true
   },
   "outputs": [
    {
     "data": {
      "text/plain": [
       "'Experimento: 100/100'"
      ]
     },
     "metadata": {},
     "output_type": "display_data"
    },
    {
     "data": {
      "text/plain": [
       "'Dataset: test-30-segundos'"
      ]
     },
     "metadata": {},
     "output_type": "display_data"
    },
    {
     "data": {
      "text/plain": [
       "'Matrix Size: 3000'"
      ]
     },
     "metadata": {},
     "output_type": "display_data"
    },
    {
     "data": {
      "text/plain": [
       "'Relationship: 18000'"
      ]
     },
     "metadata": {},
     "output_type": "display_data"
    },
    {
     "data": {
      "text/plain": [
       "'P value: 0.6420735783587316'"
      ]
     },
     "metadata": {},
     "output_type": "display_data"
    },
    {
     "data": {
      "text/plain": [
       "'Path: instancias/test-30-segundos/test-30-segundos.txt'"
      ]
     },
     "metadata": {},
     "output_type": "display_data"
    }
   ],
   "source": [
    "filas_segundos = []\n",
    "numero = 0\n",
    "num_out = 1\n",
    "indice = 1\n",
    "\n",
    "exp_actual = experimentos_segundos[0][4]\n",
    "\n",
    "for experimento in experimentos_segundos:\n",
    "    # Voy mostrando que experimento se esta ejecutando.\n",
    "    clear_output(wait=True)\n",
    "    display('Experimento: ' + str(num_out) + \"/\" + str(len(experimentos_segundos)))\n",
    "    display('Dataset: ' + str(experimento[0]))\n",
    "    display('Matrix Size: ' + str(experimento[1]))\n",
    "    display('Relationship: ' + str(experimento[2]))\n",
    "    display('P value: ' + str(experimento[3])) \n",
    "    display('Path: ' + str(experimento[4]))\n",
    "    \n",
    "    if(experimento[4] != exp_actual):\n",
    "        numero = 0\n",
    "        indice += 1\n",
    "        exp_actual = experimento[4]\n",
    "    \n",
    "    correr_experimento(experimento[3], experimento[4], numero)\n",
    "    \n",
    "    filas_segundos.append([\n",
    "        indice,\n",
    "        experimento[0], \n",
    "        experimento[1], \n",
    "        experimento[2], \n",
    "        experimento[3], \n",
    "        experimento[4], \n",
    "        F\"{experimento[4]}.out-{numero}\"\n",
    "    ]);\n",
    "    \n",
    "    num_out += 1\n",
    "    numero += 1"
   ]
  },
  {
   "cell_type": "code",
   "execution_count": 20,
   "metadata": {},
   "outputs": [],
   "source": [
    "columnas = [\"n_exp\", \"dataset\", \"n\", \"M\", \"p-valor\", \"path\", \"path-out\"]\n",
    "df_resultado = pd.DataFrame(filas_segundos, columns=columnas);\n",
    "df_resultado.to_csv(\"resultados/resultado-segundos.csv\", index=False, header=True); "
   ]
  },
  {
   "cell_type": "markdown",
   "metadata": {},
   "source": [
    "## Nuevo experimento de referencias y un grupo completo"
   ]
  },
  {
   "cell_type": "code",
   "execution_count": null,
   "metadata": {},
   "outputs": [],
   "source": [
    "investigacion={}\n",
    "casos = [\"referenciadas-new\"]\n",
    "experimentos = []\n",
    "cant_pvalues = 100\n",
    "\n",
    "for caso in casos:\n",
    "    investigacion[caso]=pd.read_csv(F\"instancias/{caso}/indice.csv\")\n",
    "\n",
    "p_valores = []\n",
    "for i in range(0, cant_pvalues):\n",
    "    p_valores.append(random.uniform(0, 1))\n",
    "    \n",
    "for caso in casos:\n",
    "    # exp_set es el set de experimentos de los 100 que puede haber en el indice.csv\n",
    "    exp_set = list(range(2,14))\n",
    "    for exp in exp_set:\n",
    "            #if casos_p == \"random\":\n",
    "            #    p_valores.append(random.uniform(0, 1))\n",
    "            #if casos_p == \"pbajo\":\n",
    "            #    p_valores.append(random.uniform(0, 1))\n",
    "            #if casos_p == \"palto\":\n",
    "            #    p_valores.append(random.uniform(0, 1))       \n",
    "        # En este punto ya tengo los 10 p-valores buscados, ahora solo se lo envio a agregar_experimento\n",
    "        \"\"\"\n",
    "            Enviamos:\n",
    "                p_valores: arr[] (Valores p)\n",
    "                exp: int (Numero de experimento)\n",
    "                casos_p: string (caso de experimento con valor p)\n",
    "                investigacion[casos_c]: string (caso de experimento)\n",
    "        \"\"\"\n",
    "        agregar_experimentos(p_valores, exp, investigacion[caso])\n",
    "                    \n",
    "if(not os.path.isdir(\"resultados\")):\n",
    "    os.mkdir(\"resultados\")"
   ]
  },
  {
   "cell_type": "code",
   "execution_count": null,
   "metadata": {},
   "outputs": [],
   "source": [
    "filas = []\n",
    "\n",
    "numero = 0\n",
    "num_out = 1\n",
    "indice = 1\n",
    "exp_actual = experimentos[0][4]\n",
    "# Nuestros resultados dependen del p-valor\n",
    "for experimento in experimentos:\n",
    "    # Voy mostrando que experimento se esta ejecutando.\n",
    "    clear_output(wait=True)\n",
    "    display('Experimento: ' + str(num_out) + \"/\" + str(len(experimentos)))\n",
    "    display('Dataset: ' + str(experimento[0]))\n",
    "    display('Matrix Size: ' + str(experimento[1]))\n",
    "    display('Relationship: ' + str(experimento[2]))\n",
    "    display('P value: ' + str(experimento[3])) \n",
    "    display('Path: ' + str(experimento[4]))\n",
    "    \n",
    "    if(experimento[4] != exp_actual):\n",
    "        numero = 0\n",
    "        indice += 1\n",
    "        exp_actual = experimento[4]\n",
    "        \n",
    "    correr_experimento(experimento[3], experimento[4], numero)\n",
    "    \n",
    "    filas.append([\n",
    "        indice,\n",
    "        experimento[0], \n",
    "        experimento[1], \n",
    "        experimento[2], \n",
    "        experimento[3], \n",
    "        experimento[4], \n",
    "        F\"{experimento[4]}.out-{numero}\"\n",
    "    ]);\n",
    "    \n",
    "    num_out += 1\n",
    "    numero += 1"
   ]
  },
  {
   "cell_type": "code",
   "execution_count": null,
   "metadata": {},
   "outputs": [],
   "source": [
    "columnas = [\"n_exp\", \"dataset\", \"n\", \"M\", \"p-valor\", \"path\", \"path-out\"]\n",
    "df_resultado = pd.DataFrame(filas, columns=columnas);\n",
    "df_resultado.to_csv(\"resultados/resultado-new.csv\", index=False, header=True); "
   ]
  }
 ],
 "metadata": {
  "kernelspec": {
   "display_name": "Python 3 (ipykernel)",
   "language": "python",
   "name": "python3"
  },
  "language_info": {
   "codemirror_mode": {
    "name": "ipython",
    "version": 3
   },
   "file_extension": ".py",
   "mimetype": "text/x-python",
   "name": "python",
   "nbconvert_exporter": "python",
   "pygments_lexer": "ipython3",
   "version": "3.8.0"
  },
  "vscode": {
   "interpreter": {
    "hash": "048ffb85d764fb63f5c1aed323785b15d6917b635b5bcedee59f8ef66ef1e14d"
   }
  }
 },
 "nbformat": 4,
 "nbformat_minor": 4
}
