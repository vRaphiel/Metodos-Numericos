{
 "cells": [
  {
   "cell_type": "code",
   "execution_count": 2,
   "id": "4ca96279",
   "metadata": {},
   "outputs": [],
   "source": [
    "import random, math\n",
    "import pandas as pd\n",
    "import numpy as np\n",
    "import os\n",
    "random.seed(12345)"
   ]
  },
  {
   "cell_type": "code",
   "execution_count": 3,
   "id": "d51039a5",
   "metadata": {},
   "outputs": [],
   "source": [
    "# Generar txt y guardar instancia\n",
    "def save_instance(dataset, instance_name, n, M, relaciones): \n",
    "    if(not os.path.isdir(\"instancias\")):\n",
    "        os.mkdir(\"instancias\")\n",
    "    if(not os.path.isdir(F\"instancias/{dataset}\")):\n",
    "        os.mkdir(F\"instancias/{dataset}\")\n",
    "    with open(F\"instancias/{dataset}/{instance_name}.txt\", \"w\") as f:\n",
    "        print(n, file=f)\n",
    "        print(M, file=f)\n",
    "        for i in range(0, len(relaciones)):\n",
    "            for j in range(0, len(relaciones[i])):\n",
    "                print(relaciones[i][j], file=f, end=\" \")\n",
    "            print(file=f, end=\"\\n\")"
   ]
  },
  {
   "cell_type": "code",
   "execution_count": 4,
   "id": "569a3194",
   "metadata": {},
   "outputs": [],
   "source": [
    "def guardar_caso_instancias_enCSV(caso,arr_instancias):\n",
    "    pd.DataFrame(arr_instancias, columns=[\"dataset\", \"instancia\", \"n\", \"M\", \"archivo\"]).to_csv(F\"instancias/{caso}/indice.csv\", index=False, header=True)"
   ]
  },
  {
   "cell_type": "markdown",
   "id": "21d14bac",
   "metadata": {},
   "source": [
    "# Caso matrices Random"
   ]
  },
  {
   "cell_type": "code",
   "execution_count": 5,
   "id": "a429925f-332d-408d-9748-c3bdf2f32107",
   "metadata": {
    "scrolled": false
   },
   "outputs": [],
   "source": [
    "caso=\"random\";\n",
    "arr_instancias = []\n",
    "for i in range(1, 101):\n",
    "    relaciones = []\n",
    "\n",
    "    n = random.randint(0, 30)\n",
    "    M = 0\n",
    "        \n",
    "    filas = list(range(1, (n+1)))\n",
    "    columnas = list(range(1, (n+1)))\n",
    "\n",
    "    filas_n = random.randint(0, n)\n",
    "    filas_arr = random.sample(filas, filas_n)\n",
    "    \n",
    "    for fila in filas_arr:\n",
    "        columnas_top = list(range(1, fila))\n",
    "        columnas_bottom = list(range(fila+1, n))\n",
    "        columnas_total = columnas_top + columnas_bottom\n",
    "        \n",
    "        columnas_n = random.randint(0, len(columnas_total))\n",
    "        columnas_arr = random.sample(columnas_total, columnas_n)\n",
    "        \n",
    "        for columna in columnas_arr:\n",
    "            relacion = [fila, columna]\n",
    "            relaciones.append(relacion)\n",
    "            M = M + 1\n",
    "        \n",
    "\n",
    "    save_instance(caso, F\"Test-{caso}-{i}\", n, M, relaciones)\n",
    "    arr_instancias.append([caso, F\"Test-{caso}-{i}\", n, M, F\"instancias/{caso}/Test-{caso}-{i}.txt\"])\n",
    "\n",
    "guardar_caso_instancias_enCSV(caso,arr_instancias)"
   ]
  },
  {
   "cell_type": "markdown",
   "id": "946194d1",
   "metadata": {},
   "source": [
    "# Caso matrices Densas"
   ]
  },
  {
   "cell_type": "code",
   "execution_count": 7,
   "id": "4b45442b",
   "metadata": {
    "scrolled": true
   },
   "outputs": [
    {
     "ename": "KeyboardInterrupt",
     "evalue": "",
     "output_type": "error",
     "traceback": [
      "\u001b[1;31m---------------------------------------------------------------------------\u001b[0m",
      "\u001b[1;31mKeyboardInterrupt\u001b[0m                         Traceback (most recent call last)",
      "Cell \u001b[1;32mIn [7], line 30\u001b[0m\n\u001b[0;32m     26\u001b[0m             relaciones\u001b[38;5;241m.\u001b[39mappend(relacion)\n\u001b[0;32m     27\u001b[0m             M \u001b[38;5;241m=\u001b[39m M \u001b[38;5;241m+\u001b[39m \u001b[38;5;241m1\u001b[39m\n\u001b[1;32m---> 30\u001b[0m     \u001b[43msave_instance\u001b[49m\u001b[43m(\u001b[49m\u001b[43mcaso\u001b[49m\u001b[43m,\u001b[49m\u001b[43m \u001b[49m\u001b[38;5;124;43mF\u001b[39;49m\u001b[38;5;124;43m\"\u001b[39;49m\u001b[38;5;124;43mTest-\u001b[39;49m\u001b[38;5;132;43;01m{\u001b[39;49;00m\u001b[43mcaso\u001b[49m\u001b[38;5;132;43;01m}\u001b[39;49;00m\u001b[38;5;124;43m-\u001b[39;49m\u001b[38;5;132;43;01m{\u001b[39;49;00m\u001b[43mi\u001b[49m\u001b[38;5;132;43;01m}\u001b[39;49;00m\u001b[38;5;124;43m\"\u001b[39;49m\u001b[43m,\u001b[49m\u001b[43m \u001b[49m\u001b[43mn\u001b[49m\u001b[43m,\u001b[49m\u001b[43m \u001b[49m\u001b[43mM\u001b[49m\u001b[43m,\u001b[49m\u001b[43m \u001b[49m\u001b[43mrelaciones\u001b[49m\u001b[43m)\u001b[49m\n\u001b[0;32m     31\u001b[0m     arr_instancias\u001b[38;5;241m.\u001b[39mappend([caso, \u001b[38;5;124mF\u001b[39m\u001b[38;5;124m\"\u001b[39m\u001b[38;5;124mTest-\u001b[39m\u001b[38;5;132;01m{\u001b[39;00mcaso\u001b[38;5;132;01m}\u001b[39;00m\u001b[38;5;124m-\u001b[39m\u001b[38;5;132;01m{\u001b[39;00mi\u001b[38;5;132;01m}\u001b[39;00m\u001b[38;5;124m\"\u001b[39m, n, M, \u001b[38;5;124mF\u001b[39m\u001b[38;5;124m\"\u001b[39m\u001b[38;5;124minstancias/\u001b[39m\u001b[38;5;132;01m{\u001b[39;00mcaso\u001b[38;5;132;01m}\u001b[39;00m\u001b[38;5;124m/Test-\u001b[39m\u001b[38;5;132;01m{\u001b[39;00mcaso\u001b[38;5;132;01m}\u001b[39;00m\u001b[38;5;124m-\u001b[39m\u001b[38;5;132;01m{\u001b[39;00mi\u001b[38;5;132;01m}\u001b[39;00m\u001b[38;5;124m.txt\u001b[39m\u001b[38;5;124m\"\u001b[39m])\n\u001b[0;32m     33\u001b[0m guardar_caso_instancias_enCSV(caso,arr_instancias)\n",
      "Cell \u001b[1;32mIn [3], line 12\u001b[0m, in \u001b[0;36msave_instance\u001b[1;34m(dataset, instance_name, n, M, relaciones)\u001b[0m\n\u001b[0;32m     10\u001b[0m \u001b[38;5;28;01mfor\u001b[39;00m i \u001b[38;5;129;01min\u001b[39;00m \u001b[38;5;28mrange\u001b[39m(\u001b[38;5;241m0\u001b[39m, \u001b[38;5;28mlen\u001b[39m(relaciones)):\n\u001b[0;32m     11\u001b[0m     \u001b[38;5;28;01mfor\u001b[39;00m j \u001b[38;5;129;01min\u001b[39;00m \u001b[38;5;28mrange\u001b[39m(\u001b[38;5;241m0\u001b[39m, \u001b[38;5;28mlen\u001b[39m(relaciones[i])):\n\u001b[1;32m---> 12\u001b[0m         \u001b[38;5;28;43mprint\u001b[39;49m\u001b[43m(\u001b[49m\u001b[43mrelaciones\u001b[49m\u001b[43m[\u001b[49m\u001b[43mi\u001b[49m\u001b[43m]\u001b[49m\u001b[43m[\u001b[49m\u001b[43mj\u001b[49m\u001b[43m]\u001b[49m\u001b[43m,\u001b[49m\u001b[43m \u001b[49m\u001b[43mfile\u001b[49m\u001b[38;5;241;43m=\u001b[39;49m\u001b[43mf\u001b[49m\u001b[43m,\u001b[49m\u001b[43m \u001b[49m\u001b[43mend\u001b[49m\u001b[38;5;241;43m=\u001b[39;49m\u001b[38;5;124;43m\"\u001b[39;49m\u001b[38;5;124;43m \u001b[39;49m\u001b[38;5;124;43m\"\u001b[39;49m\u001b[43m)\u001b[49m\n\u001b[0;32m     13\u001b[0m     \u001b[38;5;28mprint\u001b[39m(file\u001b[38;5;241m=\u001b[39mf, end\u001b[38;5;241m=\u001b[39m\u001b[38;5;124m\"\u001b[39m\u001b[38;5;130;01m\\n\u001b[39;00m\u001b[38;5;124m\"\u001b[39m)\n",
      "\u001b[1;31mKeyboardInterrupt\u001b[0m: "
     ]
    }
   ],
   "source": [
    "caso=\"densas\"\n",
    "\n",
    "arr_instancias = []\n",
    "for i in range(1, 101):\n",
    "    relaciones = []\n",
    "\n",
    "    n = 1000\n",
    "    M = 0\n",
    "        \n",
    "    filas = list(range(1, (n+1)))\n",
    "    columnas = list(range(1, (n+1)))\n",
    "\n",
    "    filas_n = 30\n",
    "    filas_arr = random.sample(filas, filas_n)\n",
    "    \n",
    "    for fila in filas_arr:\n",
    "        columnas_top = list(range(1, fila))\n",
    "        columnas_bottom = list(range(fila+1, n))\n",
    "        columnas_total = columnas_top + columnas_bottom\n",
    "        \n",
    "        columnas_n = random.randint(int(len(columnas_total)/2), len(columnas_total))\n",
    "        columnas_arr = random.sample(columnas_total, columnas_n)\n",
    "        \n",
    "        for columna in columnas_arr:\n",
    "            relacion = [fila, columna]\n",
    "            relaciones.append(relacion)\n",
    "            M = M + 1\n",
    "        \n",
    "\n",
    "    save_instance(caso, F\"Test-{caso}-{i}\", n, M, relaciones)\n",
    "    arr_instancias.append([caso, F\"Test-{caso}-{i}\", n, M, F\"instancias/{caso}/Test-{caso}-{i}.txt\"])\n",
    "\n",
    "guardar_caso_instancias_enCSV(caso,arr_instancias)"
   ]
  },
  {
   "cell_type": "markdown",
   "id": "6d1a62e8",
   "metadata": {},
   "source": [
    "# Caso matrices Ralas"
   ]
  },
  {
   "cell_type": "code",
   "execution_count": 6,
   "id": "9234695a",
   "metadata": {},
   "outputs": [],
   "source": [
    "caso=\"ralas\"\n",
    "\n",
    "arr_instancias = []\n",
    "for i in range(1, 101):\n",
    "    relaciones = []\n",
    "\n",
    "    n = random.randint(0, 30)\n",
    "    M = 0\n",
    "        \n",
    "    filas = list(range(1, (n+1)))\n",
    "    columnas = list(range(1, (n+1)))\n",
    "\n",
    "    filas_n = random.randint(0, int(n/4))\n",
    "    filas_arr = random.sample(filas, filas_n)\n",
    "    \n",
    "    for fila in filas_arr:\n",
    "        columnas_top = list(range(1, fila))\n",
    "        columnas_bottom = list(range(fila+1, n))\n",
    "        columnas_total = columnas_top + columnas_bottom\n",
    "        \n",
    "        columnas_n = random.randint(0, int(len(columnas_total)/2))\n",
    "        columnas_arr = random.sample(columnas_total, columnas_n)\n",
    "        \n",
    "        for columna in columnas_arr:\n",
    "            relacion = [fila, columna]\n",
    "            relaciones.append(relacion)\n",
    "            M = M + 1\n",
    "        \n",
    "\n",
    "    save_instance(caso, F\"Test-{caso}-{i}\", n, M, relaciones)\n",
    "    arr_instancias.append([caso, F\"Test-{caso}-{i}\", n, M, F\"instancias/{caso}/Test-{caso}-{i}.txt\"])\n",
    "\n",
    "guardar_caso_instancias_enCSV(caso,arr_instancias)"
   ]
  },
  {
   "cell_type": "code",
   "execution_count": 9,
   "id": "faee922d",
   "metadata": {},
   "outputs": [],
   "source": [
    "caso=\"una-sola\"\n",
    "\n",
    "arr_instancias = []\n",
    "for i in range(1, 101):\n",
    "    relaciones = []\n",
    "\n",
    "    n = 1000\n",
    "    M = 0\n",
    "        \n",
    "    filas = list(range(1, (n+1)))\n",
    "    columnas = list(range(1, (n+1)))\n",
    "\n",
    "    filas_n = 10\n",
    "    filas_arr = random.sample(filas, filas_n)\n",
    "    \n",
    "    for fila in filas_arr:\n",
    "        columnas_top = list(range(1, fila))\n",
    "        columnas_bottom = list(range(fila+1, n))\n",
    "        columnas_total = columnas_top + columnas_bottom\n",
    "        \n",
    "        columnas_n = 200\n",
    "        columnas_arr = random.sample(columnas_total, columnas_n)\n",
    "        \n",
    "        for columna in columnas_arr:\n",
    "            relacion = [columna, fila]\n",
    "            relaciones.append(relacion)\n",
    "            M = M + 1        \n",
    "        \n",
    "    save_instance(caso, F\"Test-{caso}-{i}\", n, M, relaciones)\n",
    "    arr_instancias.append([caso, F\"Test-{caso}-{i}\", n, M, F\"instancias/{caso}/Test-{caso}-{i}.txt\"])\n",
    "\n",
    "guardar_caso_instancias_enCSV(caso,arr_instancias)"
   ]
  },
  {
   "cell_type": "code",
   "execution_count": 16,
   "id": "f545709a",
   "metadata": {},
   "outputs": [],
   "source": [
    "caso=\"referenciadas\"\n",
    "\n",
    "arr_instancias = []\n",
    "for i in range(1, 101):\n",
    "    relaciones = []\n",
    "\n",
    "    n = random.randint(700, 1300)\n",
    "    M = 0\n",
    "        \n",
    "    filas = list(range(1, (n+1)))\n",
    "    columnas = list(range(1, (n+1)))\n",
    "\n",
    "    filas_n = 10\n",
    "    filas_arr = random.sample(filas, filas_n)\n",
    "    \n",
    "    fila_mayor_relacion = random.randint(0, filas_n)\n",
    "    valor = 0\n",
    "    \n",
    "    for fila in filas_arr:\n",
    "        if valor == fila_mayor_relacion:\n",
    "            columnas_top = list(range(1, fila))\n",
    "            columnas_bottom = list(range(fila+1, n))\n",
    "            columnas_total = columnas_top + columnas_bottom\n",
    "\n",
    "            columnas_n = random.randint(int(len(columnas_total)/2), len(columnas_total))\n",
    "            columnas_arr = random.sample(columnas_total, columnas_n)\n",
    "\n",
    "            for columna in columnas_arr:\n",
    "                relacion = [columna, fila]\n",
    "                relaciones.append(relacion)\n",
    "                M = M + 1  \n",
    "        else:\n",
    "            columnas_top = list(range(1, fila))\n",
    "            columnas_bottom = list(range(fila+1, n))\n",
    "            columnas_total = columnas_top + columnas_bottom\n",
    "\n",
    "            columnas_n = random.randint(0, int(len(columnas_total)/8))\n",
    "            columnas_arr = random.sample(columnas_total, columnas_n)\n",
    "\n",
    "            for columna in columnas_arr:\n",
    "                relacion = [columna, fila]\n",
    "                relaciones.append(relacion)\n",
    "                M = M + 1  \n",
    "            \n",
    "        valor = valor + 1\n",
    "        \n",
    "    save_instance(caso, F\"Test-{caso}-{i}\", n, M, relaciones)\n",
    "    arr_instancias.append([caso, F\"Test-{caso}-{i}\", n, M, F\"instancias/{caso}/Test-{caso}-{i}.txt\"])\n",
    "\n",
    "guardar_caso_instancias_enCSV(caso,arr_instancias)"
   ]
  },
  {
   "cell_type": "code",
   "execution_count": null,
   "id": "0f130273",
   "metadata": {},
   "outputs": [],
   "source": []
  }
 ],
 "metadata": {
  "kernelspec": {
   "display_name": "Python 3 (ipykernel)",
   "language": "python",
   "name": "python3"
  },
  "language_info": {
   "codemirror_mode": {
    "name": "ipython",
    "version": 3
   },
   "file_extension": ".py",
   "mimetype": "text/x-python",
   "name": "python",
   "nbconvert_exporter": "python",
   "pygments_lexer": "ipython3",
   "version": "3.8.0"
  }
 },
 "nbformat": 4,
 "nbformat_minor": 5
}
