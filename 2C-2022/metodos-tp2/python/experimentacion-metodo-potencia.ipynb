{
 "cells": [
  {
   "cell_type": "markdown",
   "metadata": {},
   "source": [
    "# Correr experimentos\n",
    "En este archivo está el código para correr los experimentos, hacer el estudio de las cosas y escribir los resultados en archivos CSV.\n",
    "> Los archivos se guardan en la carpeta _resultados_."
   ]
  },
  {
   "cell_type": "code",
   "execution_count": 1,
   "metadata": {},
   "outputs": [],
   "source": [
    "import math, subprocess\n",
    "import pandas as pd\n",
    "import numpy as np\n",
    "import seaborn as sns\n",
    "import random, math\n",
    "import os\n",
    "import shutil\n",
    "import matplotlib.pyplot as plt\n",
    "from IPython.display import display, clear_output\n",
    "import sys"
   ]
  },
  {
   "cell_type": "markdown",
   "metadata": {},
   "source": [
    "## Metodo de la potencia"
   ]
  },
  {
   "cell_type": "code",
   "execution_count": 2,
   "metadata": {},
   "outputs": [],
   "source": [
    "def power_iteration(A, niter, eps, num):\n",
    "    b = np.ones(A.shape[1])\n",
    "    b = b / np.linalg.norm(b)\n",
    "    iteracion = 0\n",
    "\n",
    "    for i in range(niter):\n",
    "        old = b\n",
    "        b = A @ b\n",
    "        \n",
    "        norm = np.linalg.norm(b)\n",
    "        b = b / norm\n",
    "        cos_angle = np.dot(b, old)\n",
    "        if (1 - eps) < cos_angle <= 1:\n",
    "            iteracion = i\n",
    "            print(F\"Pare en iteración: {i} del calculo del autovalor {num+1}\")\n",
    "            break\n",
    "    Ab = A @ b\n",
    "    eigenvalue = np.dot(b, Ab)\n",
    "    return eigenvalue, b, iteracion"
   ]
  },
  {
   "cell_type": "code",
   "execution_count": 3,
   "metadata": {},
   "outputs": [],
   "source": [
    "def power_iteration_without_eps(A, niter, eps):\n",
    "    b = np.ones(A.shape[1])\n",
    "    b = b / np.linalg.norm(b)\n",
    "\n",
    "    for i in range(niter):\n",
    "        old = b\n",
    "        b = A @ b\n",
    "        \n",
    "        norm = np.linalg.norm(b)\n",
    "        b = b / norm\n",
    "        cos_angle = np.dot(b, old)\n",
    "    Ab = A @ b\n",
    "    eigenvalue = np.dot(b, Ab)\n",
    "    return eigenvalue, b"
   ]
  },
  {
   "cell_type": "code",
   "execution_count": 4,
   "metadata": {},
   "outputs": [],
   "source": [
    "def eig(A, niter, eps):\n",
    "    A_aux = A.copy()\n",
    "    iteraciones = []\n",
    "    eigenvalues = []\n",
    "    eigenvectors = np.zeros((A_aux.shape[0], A.shape[0]))\n",
    "    for i in range(0, len(A)):\n",
    "        l, v, it = power_iteration(A, niter, eps, i)\n",
    "        iteraciones.append(it)\n",
    "        eigenvalues.append(l)\n",
    "        eigenvectors[:, i] = v\n",
    "        A = A - l * np.outer(v, v)\n",
    "    return np.array(eigenvalues), eigenvectors, iteraciones"
   ]
  },
  {
   "cell_type": "code",
   "execution_count": 5,
   "metadata": {},
   "outputs": [],
   "source": [
    "def eig_without_eps(A, niter, eps):\n",
    "    A_aux = A.copy()\n",
    "    eigenvalues = []\n",
    "    iteraciones = []\n",
    "    eigenvectors = np.zeros((A_aux.shape[0], A.shape[0]))\n",
    "    for i in range(0, len(A)):\n",
    "        l, v = power_iteration_without_eps(A, niter, eps)\n",
    "        eigenvalues.append(l)\n",
    "        eigenvectors[:, i] = v\n",
    "        A = A - l * np.outer(v, v)\n",
    "    return np.array(eigenvalues), eigenvectors"
   ]
  },
  {
   "cell_type": "code",
   "execution_count": 6,
   "metadata": {},
   "outputs": [],
   "source": [
    "def abs_val(num):\n",
    "    if num < 0:\n",
    "        return (-1)*num\n",
    "    return num"
   ]
  },
  {
   "cell_type": "markdown",
   "metadata": {},
   "source": [
    "## Lectura de matrices, ejecución de experimentos y formateo de datos"
   ]
  },
  {
   "cell_type": "code",
   "execution_count": 7,
   "metadata": {},
   "outputs": [],
   "source": [
    "def correr_experimento(archivo_instancia, iteraciones, convergencia):\n",
    "    process = subprocess.Popen(\n",
    "        [\"./metodo_potencia\", archivo_instancia, str(iteraciones), str(convergencia)], \n",
    "        stderr=subprocess.PIPE, \n",
    "        stdout=subprocess.PIPE, \n",
    "        stdin=subprocess.PIPE, \n",
    "        universal_newlines = True)\n",
    "    exit_code = process.wait()\n",
    "    if exit_code != 0: \n",
    "        print(F\"Hubo un error en la experimentacion con la instancia {archivo_instancia}\")\n",
    "        \n",
    "    process.stdin.close();\n",
    "    process.stdout.close();\n",
    "    process.stderr.close();"
   ]
  },
  {
   "cell_type": "code",
   "execution_count": 9,
   "metadata": {},
   "outputs": [],
   "source": [
    "def leer_resultados(eigenvalues_path, eigenvectors_path):\n",
    "    with open(eigenvalues_path,'rt') as filedata:\n",
    "        eigenvalues = np.genfromtxt(eigenvalues_path, dtype=None, unpack=True)\n",
    "    \n",
    "    with open(eigenvectors_path,'rt') as filedata:\n",
    "        eigenvectors = np.genfromtxt(eigenvectors_path, dtype=None, unpack=True)\n",
    "    return [eigenvalues, eigenvectors]"
   ]
  },
  {
   "cell_type": "code",
   "execution_count": 8,
   "metadata": {},
   "outputs": [],
   "source": [
    "def leer_matriz_completa(path_instancia):\n",
    "    matrix = np.loadtxt(path_instancia, dtype='i', delimiter=' ')\n",
    "    return matrix"
   ]
  },
  {
   "cell_type": "code",
   "execution_count": 10,
   "metadata": {},
   "outputs": [],
   "source": [
    "def impresion_de_datos(eigenvalues, eigenvectors):\n",
    "    print(\"Los autovalores obtenidos son: \")\n",
    "    for i in range(0, len(eigenvalues)):\n",
    "        print(F\"Resultado {i+1}\")\n",
    "        print(F\"Autovalor = {eigenvalues[i]}\")\n",
    "        print(F\"Autovector = {eigenvectors[i]}\")\n",
    "        print(\"\")"
   ]
  },
  {
   "cell_type": "code",
   "execution_count": 11,
   "metadata": {},
   "outputs": [],
   "source": [
    "def impresion_comparacion_datos(eigenvalues_sc, eigenvalues_cc, eigenvectors_sc, eigenvectors_cc):\n",
    "    print(\"Los resultados son: \")\n",
    "    for i in range(0, len(eigenvalues_sc)):\n",
    "        print(F\"Resultado {i+1}:\")\n",
    "        print(F\"Autovalor con cota = {eigenvalues_cc[i]} y sin cota: {eigenvalues_sc[i]}\")\n",
    "        #print(F\"Autovector con cota = {eigenvectors_cc[i]} y sin cota: {eigenvectors_sc[i]}\")"
   ]
  },
  {
   "cell_type": "markdown",
   "metadata": {},
   "source": [
    "# Corremos los experimentos"
   ]
  },
  {
   "cell_type": "markdown",
   "metadata": {},
   "source": [
    "### Experimento de matriz diagonal"
   ]
  },
  {
   "cell_type": "code",
   "execution_count": 12,
   "metadata": {},
   "outputs": [],
   "source": [
    "N = 10\n",
    "D = np.diag(range(N, 0, -1))\n",
    "\n",
    "v = np.ones((D.shape[0], 1))\n",
    "v = v / np.linalg.norm(v)\n",
    "\n",
    "# Matriz de Householder\n",
    "B = np.eye(D.shape[0]) - 2 * (v @ v.T)\n",
    "\n",
    "M = B.T @ D @ B"
   ]
  },
  {
   "cell_type": "code",
   "execution_count": 13,
   "metadata": {},
   "outputs": [
    {
     "name": "stdout",
     "output_type": "stream",
     "text": [
      "Método con convergencia\n",
      "Pare en iteración: 41 del calculo del autovalor 1\n",
      "Pare en iteración: 38 del calculo del autovalor 2\n",
      "Pare en iteración: 34 del calculo del autovalor 3\n",
      "Pare en iteración: 31 del calculo del autovalor 4\n",
      "Pare en iteración: 27 del calculo del autovalor 5\n",
      "Pare en iteración: 23 del calculo del autovalor 6\n",
      "Pare en iteración: 19 del calculo del autovalor 7\n",
      "Pare en iteración: 14 del calculo del autovalor 8\n",
      "Pare en iteración: 9 del calculo del autovalor 9\n",
      "Pare en iteración: 1 del calculo del autovalor 10\n",
      "\n",
      "Método sin convergencia\n",
      "Resultados: \n",
      "Los resultados son: \n",
      "Resultado 1:\n",
      "Autovalor con cota = 9.999856664952743 y sin cota: 10.0\n",
      "Resultado 2:\n",
      "Autovalor con cota = 9.000054247903385 y sin cota: 9.000000000000005\n",
      "Resultado 3:\n",
      "Autovalor con cota = 8.000028970597613 y sin cota: 8.000000000000005\n",
      "Resultado 4:\n",
      "Autovalor con cota = 7.000048884912049 y sin cota: 7.0000000000000036\n",
      "Resultado 5:\n",
      "Autovalor con cota = 6.000024445438392 y sin cota: 5.999999999999999\n",
      "Resultado 6:\n",
      "Autovalor con cota = 5.000022272689471 y sin cota: 5.0\n",
      "Resultado 7:\n",
      "Autovalor con cota = 4.000018103081797 y sin cota: 4.000000000000002\n",
      "Resultado 8:\n",
      "Autovalor con cota = 3.000008306779039 y sin cota: 3.0000000000000013\n",
      "Resultado 9:\n",
      "Autovalor con cota = 2.00000692827014 y sin cota: 2.0000000000000004\n",
      "Resultado 10:\n",
      "Autovalor con cota = 1.0000019203783808 y sin cota: 1.0000000000000004\n"
     ]
    }
   ],
   "source": [
    "# Para todos los eigen el ejemplo anterior de householder.\n",
    "\n",
    "print(\"Método con convergencia\")\n",
    "l_con, v_con, it = eig(M, 5_000, 1e-6)\n",
    "print(\"\")\n",
    "print(\"Método sin convergencia\")\n",
    "l_sin, v_sin = eig_without_eps(M, 5_000, 1e-6)\n",
    "\n",
    "print(\"Resultados: \")\n",
    "impresion_comparacion_datos(l_sin, l_con, v_sin, v_con)"
   ]
  },
  {
   "cell_type": "code",
   "execution_count": 14,
   "metadata": {},
   "outputs": [
    {
     "data": {
      "image/png": "[encoded data removed]",
      "text/plain": [
       "<Figure size 640x480 with 1 Axes>"
      ]
     },
     "metadata": {},
     "output_type": "display_data"
    }
   ],
   "source": [
    "datos_iteracion = []\n",
    "for i in range(0, len(it)):\n",
    "    datos_iteracion.append([it[i], l_con[i]])\n",
    "\n",
    "df_iteracion = pd.DataFrame(datos_iteracion, columns=[\"iteracion\", \"autovalor\"])\n",
    "\n",
    "name = F\"Autovalores por iteracion\"\n",
    "fig = sns.lineplot(\n",
    "    data=df_iteracion, \n",
    "    x='iteracion', \n",
    "    y='autovalor',\n",
    "    label=name\n",
    ");\n",
    "\n",
    "fig.set(xlabel='iteracion', ylabel='autovalor');\n",
    "plt.savefig(\"graficos/autovalores_con_cota.svg\", bbox_inches = 'tight');"
   ]
  },
  {
   "cell_type": "code",
   "execution_count": 15,
   "metadata": {},
   "outputs": [
    {
     "name": "stdout",
     "output_type": "stream",
     "text": [
      "0.00016810373591322685\n"
     ]
    }
   ],
   "source": [
    "diferencia = []\n",
    "for i in range(0, len(l_con)):\n",
    "    diff = l_sin[i] - l_con[i];\n",
    "    diferencia.append(abs_val(diff))\n",
    "\n",
    "print(np.linalg.norm(diferencia))"
   ]
  },
  {
   "cell_type": "markdown",
   "metadata": {},
   "source": [
    "### Experimentación matrices"
   ]
  },
  {
   "cell_type": "code",
   "execution_count": 16,
   "metadata": {},
   "outputs": [],
   "source": [
    "path_matriz = F\"./ejemplos\""
   ]
  },
  {
   "cell_type": "markdown",
   "metadata": {},
   "source": [
    "## Revision caso 1"
   ]
  },
  {
   "cell_type": "code",
   "execution_count": 17,
   "metadata": {},
   "outputs": [],
   "source": [
    "# Path de los resultados\n",
    "path_eigenvalues_exp1 = F\"{path_matriz}/matriz1.txt-autovalores.out\"\n",
    "path_eigenvectors_exp1 = F\"{path_matriz}/matriz1.txt-autovectores.out\""
   ]
  },
  {
   "cell_type": "code",
   "execution_count": 18,
   "metadata": {},
   "outputs": [],
   "source": [
    "correr_experimento(F\"{path_matriz}/matriz1.txt\", 1000, 0.001)\n",
    "\n",
    "# Renombramos los archivos\n",
    "os.rename(F\"{path_eigenvalues_exp1}\", F\"{path_eigenvalues_exp1}-1\")\n",
    "os.rename(F\"{path_eigenvectors_exp1}\", F\"{path_eigenvectors_exp1}-1\")"
   ]
  },
  {
   "cell_type": "code",
   "execution_count": 19,
   "metadata": {},
   "outputs": [
    {
     "name": "stdout",
     "output_type": "stream",
     "text": [
      "Los autovalores obtenidos son: \n",
      "Resultado 1\n",
      "Autovalor = -2\n",
      "Autovector = [0.948683 0.316228]\n",
      "\n",
      "Resultado 2\n",
      "Autovalor = -1\n",
      "Autovector = [0.921635 0.388057]\n",
      "\n"
     ]
    }
   ],
   "source": [
    "path_eigenvalues_1 = F\"{path_eigenvalues_exp1}-1\"\n",
    "path_eigenvectors_1 = F\"{path_eigenvectors_exp1}-1\"\n",
    "caso1_l, caso1_v = leer_resultados(path_eigenvalues_1, path_eigenvectors_1)\n",
    "impresion_de_datos(caso1_l, caso1_v)"
   ]
  },
  {
   "cell_type": "code",
   "execution_count": 20,
   "metadata": {},
   "outputs": [],
   "source": [
    "path_archivo = F\"{path_matriz}/matriz1.txt\"\n",
    "correr_experimento(path_archivo, 100000, 0.0001)\n",
    "\n",
    "os.rename(F\"{path_eigenvalues_exp1}\", F\"{path_eigenvalues_exp1}-1w\")\n",
    "os.rename(F\"{path_eigenvectors_exp1}\", F\"{path_eigenvectors_exp1}-1w\")"
   ]
  },
  {
   "cell_type": "code",
   "execution_count": 21,
   "metadata": {},
   "outputs": [
    {
     "name": "stdout",
     "output_type": "stream",
     "text": [
      "Los autovalores obtenidos son: \n",
      "Resultado 1\n",
      "Autovalor = -2\n",
      "Autovector = [0.948683 0.316228]\n",
      "\n",
      "Resultado 2\n",
      "Autovalor = -1\n",
      "Autovector = [0.921635 0.388057]\n",
      "\n"
     ]
    }
   ],
   "source": [
    "path_eigenvalues_1w = F\"{path_eigenvalues_exp1}-1w\"\n",
    "path_eigenvectors_1w = F\"{path_eigenvectors_exp1}-1w\"\n",
    "\n",
    "caso1_l_w, caso1_v_w = leer_resultados(path_eigenvalues_1w, path_eigenvectors_1w)\n",
    "impresion_de_datos(caso1_l_w, caso1_v_w)"
   ]
  },
  {
   "cell_type": "markdown",
   "metadata": {},
   "source": [
    "### Revision caso 2"
   ]
  },
  {
   "cell_type": "code",
   "execution_count": 22,
   "metadata": {},
   "outputs": [],
   "source": [
    "# Path de los resultados\n",
    "path_eigenvalues_exp2 = F\"{path_matriz}/matriz2.txt-autovalores.out\"\n",
    "path_eigenvectors_exp2 = F\"{path_matriz}/matriz2.txt-autovectores.out\""
   ]
  },
  {
   "cell_type": "code",
   "execution_count": 23,
   "metadata": {},
   "outputs": [],
   "source": [
    "correr_experimento(F\"{path_matriz}/matriz2.txt\", 1000, 0.001)\n",
    "\n",
    "# Renombramos los archivos\n",
    "os.rename(F\"{path_eigenvalues_exp2}\", F\"{path_eigenvalues_exp2}-2\")\n",
    "os.rename(F\"{path_eigenvectors_exp2}\", F\"{path_eigenvectors_exp2}-2\")"
   ]
  },
  {
   "cell_type": "code",
   "execution_count": 24,
   "metadata": {},
   "outputs": [
    {
     "name": "stdout",
     "output_type": "stream",
     "text": [
      "Los autovalores obtenidos son: \n",
      "Resultado 1\n",
      "Autovalor = 5.08083\n",
      "Autovector = [-0.340262 -0.876609  0.340262]\n",
      "\n",
      "Resultado 2\n",
      "Autovalor = 1.7879\n",
      "Autovector = [-0.158746 -0.974474  0.158746]\n",
      "\n",
      "Resultado 3\n",
      "Autovalor = 0.0238446\n",
      "Autovector = [-0.156162 -0.975309  0.156162]\n",
      "\n"
     ]
    }
   ],
   "source": [
    "path_eigenvalues_2 = F\"{path_eigenvalues_exp2}-2\"\n",
    "path_eigenvectors_2 = F\"{path_eigenvectors_exp2}-2\"\n",
    "caso2_l, caso2_v = leer_resultados(path_eigenvalues_2, path_eigenvectors_2)\n",
    "impresion_de_datos(caso2_l, caso2_v)"
   ]
  },
  {
   "cell_type": "code",
   "execution_count": 25,
   "metadata": {},
   "outputs": [],
   "source": [
    "correr_experimento(F\"{path_matriz}/matriz2.txt\", 100000, 0.00001)\n",
    "# Renombramos los archivos\n",
    "os.rename(F\"{path_eigenvalues_exp2}\", F\"{path_eigenvalues_exp2}-2w\")\n",
    "os.rename(F\"{path_eigenvectors_exp2}\", F\"{path_eigenvectors_exp2}-2w\")"
   ]
  },
  {
   "cell_type": "code",
   "execution_count": 26,
   "metadata": {},
   "outputs": [
    {
     "name": "stdout",
     "output_type": "stream",
     "text": [
      "Los autovalores obtenidos son: \n",
      "Resultado 1\n",
      "Autovalor = 5.01271\n",
      "Autovector = [-0.346924 -0.871371  0.346924]\n",
      "\n",
      "Resultado 2\n",
      "Autovalor = 1.96799\n",
      "Autovector = [-0.149219 -0.97748   0.149219]\n",
      "\n",
      "Resultado 3\n",
      "Autovalor = 0.0033902\n",
      "Autovector = [-0.148851 -0.977592  0.148851]\n",
      "\n"
     ]
    }
   ],
   "source": [
    "path_eigenvalues_2w = F\"{path_eigenvalues_exp2}-2w\"\n",
    "path_eigenvectors_2w = F\"{path_eigenvectors_exp2}-2w\"\n",
    "caso2_l_w, caso2_v_w = leer_resultados(path_eigenvalues_2w, path_eigenvectors_2w)\n",
    "\n",
    "impresion_de_datos(caso2_l_w, caso2_v_w)"
   ]
  }
 ],
 "metadata": {
  "kernelspec": {
   "display_name": "Python 3 (ipykernel)",
   "language": "python",
   "name": "python3"
  },
  "language_info": {
   "codemirror_mode": {
    "name": "ipython",
    "version": 3
   },
   "file_extension": ".py",
   "mimetype": "text/x-python",
   "name": "python",
   "nbconvert_exporter": "python",
   "pygments_lexer": "ipython3",
   "version": "3.8.0"
  },
  "vscode": {
   "interpreter": {
    "hash": "048ffb85d764fb63f5c1aed323785b15d6917b635b5bcedee59f8ef66ef1e14d"
   }
  }
 },
 "nbformat": 4,
 "nbformat_minor": 4
}
