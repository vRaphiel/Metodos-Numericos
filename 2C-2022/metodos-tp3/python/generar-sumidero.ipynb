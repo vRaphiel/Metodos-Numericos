{
 "cells": [
  {
   "cell_type": "code",
   "execution_count": 1,
   "id": "4ca96279",
   "metadata": {},
   "outputs": [],
   "source": [
    "import random, math\n",
    "import pandas as pd\n",
    "import numpy as np\n",
    "import os\n",
    "random.seed(12345)"
   ]
  },
  {
   "cell_type": "markdown",
   "id": "dbcb65ef",
   "metadata": {},
   "source": [
    "Para cada experimento se pasarán ciertos datos extra que serán datos que tendremos en cuenta al momento de experimentar, por ejemplo la página más referenciada y sus valores, o las principales que hacen que nosotros tengamos en cuenta ciertos principios a la hora de evaluar"
   ]
  },
  {
   "cell_type": "code",
   "execution_count": 2,
   "id": "d51039a5",
   "metadata": {},
   "outputs": [],
   "source": [
    "# Generar txt y guardar instancia\n",
    "def save_instance(instance_name, n, M, relaciones): \n",
    "    if(not os.path.isdir(\"tests\")):\n",
    "        os.mkdir(\"tests\")\n",
    "    with open(F\"tests/{instance_name}.txt\", \"w\") as f:\n",
    "        print(n, file=f)\n",
    "        print(M, file=f)\n",
    "        for i in range(0, len(relaciones)):\n",
    "            for j in range(0, len(relaciones[i])):\n",
    "                print(relaciones[i][j], file=f, end=\" \")\n",
    "            print(file=f, end=\"\\n\")"
   ]
  },
  {
   "cell_type": "code",
   "execution_count": 6,
   "id": "4273893b",
   "metadata": {},
   "outputs": [],
   "source": [
    "def save_instance_extra(instance_name, value):\n",
    "    if(not os.path.isdir(\"tests\")):\n",
    "        os.mkdir(\"tests\")\n",
    "    with open(F\"tests/{instance_name}-data.txt\", \"w\") as f:\n",
    "        print(value, file=f, end=\"\\n\")"
   ]
  },
  {
   "cell_type": "markdown",
   "id": "3512bc6e",
   "metadata": {},
   "source": [
    "# Sumidero"
   ]
  },
  {
   "cell_type": "code",
   "execution_count": 12,
   "id": "736ced08",
   "metadata": {},
   "outputs": [],
   "source": [
    "caso=\"sumidero\"\n",
    "dimensiones = random.sample(range(1000, 2000), 2)\n",
    "arr_instancias = []\n",
    "for i in range(0, len(dimensiones)):\n",
    "    relaciones = []\n",
    "    n = dimensiones[i]\n",
    "    M = 0\n",
    "    filas = list(range(1, (n+1)))\n",
    "    columnas = list(range(1, (n+1)))\n",
    "    principal = random.choice(filas)\n",
    "    filas.remove(principal)\n",
    "    for j in range(0, 5):\n",
    "        filas_tomar = int(len(filas)/(2**j))\n",
    "        filas_muestra = random.sample(filas, filas_tomar)\n",
    "        for fila in filas_muestra:\n",
    "            relacion = [principal, fila]\n",
    "            relaciones.append(relacion)\n",
    "            M = M + 1  \n",
    "        save_instance(F\"{caso}-{i}-{j}\", n, M, relaciones)\n",
    "    save_instance_extra(F\"{caso}-{i}\", principal)"
   ]
  }
 ],
 "metadata": {
  "kernelspec": {
   "display_name": "Python 3 (ipykernel)",
   "language": "python",
   "name": "python3"
  },
  "language_info": {
   "codemirror_mode": {
    "name": "ipython",
    "version": 3
   },
   "file_extension": ".py",
   "mimetype": "text/x-python",
   "name": "python",
   "nbconvert_exporter": "python",
   "pygments_lexer": "ipython3",
   "version": "3.8.0"
  },
  "vscode": {
   "interpreter": {
    "hash": "048ffb85d764fb63f5c1aed323785b15d6917b635b5bcedee59f8ef66ef1e14d"
   }
  }
 },
 "nbformat": 4,
 "nbformat_minor": 5
}
