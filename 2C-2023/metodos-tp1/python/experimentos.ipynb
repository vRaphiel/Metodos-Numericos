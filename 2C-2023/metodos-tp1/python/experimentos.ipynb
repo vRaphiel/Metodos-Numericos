{
 "cells": [
  {
   "cell_type": "markdown",
   "id": "ea75b839",
   "metadata": {},
   "source": [
    "# Correr experimentos\n",
    "En este archivo está el código para correr los experimentos y escribir los resultados en archivos CSV.\n",
    "> Los archivos se guardan en la carpeta _resultados_."
   ]
  },
  {
   "cell_type": "code",
   "execution_count": 44,
   "id": "4f832acc",
   "metadata": {},
   "outputs": [],
   "source": [
    "import math, subprocess\n",
    "import pandas as pd\n",
    "import numpy as np\n",
    "import random, math\n",
    "import os\n",
    "from IPython.display import display, clear_output, update_display\n",
    "import time\n",
    "import matplotlib.pyplot as plt\n",
    "from math import floor\n",
    "\n",
    "eps = 10e-15\n",
    "alpha = 10e7\n",
    "experimentos = []"
   ]
  },
  {
   "cell_type": "code",
   "execution_count": 45,
   "id": "cc8e760d",
   "metadata": {},
   "outputs": [
    {
     "name": "stderr",
     "output_type": "stream",
     "text": [
      "/tmp/ipykernel_6974/3469964432.py:1: NumbaDeprecationWarning: The 'nopython' keyword argument was not supplied to the 'numba.jit' decorator. The implicit default value for this argument is currently False, but it will be changed to True in Numba 0.59.0. See https://numba.readthedocs.io/en/stable/reference/deprecation.html#deprecation-of-object-mode-fall-back-behaviour-when-using-jit for details.\n",
      "  @jit\n",
      "/tmp/ipykernel_6974/559068186.py:1: NumbaDeprecationWarning: The 'nopython' keyword argument was not supplied to the 'numba.jit' decorator. The implicit default value for this argument is currently False, but it will be changed to True in Numba 0.59.0. See https://numba.readthedocs.io/en/stable/reference/deprecation.html#deprecation-of-object-mode-fall-back-behaviour-when-using-jit for details.\n",
      "  @jit\n",
      "/tmp/ipykernel_6974/2877216679.py:1: NumbaDeprecationWarning: The 'nopython' keyword argument was not supplied to the 'numba.jit' decorator. The implicit default value for this argument is currently False, but it will be changed to True in Numba 0.59.0. See https://numba.readthedocs.io/en/stable/reference/deprecation.html#deprecation-of-object-mode-fall-back-behaviour-when-using-jit for details.\n",
      "  @jit\n",
      "/tmp/ipykernel_6974/2261804321.py:1: NumbaDeprecationWarning: The 'nopython' keyword argument was not supplied to the 'numba.jit' decorator. The implicit default value for this argument is currently False, but it will be changed to True in Numba 0.59.0. See https://numba.readthedocs.io/en/stable/reference/deprecation.html#deprecation-of-object-mode-fall-back-behaviour-when-using-jit for details.\n",
      "  @jit\n",
      "/tmp/ipykernel_6974/3862351391.py:1: NumbaDeprecationWarning: The 'nopython' keyword argument was not supplied to the 'numba.jit' decorator. The implicit default value for this argument is currently False, but it will be changed to True in Numba 0.59.0. See https://numba.readthedocs.io/en/stable/reference/deprecation.html#deprecation-of-object-mode-fall-back-behaviour-when-using-jit for details.\n",
      "  @jit\n",
      "/tmp/ipykernel_6974/2166191619.py:1: NumbaDeprecationWarning: The 'nopython' keyword argument was not supplied to the 'numba.jit' decorator. The implicit default value for this argument is currently False, but it will be changed to True in Numba 0.59.0. See https://numba.readthedocs.io/en/stable/reference/deprecation.html#deprecation-of-object-mode-fall-back-behaviour-when-using-jit for details.\n",
      "  @jit\n",
      "/tmp/ipykernel_6974/572586751.py:1: NumbaDeprecationWarning: The 'nopython' keyword argument was not supplied to the 'numba.jit' decorator. The implicit default value for this argument is currently False, but it will be changed to True in Numba 0.59.0. See https://numba.readthedocs.io/en/stable/reference/deprecation.html#deprecation-of-object-mode-fall-back-behaviour-when-using-jit for details.\n",
      "  @jit\n",
      "/tmp/ipykernel_6974/2280620609.py:1: NumbaDeprecationWarning: The 'nopython' keyword argument was not supplied to the 'numba.jit' decorator. The implicit default value for this argument is currently False, but it will be changed to True in Numba 0.59.0. See https://numba.readthedocs.io/en/stable/reference/deprecation.html#deprecation-of-object-mode-fall-back-behaviour-when-using-jit for details.\n",
      "  @jit\n",
      "/tmp/ipykernel_6974/2888417156.py:3: NumbaDeprecationWarning: The 'nopython' keyword argument was not supplied to the 'numba.jit' decorator. The implicit default value for this argument is currently False, but it will be changed to True in Numba 0.59.0. See https://numba.readthedocs.io/en/stable/reference/deprecation.html#deprecation-of-object-mode-fall-back-behaviour-when-using-jit for details.\n",
      "  @jit\n",
      "/tmp/ipykernel_6974/47674028.py:3: NumbaDeprecationWarning: The 'nopython' keyword argument was not supplied to the 'numba.jit' decorator. The implicit default value for this argument is currently False, but it will be changed to True in Numba 0.59.0. See https://numba.readthedocs.io/en/stable/reference/deprecation.html#deprecation-of-object-mode-fall-back-behaviour-when-using-jit for details.\n",
      "  @jit\n",
      "/tmp/ipykernel_6974/2143533843.py:4: NumbaDeprecationWarning: The 'nopython' keyword argument was not supplied to the 'numba.jit' decorator. The implicit default value for this argument is currently False, but it will be changed to True in Numba 0.59.0. See https://numba.readthedocs.io/en/stable/reference/deprecation.html#deprecation-of-object-mode-fall-back-behaviour-when-using-jit for details.\n",
      "  @jit\n",
      "/tmp/ipykernel_6974/3472278689.py:4: NumbaDeprecationWarning: The 'nopython' keyword argument was not supplied to the 'numba.jit' decorator. The implicit default value for this argument is currently False, but it will be changed to True in Numba 0.59.0. See https://numba.readthedocs.io/en/stable/reference/deprecation.html#deprecation-of-object-mode-fall-back-behaviour-when-using-jit for details.\n",
      "  @jit\n",
      "/tmp/ipykernel_6974/28558854.py:3: NumbaDeprecationWarning: The 'nopython' keyword argument was not supplied to the 'numba.jit' decorator. The implicit default value for this argument is currently False, but it will be changed to True in Numba 0.59.0. See https://numba.readthedocs.io/en/stable/reference/deprecation.html#deprecation-of-object-mode-fall-back-behaviour-when-using-jit for details.\n",
      "  @jit\n"
     ]
    }
   ],
   "source": [
    "%run algoritmos.ipynb"
   ]
  },
  {
   "cell_type": "markdown",
   "id": "66c7aa52",
   "metadata": {},
   "source": [
    "## Métodos de Eliminación Gausseana\n",
    "- eliminacion_gausseana_SP\n",
    "- eliminacion_gausseana_CP\n",
    "- eliminacion_gausseana_TR_SinPre\n",
    "- eliminacion_gausseana_TR_Pre"
   ]
  },
  {
   "cell_type": "code",
   "execution_count": 46,
   "id": "c1753bd1",
   "metadata": {},
   "outputs": [],
   "source": [
    "# Lectura de Matriz\n",
    "def leer_matriz(path_instancia):\n",
    "    A = np.loadtxt(path_instancia)\n",
    "    return A"
   ]
  },
  {
   "cell_type": "code",
   "execution_count": 47,
   "id": "82aaa8e8",
   "metadata": {},
   "outputs": [],
   "source": [
    "def agregar_experimentos(dataframe):\n",
    "    counter = 0\n",
    "    while counter < len(dataframe):\n",
    "        fila = dataframe.iloc[counter]\n",
    "        experimentos.append([fila[\"dataset\"], fila[\"archivo-A\"], fila[\"archivo-b\"], fila[\"n\"], fila[\"notas\"]])\n",
    "        counter = counter + 1"
   ]
  },
  {
   "cell_type": "code",
   "execution_count": 48,
   "id": "434e60c3",
   "metadata": {},
   "outputs": [],
   "source": [
    "def agregar_experimentos_A(dataframe):\n",
    "    counter = 0\n",
    "    while counter < len(dataframe):\n",
    "        fila = dataframe.iloc[counter]\n",
    "        experimentos_A.append([fila[\"dataset\"], fila[\"archivo\"], fila[\"n\"]])\n",
    "        counter = counter + 1"
   ]
  },
  {
   "cell_type": "code",
   "execution_count": 49,
   "id": "6b9753b2",
   "metadata": {},
   "outputs": [],
   "source": [
    "def agregar_experimentos_b(dataframe):\n",
    "    counter = 0\n",
    "    while counter < len(dataframe):\n",
    "        fila = dataframe.iloc[counter]\n",
    "        experimentos_b.append([fila[\"dataset\"], fila[\"archivo\"], fila[\"n\"]])\n",
    "        counter = counter + 1"
   ]
  },
  {
   "cell_type": "markdown",
   "id": "609b301f",
   "metadata": {},
   "source": [
    "### Pruebas de Algoritmos\n",
    "- Pruebas con EG\n",
    "- Pruebas con EG Pivoteo\n",
    "- Pruebas con Tridiagonal"
   ]
  },
  {
   "cell_type": "code",
   "execution_count": 50,
   "id": "aa887a36",
   "metadata": {},
   "outputs": [
    {
     "name": "stdout",
     "output_type": "stream",
     "text": [
      "Matriz 0 - Matriz Normal Sin Triangular\n",
      "[[  1.   2.   3.   4.]\n",
      " [  1.   4.   9.  16.]\n",
      " [  1.   8.  27.  64.]\n",
      " [  1.  16.  81. 256.]]\n"
     ]
    },
    {
     "name": "stderr",
     "output_type": "stream",
     "text": [
      "/tmp/ipykernel_6974/572586751.py:1: NumbaWarning: \n",
      "Compilation is falling back to object mode WITH looplifting enabled because Function \"eliminacion_gaussiana_CP\" failed type inference due to: Unknown attribute 'time' of type Module(<module 'time' (built-in)>)\n",
      "\n",
      "File \"../../../../../../../tmp/ipykernel_6974/572586751.py\", line 5:\n",
      "<source missing, REPL/exec in use?>\n",
      "\n",
      "During: typing of get attribute at /tmp/ipykernel_6974/572586751.py (5)\n",
      "\n",
      "File \"../../../../../../../tmp/ipykernel_6974/572586751.py\", line 5:\n",
      "<source missing, REPL/exec in use?>\n",
      "\n",
      "  @jit\n",
      "/tmp/ipykernel_6974/572586751.py:1: NumbaWarning: \n",
      "Compilation is falling back to object mode WITHOUT looplifting enabled because Function \"eliminacion_gaussiana_CP\" failed type inference due to: Cannot determine Numba type of <class 'numba.core.dispatcher.LiftedLoop'>\n",
      "\n",
      "File \"../../../../../../../tmp/ipykernel_6974/572586751.py\", line 7:\n",
      "<source missing, REPL/exec in use?>\n",
      "\n",
      "  @jit\n",
      "/home/matias/.local/lib/python3.11/site-packages/numba/core/object_mode_passes.py:151: NumbaWarning: Function \"eliminacion_gaussiana_CP\" was compiled in object mode without forceobj=True, but has lifted loops.\n",
      "\n",
      "File \"../../../../../../../tmp/ipykernel_6974/572586751.py\", line 1:\n",
      "<source missing, REPL/exec in use?>\n",
      "\n",
      "  warnings.warn(errors.NumbaWarning(warn_msg,\n",
      "/home/matias/.local/lib/python3.11/site-packages/numba/core/object_mode_passes.py:161: NumbaDeprecationWarning: \n",
      "Fall-back from the nopython compilation path to the object mode compilation path has been detected. This is deprecated behaviour that will be removed in Numba 0.59.0.\n",
      "\n",
      "For more information visit https://numba.readthedocs.io/en/stable/reference/deprecation.html#deprecation-of-object-mode-fall-back-behaviour-when-using-jit\n",
      "\n",
      "File \"../../../../../../../tmp/ipykernel_6974/572586751.py\", line 1:\n",
      "<source missing, REPL/exec in use?>\n",
      "\n",
      "  warnings.warn(errors.NumbaDeprecationWarning(msg,\n"
     ]
    },
    {
     "name": "stdout",
     "output_type": "stream",
     "text": [
      "Matriz luego de la eliminación:\n",
      "[[  1.   2.   3.   4.]\n",
      " [  1.   4.   9.  16.]\n",
      " [  1.   8.  27.  64.]\n",
      " [  1.  16.  81. 256.]]\n",
      "Resultado:\n",
      "[array([-1.,  1., -1.,  1.]), 1.0797219276428223]\n",
      "\n",
      "\n",
      "Matriz 1 - Matriz Normal Sin Triangular\n",
      "[[ 2.  1. -1.  3.]\n",
      " [-2.  0.  0.  0.]\n",
      " [ 4.  1. -2.  4.]\n",
      " [-6. -1.  2. -3.]]\n",
      "Matriz luego de la eliminación:\n",
      "[[ 2.  1. -1.  3.]\n",
      " [-2.  0.  0.  0.]\n",
      " [ 4.  1. -2.  4.]\n",
      " [-6. -1.  2. -3.]]\n",
      "Resultado:\n",
      "[array([  1., -30.,   7.,  16.]), 6.67572021484375e-06]\n",
      "\n",
      "\n",
      "Matriz 2 - Matriz Triangulada\n",
      "[[ 2.  1. -1.  3.]\n",
      " [ 0.  1. -1.  3.]\n",
      " [ 0.  0. -1.  1.]\n",
      " [ 0.  0.  0.  1.]]\n",
      "Matriz luego de la eliminación:\n",
      "[[ 2.  1. -1.  3.]\n",
      " [ 0.  1. -1.  3.]\n",
      " [ 0.  0. -1.  1.]\n",
      " [ 0.  0.  0.  1.]]\n",
      "Resultado:\n",
      "[array([  1., -16.,   0.,   9.]), 5.4836273193359375e-06]\n",
      "\n",
      "\n",
      "Matriz 3 - Matriz Con Decimales Chicos sin Triangular\n",
      "[[ 2.e-07  1.e+00 -1.e+00  3.e+00]\n",
      " [-2.e-07  0.e+00  0.e+00  0.e+00]\n",
      " [ 4.e-07  1.e+00 -2.e+00  4.e+00]\n",
      " [-6.e-07 -1.e+00  2.e+00 -3.e+00]]\n",
      "Division por numero cercano a 0 puede ocasionar error numérico: <object type:float64>\n",
      "Matriz luego de la eliminación:\n",
      "[[ 2.e-07  1.e+00 -1.e+00  3.e+00]\n",
      " [-2.e-07  0.e+00  0.e+00  0.e+00]\n",
      " [ 4.e-07  1.e+00 -2.e+00  4.e+00]\n",
      " [-6.e-07 -1.e+00  2.e+00 -3.e+00]]\n",
      "Resultado:\n",
      "[array([ 1.0e+07, -3.0e+01,  7.0e+00,  1.6e+01]), 1.2159347534179688e-05]\n",
      "\n",
      "\n",
      "Matriz 4 - Matriz \n",
      "[[0.003 0.217]\n",
      " [0.277 0.138]]\n",
      "Matriz luego de la eliminación:\n",
      "[[0.003 0.217]\n",
      " [0.277 0.138]]\n",
      "Resultado:\n",
      "[array([1., 2.]), 5.9604644775390625e-06]\n",
      "\n",
      "\n",
      "Matriz 5 - Matriz Permutada\n",
      "[[ 0.    0.    0.    0.    0.    0.  ]\n",
      " [ 0.   -1.    0.    0.    0.   -0.08]\n",
      " [ 0.    1.   -1.    0.    1.    0.  ]\n",
      " [ 0.    0.    1.   -1.    0.    0.02]\n",
      " [ 1.    0.    0.    1.    0.    0.05]\n",
      " [ 0.    0.    0.    0.    0.    0.05]]\n",
      "Matriz luego de la eliminación:\n",
      "[[ 0.    0.    0.    0.    0.    0.  ]\n",
      " [ 0.   -1.    0.    0.    0.   -0.08]\n",
      " [ 0.    1.   -1.    0.    1.    0.  ]\n",
      " [ 0.    0.    1.   -1.    0.    0.02]\n",
      " [ 1.    0.    0.    1.    0.    0.05]\n",
      " [ 0.    0.    0.    0.    0.    0.05]]\n",
      "Resultado:\n",
      "[array([0., 0., 0., 0., 0., 0.]), 5.9604644775390625e-06]\n",
      "\n",
      "\n"
     ]
    }
   ],
   "source": [
    "dfs={}\n",
    "casos=[\"tr_pruebas_sin_pivot\"]\n",
    "experimentos = []\n",
    "for caso in casos:\n",
    "    dfs[caso]=pd.read_csv(F\"instancias/{caso}/indice.csv\")\n",
    "\n",
    "for caso in casos:\n",
    "    agregar_experimentos(dfs[caso])\n",
    "    \n",
    "if(not os.path.isdir(\"resultados\")):\n",
    "    os.mkdir(\"resultados\")\n",
    "filas = []\n",
    "\n",
    "for i in range(0, len(experimentos)):\n",
    "    experimento = experimentos[i]\n",
    "    \n",
    "    # Ejecutamos el experimento T veces y obtenemos la mediana.\n",
    "    pathA = F\"instancias/{experimento[0]}/{experimento[1]}\"\n",
    "    pathB = F\"instancias/{experimento[0]}/{experimento[2]}\"\n",
    "    A = leer_matriz(pathA)\n",
    "    b = leer_matriz(pathB)\n",
    "        \n",
    "    print(F\"Matriz {i} - {experimento[4]}\")\n",
    "    print(A)\n",
    "    EG_Pivot = eliminacion_gaussiana_CP(A, b)\n",
    "    print(F\"Matriz luego de la eliminación:\")\n",
    "    print(A)\n",
    "    print(f\"Resultado:\")\n",
    "    print(EG_Pivot)\n",
    "    print(\"\\n\")"
   ]
  },
  {
   "cell_type": "code",
   "execution_count": 51,
   "id": "ae2c6e9c",
   "metadata": {
    "scrolled": false
   },
   "outputs": [
    {
     "name": "stdout",
     "output_type": "stream",
     "text": [
      "Matriz 0 - Matriz Permutada\n",
      "[[0. 1. 0. 0. 0. 0.]\n",
      " [1. 0. 0. 0. 0. 0.]\n",
      " [0. 0. 1. 0. 0. 0.]\n",
      " [0. 0. 0. 0. 0. 1.]\n",
      " [0. 0. 0. 1. 0. 0.]\n",
      " [0. 0. 0. 0. 1. 0.]]\n",
      "Matriz luego de la eliminación:\n",
      "[[0. 1. 0. 0. 0. 0.]\n",
      " [1. 0. 0. 0. 0. 0.]\n",
      " [0. 0. 1. 0. 0. 0.]\n",
      " [0. 0. 0. 0. 0. 1.]\n",
      " [0. 0. 0. 1. 0. 0.]\n",
      " [0. 0. 0. 0. 1. 0.]]\n",
      "Resultado:\n",
      "[2. 1. 3. 5. 6. 4.]\n",
      "\n",
      "\n",
      "Matriz 1 - Solucion: x1: 10.00 x2: 1.000\n",
      "[[ 3.000e-03  5.914e+01]\n",
      " [ 5.291e+00 -6.130e+00]]\n",
      "Matriz luego de la eliminación:\n",
      "[[ 3.000e-03  5.914e+01]\n",
      " [ 5.291e+00 -6.130e+00]]\n",
      "Resultado:\n",
      "[10.  1.]\n",
      "\n",
      "\n",
      "Matriz 2 - Solucion: x1: -10.00 x2: 1.001\n",
      "[[ 3.000e+01  5.914e+05]\n",
      " [ 5.291e+00 -6.130e+00]]\n",
      "Matriz luego de la eliminación:\n",
      "[[ 3.000e+01  5.914e+05]\n",
      " [ 5.291e+00 -6.130e+00]]\n",
      "Resultado:\n",
      "[10.  1.]\n",
      "\n",
      "\n",
      "Matriz 3 - Sin Solucion\n",
      "[[1. 1.]\n",
      " [2. 2.]]\n",
      "Matriz luego de la eliminación:\n",
      "[[1. 1.]\n",
      " [2. 2.]]\n",
      "Resultado:\n",
      "[2.5 0. ]\n",
      "\n",
      "\n",
      "Matriz 4 - Solucion Infinita\n",
      "[[1. 1.]\n",
      " [2. 2.]]\n",
      "Matriz luego de la eliminación:\n",
      "[[1. 1.]\n",
      " [2. 2.]]\n",
      "Resultado:\n",
      "[2. 0.]\n",
      "\n",
      "\n",
      "Matriz 5 - Con decimales chicos y posible error de calculo\n",
      "[[ 2.e-16  1.e+00 -1.e+00  3.e+00]\n",
      " [ 2.e+00  2.e-16  0.e+00  0.e+00]\n",
      " [ 4.e+00  1.e+00 -2.e+00  4.e+00]\n",
      " [-6.e+00 -1.e+00  2.e+00 -3.e+00]]\n",
      "Matriz luego de la eliminación:\n",
      "[[ 2.e-16  1.e+00 -1.e+00  3.e+00]\n",
      " [ 2.e+00  2.e-16  0.e+00  0.e+00]\n",
      " [ 4.e+00  1.e+00 -2.e+00  4.e+00]\n",
      " [-6.e+00 -1.e+00  2.e+00 -3.e+00]]\n",
      "Resultado:\n",
      "[ -1. -26.  -3.  12.]\n",
      "\n",
      "\n",
      "Matriz 6 - Matriz con Enteros\n",
      "[[ 2.  1. -1.  3.]\n",
      " [-2.  0.  0.  0.]\n",
      " [ 4.  1. -2.  4.]\n",
      " [-6. -1.  2. -3.]]\n",
      "Matriz luego de la eliminación:\n",
      "[[ 2.  1. -1.  3.]\n",
      " [-2.  0.  0.  0.]\n",
      " [ 4.  1. -2.  4.]\n",
      " [-6. -1.  2. -3.]]\n",
      "Resultado:\n",
      "[  1. -30.   7.  16.]\n",
      "\n",
      "\n",
      "Matriz 7 - Matriz con Decimales - Error de calculo en solucion: -0.012490009999999607\n",
      "[[ 2.e+00  1.e-14 -1.e+00  3.e+00]\n",
      " [-2.e+00  1.e-14  0.e+00  0.e+00]\n",
      " [ 4.e+00  1.e+00  1.e-14  4.e+00]\n",
      " [-6.e+00 -1.e+00  2.e+00  1.e-14]]\n",
      "Matriz luego de la eliminación:\n",
      "[[ 2.e+00  1.e-14 -1.e+00  3.e+00]\n",
      " [-2.e+00  1.e-14  0.e+00  0.e+00]\n",
      " [ 4.e+00  1.e+00  1.e-14  4.e+00]\n",
      " [-6.e+00 -1.e+00  2.e+00  1.e-14]]\n",
      "Resultado:\n",
      "[1.  4.8 0.4 3.8]\n",
      "\n",
      "\n",
      "Matriz 8 - A y B con numeros muy chicos\n",
      "[[0. 0. 0. 0. 0.]\n",
      " [0. 0. 0. 0. 0.]\n",
      " [0. 0. 0. 0. 0.]\n",
      " [0. 0. 0. 0. 0.]\n",
      " [0. 0. 0. 0. 0.]]\n",
      "Matriz luego de la eliminación:\n",
      "[[0. 0. 0. 0. 0.]\n",
      " [0. 0. 0. 0. 0.]\n",
      " [0. 0. 0. 0. 0.]\n",
      " [0. 0. 0. 0. 0.]\n",
      " [0. 0. 0. 0. 0.]]\n",
      "Resultado:\n",
      "[0. 0. 0. 0. 0.]\n",
      "\n",
      "\n",
      "Matriz 9 - A y B con numeros muy chicos\n",
      "[[0. 0. 0. 0. 0.]\n",
      " [0. 0. 0. 0. 0.]\n",
      " [0. 0. 0. 0. 0.]\n",
      " [0. 0. 0. 0. 0.]\n",
      " [0. 0. 0. 0. 0.]]\n",
      "Matriz luego de la eliminación:\n",
      "[[0. 0. 0. 0. 0.]\n",
      " [0. 0. 0. 0. 0.]\n",
      " [0. 0. 0. 0. 0.]\n",
      " [0. 0. 0. 0. 0.]\n",
      " [0. 0. 0. 0. 0.]]\n",
      "Resultado:\n",
      "[0. 0. 0. 0. 0.]\n",
      "\n",
      "\n",
      "Matriz 10 - A y B con numeros muy chicos\n",
      "[[0. 0. 0. 0. 0.]\n",
      " [0. 0. 0. 0. 0.]\n",
      " [0. 0. 0. 0. 0.]\n",
      " [0. 0. 0. 0. 0.]\n",
      " [0. 0. 0. 0. 0.]]\n",
      "Matriz luego de la eliminación:\n",
      "[[0. 0. 0. 0. 0.]\n",
      " [0. 0. 0. 0. 0.]\n",
      " [0. 0. 0. 0. 0.]\n",
      " [0. 0. 0. 0. 0.]\n",
      " [0. 0. 0. 0. 0.]]\n",
      "Resultado:\n",
      "[0. 0. 0. 0. 0.]\n",
      "\n",
      "\n"
     ]
    }
   ],
   "source": [
    "dfs={}\n",
    "casos=[\"tr_pruebas_pivot\"]\n",
    "experimentos = []\n",
    "for caso in casos:\n",
    "    dfs[caso]=pd.read_csv(F\"instancias/{caso}/indice.csv\")\n",
    "\n",
    "for caso in casos:\n",
    "    agregar_experimentos(dfs[caso])\n",
    "    \n",
    "if(not os.path.isdir(\"resultados\")):\n",
    "    os.mkdir(\"resultados\")\n",
    "filas = []\n",
    "\n",
    "for i in range(0, len(experimentos)):\n",
    "    experimento = experimentos[i]\n",
    "    \n",
    "    # Ejecutamos el experimento T veces y obtenemos la mediana.\n",
    "    pathA = F\"instancias/{experimento[0]}/{experimento[1]}\"\n",
    "    pathB = F\"instancias/{experimento[0]}/{experimento[2]}\"\n",
    "    A = leer_matriz(pathA)\n",
    "    b = leer_matriz(pathB)\n",
    "        \n",
    "    print(F\"Matriz {i} - {experimento[4]}\")\n",
    "    print(A)\n",
    "    EG_Pivot = eliminacion_gaussiana_CP(A, b)\n",
    "    print(F\"Matriz luego de la eliminación:\")\n",
    "    print(A)\n",
    "    print(f\"Resultado:\")\n",
    "    print(EG_Pivot[0])\n",
    "    print(\"\\n\")"
   ]
  },
  {
   "cell_type": "markdown",
   "id": "ca5e6840",
   "metadata": {},
   "source": [
    "### Ejercicio 4a\n",
    "Se leerán varias matrices y se las procederá a evaluar con los algoritmos:\n",
    "- eliminacion_gausseana_CP\n",
    "- eliminacion_gausseana_TR_SinPre"
   ]
  },
  {
   "cell_type": "code",
   "execution_count": 52,
   "id": "2120fce3",
   "metadata": {},
   "outputs": [],
   "source": [
    "def construir_matriz_completa(a,b,c):\n",
    "    n = len(b)\n",
    "    A = np.zeros((n,n))\n",
    "    for i in range(0, len(b)):\n",
    "        A[i][i] = b[i]\n",
    "        if i >= 1:\n",
    "            A[i][i-1] = a[i]\n",
    "        if i < len(b)-1:\n",
    "            A[i][i+1] = c[i]\n",
    "            \n",
    "    return A"
   ]
  },
  {
   "cell_type": "code",
   "execution_count": 53,
   "id": "a0693bc6",
   "metadata": {},
   "outputs": [],
   "source": [
    "dfs={}\n",
    "casos=[\"tr_edd\", \"tr_random\", \"tr_sdp\"]\n",
    "experimentos = []\n",
    "metodos=[\"EG_PIVOT\",\"EG_TRI\"]\n",
    "for caso in casos:\n",
    "    dfs[caso]=pd.read_csv(F\"instancias/{caso}/indice.csv\")\n",
    "\n",
    "for caso in casos:\n",
    "    agregar_experimentos(dfs[caso])\n",
    "    \n",
    "if(not os.path.isdir(\"resultados\")):\n",
    "    os.mkdir(\"resultados\")"
   ]
  },
  {
   "cell_type": "code",
   "execution_count": 54,
   "id": "daa8ac65",
   "metadata": {},
   "outputs": [
    {
     "data": {
      "text/plain": [
       "'Experimento: 90/90'"
      ]
     },
     "metadata": {},
     "output_type": "display_data"
    },
    {
     "data": {
      "text/plain": [
       "'Iteracion: 100'"
      ]
     },
     "metadata": {},
     "output_type": "display_data"
    }
   ],
   "source": [
    "# Experimentación con EG_Pivot y EG_Trig\n",
    "columnas = [\"dataset\", \"n\", \"metodo\", \"tiempo\"];\n",
    "filas = []\n",
    "parametros = []\n",
    "numero = 1\n",
    "\n",
    "pathA = F\"instancias/{experimentos[0][0]}/{experimentos[0][1]}\"\n",
    "pathB = F\"instancias/{experimentos[0][0]}/{experimentos[0][2]}\"\n",
    "A = leer_matriz(pathA)\n",
    "b = leer_matriz(pathB)\n",
    "A_square = construir_matriz_completa(A[0], A[1], A[2])\n",
    "EG_Pivot = eliminacion_gaussiana_CP(A_square, b)\n",
    "EG_Trig = EG_tridiagonal(A[0], A[1], A[2], b)\n",
    "clear_output(wait=True)\n",
    "display('Experimento: ' + str(numero) + \"/\" + str(len(experimentos)), display_id='exp')\n",
    "display('Iteracion: ', display_id='iteracion')\n",
    "\n",
    "for experimento in experimentos:\n",
    "    # Voy mostrando que experimento se esta ejecutando.\n",
    "    update_display('Experimento: ' + str(numero) + \"/\" + str(len(experimentos)), display_id='exp')\n",
    "\n",
    "    # Ejecutamos el experimento T veces y obtenemos la mediana.\n",
    "    pathA = F\"instancias/{experimento[0]}/{experimento[1]}\"\n",
    "    pathB = F\"instancias/{experimento[0]}/{experimento[2]}\"\n",
    "    A = leer_matriz(pathA)\n",
    "    b = leer_matriz(pathB)\n",
    "    \n",
    "    A_trig = A\n",
    "    A_square = construir_matriz_completa(A[0], A[1], A[2])\n",
    "\n",
    "    min_CP = 0.0\n",
    "    min_SP = 0.0\n",
    "    \n",
    "    it = 0\n",
    "\n",
    "    update_display('Iteracion: ' + str(it), display_id='iteracion')\n",
    "    \n",
    "    while(it < 100):\n",
    "        EG_Trig = EG_tridiagonal(A[0], A[1], A[2], b)\n",
    "        EG_Pivot = eliminacion_gaussiana_CP(A_square, b)\n",
    "        \n",
    "        if(EG_Pivot[1] < min_CP or min_CP == 0):\n",
    "            min_CP = EG_Pivot[1]\n",
    "            \n",
    "        if(EG_Trig[1] != 0.0):\n",
    "            if(EG_Trig[1] < min_SP or min_SP == 0.0):\n",
    "                min_SP = EG_Trig[1]\n",
    "\n",
    "        it = it + 1\n",
    "        update_display('Iteracion: ' + str(it), display_id='iteracion')\n",
    "        \n",
    "    if(experimento[0] == \"tr_edd\"):\n",
    "        filas.append([\"EDD\", len(b), \"EG_Pivot\", min_CP]);\n",
    "        filas.append([\"EDD\", len(b), \"EG_Tridg\", min_SP]);\n",
    "        \n",
    "    if(experimento[0] == \"tr_random\"):\n",
    "        filas.append([\"RANDOM\", len(b), \"EG_Pivot\", min_CP]);\n",
    "        filas.append([\"RANDOM\", len(b), \"EG_Tridg\", min_SP]);\n",
    "        \n",
    "    if(experimento[0] == \"tr_sdp\"):\n",
    "        filas.append([\"SDP\", len(b), \"EG_Pivot\", min_CP]);\n",
    "        filas.append([\"SDP\", len(b), \"EG_Tridg\", min_SP]);     \n",
    "\n",
    "    numero += 1\n",
    "df_resultado = pd.DataFrame(filas, columns=columnas);\n",
    "df_resultado.to_csv(\"resultados/resultado.csv\", index=False, header=True);"
   ]
  },
  {
   "cell_type": "code",
   "execution_count": 55,
   "id": "561c624e",
   "metadata": {
    "scrolled": false
   },
   "outputs": [
    {
     "data": {
      "image/png": "[encoded data removed]",
      "text/plain": [
       "<Figure size 640x480 with 1 Axes>"
      ]
     },
     "metadata": {},
     "output_type": "display_data"
    },
    {
     "data": {
      "image/png": "[encoded data removed]",
      "text/plain": [
       "<Figure size 640x480 with 1 Axes>"
      ]
     },
     "metadata": {},
     "output_type": "display_data"
    }
   ],
   "source": [
    "x = range(100, 3001, 100)\n",
    "\n",
    "for method in ['EG_Pivot', 'EG_Tridg']:\n",
    "    for dataset in ['EDD', 'RANDOM', 'SDP']:\n",
    "        plt.plot(x, [fila[3] * 1000 for fila in filas if fila[0] == dataset and fila[2] == method], label=dataset)\n",
    "\n",
    "    plt.legend()\n",
    "    plt.xlabel('Largo de la entrada')\n",
    "    plt.ylabel('Tiempo (ms)')\n",
    "    plt.savefig(F\"graficos/4a-algoritmos-{method}.svg\");\n",
    "    plt.show()"
   ]
  },
  {
   "cell_type": "markdown",
   "id": "e5156fee",
   "metadata": {},
   "source": [
    "### Ejercicio 4b"
   ]
  },
  {
   "cell_type": "code",
   "execution_count": 56,
   "id": "c256fa92",
   "metadata": {},
   "outputs": [],
   "source": [
    "dfs_A={}\n",
    "dfs_b={}\n",
    "casos=[\"tr_random_l\", \"tr_sdp_l\", \"tr_edd_l\"]\n",
    "\n",
    "experimentos_A = []\n",
    "experimentos_b = []\n",
    "metodos=[\"EG_TRI\", \"EG_TRI_PRE\"]\n",
    "\n",
    "for caso in casos:\n",
    "    csv_data = pd.read_csv(F\"instancias/{caso}/indice.csv\")\n",
    "    dfs_A[caso]=csv_data[csv_data[\"type\"] == \"A\"].copy()\n",
    "    dfs_b[caso]=csv_data[csv_data[\"type\"] == \"b\"].copy()\n",
    "\n",
    "for caso in casos:\n",
    "    agregar_experimentos_A(dfs_A[caso])\n",
    "    agregar_experimentos_b(dfs_b[caso])\n",
    "    \n",
    "if(not os.path.isdir(\"resultados\")):\n",
    "    os.mkdir(\"resultados\")"
   ]
  },
  {
   "cell_type": "code",
   "execution_count": 74,
   "id": "637d5bef",
   "metadata": {
    "scrolled": false
   },
   "outputs": [
    {
     "data": {
      "text/plain": [
       "'Experimento: 3/3'"
      ]
     },
     "metadata": {},
     "output_type": "display_data"
    },
    {
     "data": {
      "text/plain": [
       "'d_valor: 1000/1001'"
      ]
     },
     "metadata": {},
     "output_type": "display_data"
    }
   ],
   "source": [
    "columnas = [\"dataset\", \"n\", \"metodo\", \"tiempo\", \"d\"];\n",
    "filas = []\n",
    "parametros = []\n",
    "numero = 1\n",
    "position = 0\n",
    "\n",
    "pathA = F\"instancias/{experimentos_A[0][0]}/{experimentos_A[0][1]}\"\n",
    "A = leer_matriz(pathA)\n",
    "\n",
    "a_CPre = A[0].copy()\n",
    "a_SPre = A[0].copy()\n",
    "pathB = F\"instancias/{experimentos_b[0][0]}/{experimentos_b[0][1]}\"\n",
    "d = leer_matriz(pathB)\n",
    "\n",
    "a_CPre, b_CPre, c_CPre, d_CPre = precomputo_eliminacion_gaussiana_tridiagonal(a_CPre, A[1], A[2])\n",
    "EG_CPre = sustitucion_hacia_atras_con_precomputo(b_CPre, c_CPre, d_CPre, d)\n",
    "EG_SPre = EG_tridiagonal(a_SPre, A[1], A[2], d)\n",
    "\n",
    "clear_output(wait=True)\n",
    "\n",
    "display('Experimento: ' + str(numero) + \"/\" + str(len(experimentos_A)), display_id='experimento')\n",
    "display('d_valor: ' + str(0) +  \"/\" + str(1001), display_id='d_valor')\n",
    "\n",
    "for i in range(0, len(experimentos_A)):\n",
    "    experimento_a = experimentos_A[i]\n",
    "    \n",
    "    # Ejecutamos el experimento T veces y obtenemos la mediana.\n",
    "    pathA = F\"instancias/{experimento_a[0]}/{experimento_a[1]}\"\n",
    "    A = leer_matriz(pathA)\n",
    "    \n",
    "    a_CPre = A[0].copy()\n",
    "    a_SPre = A[0].copy()\n",
    "    \n",
    "    a_CPre, b_CPre, c_CPre, d_CPre = precomputo_eliminacion_gaussiana_tridiagonal(a_CPre, A[1], A[2])\n",
    "    \n",
    "    tiempo_con = 0.0\n",
    "    tiempo_sin = 0.0\n",
    "    \n",
    "    for j in range(0, 1001):\n",
    "        experimento_b = experimentos_b[position]\n",
    "        pathB = F\"instancias/{experimento_b[0]}/{experimento_b[1]}\"\n",
    "        d = leer_matriz(pathB)\n",
    "        \n",
    "        EG_CPre = sustitucion_hacia_atras_con_precomputo(b_CPre, c_CPre, d_CPre, d)\n",
    "        EG_SPre = EG_tridiagonal(a_SPre, A[1], A[2], d)\n",
    "\n",
    "        tiempo_con = tiempo_con + EG_CPre[1]\n",
    "        tiempo_sin = tiempo_sin + EG_SPre[1]\n",
    "        \n",
    "        if(experimento_a[0] == \"tr_edd_l\"):\n",
    "            filas.append([\"EDD\", len(d), \"EG_PreC\", tiempo_con, j]);\n",
    "            filas.append([\"EDD\", len(d), \"EG_SinC\", tiempo_sin, j]);\n",
    "        if(experimento_a[0] == \"tr_sdp_l\"): \n",
    "            filas.append([\"SDP\", len(d), \"EG_PreC\", tiempo_con, j]);\n",
    "            filas.append([\"SDP\", len(d), \"EG_SinC\", tiempo_sin, j]);\n",
    "        if(experimento_a[0] == \"tr_random_l\"): \n",
    "            filas.append([\"RANDOM\", len(d), \"EG_PreC\", tiempo_con, j]);\n",
    "            filas.append([\"RANDOM\", len(d), \"EG_SinC\", tiempo_sin, j]);\n",
    "\n",
    "        update_display('Experimento: ' + str(numero) + \"/\" + str(len(experimentos_A)), display_id='experimento')\n",
    "        update_display('d_valor: ' + str(j) +  \"/\" + str(1001), display_id='d_valor')\n",
    "        \n",
    "        position = position + 1\n",
    "    numero += 1\n",
    "df_resultado = pd.DataFrame(filas, columns=columnas);\n",
    "df_resultado.to_csv(\"resultados/resultado-PSComputo.csv\", index=False, header=True);"
   ]
  },
  {
   "cell_type": "code",
   "execution_count": 58,
   "id": "5f082946",
   "metadata": {},
   "outputs": [],
   "source": [
    "def ejercicio_5(n):\n",
    "  d1 = np.zeros(n, dtype=\"d\")\n",
    "  d2 = np.zeros(n, dtype=\"d\")\n",
    "  d3 = np.zeros(n, dtype=\"d\")\n",
    "  a = np.zeros(n, dtype=\"d\")\n",
    "  b = np.zeros(n, dtype=\"d\")\n",
    "  c = np.zeros(n, dtype=\"d\")\n",
    "\n",
    "  try:\n",
    "    index = int(n/2) + 1\n",
    "    d1[index] = 4/n\n",
    "      \n",
    "    for i in range (0,n):\n",
    "      d2[i] = (4 / (n**2))\n",
    "      d3[i] = (-1 + (2*i / (n-1)))*(12 / n**2)\n",
    "\n",
    "      a[i] = 1\n",
    "      c[i] = 1\n",
    "      b[i] = -2\n",
    "\n",
    "    a[0] = 0\n",
    "    c[n-1] = 0\n",
    "\n",
    "    a_CPre, b_CPre, c_CPre, d_CPre = precomputo_eliminacion_gaussiana_tridiagonal(a, b, c)\n",
    "\n",
    "    u1 = sustitucion_hacia_atras_con_precomputo(b_CPre, c_CPre, d_CPre, d1)\n",
    "    u2 = sustitucion_hacia_atras_con_precomputo(b_CPre, c_CPre, d_CPre, d2)\n",
    "    u3 = sustitucion_hacia_atras_con_precomputo(b_CPre, c_CPre, d_CPre, d3)\n",
    "\n",
    "    return [u1[0],u2[0],u3[0]]\n",
    "  except Exception as e:\n",
    "    print(e)"
   ]
  },
  {
   "cell_type": "code",
   "execution_count": 59,
   "id": "a9945fec",
   "metadata": {},
   "outputs": [],
   "source": [
    "derivadas = ejercicio_5(101)"
   ]
  },
  {
   "cell_type": "code",
   "execution_count": 60,
   "id": "88faad6e",
   "metadata": {},
   "outputs": [
    {
     "data": {
      "image/png": "[encoded data removed]",
      "text/plain": [
       "<Figure size 640x480 with 1 Axes>"
      ]
     },
     "metadata": {},
     "output_type": "display_data"
    }
   ],
   "source": [
    "plt.plot(derivadas[0], label=\"(a)\")\n",
    "plt.plot(derivadas[1], label=\"(b)\")\n",
    "plt.plot(derivadas[2], label=\"(c)\")\n",
    "plt.legend(loc='lower left')\n",
    "plt.ylim([-1.1, 0.30])\n",
    "plt.xlabel('x')\n",
    "plt.ylabel('n')\n",
    "plt.savefig(\"graficos/laplaciana.svg\");\n",
    "plt.show()"
   ]
  },
  {
   "cell_type": "markdown",
   "id": "12c28159",
   "metadata": {},
   "source": [
    "## Difusión"
   ]
  },
  {
   "cell_type": "code",
   "execution_count": 61,
   "id": "d521fb72",
   "metadata": {},
   "outputs": [
    {
     "name": "stdout",
     "output_type": "stream",
     "text": [
      "Con alpha 1\n"
     ]
    },
    {
     "data": {
      "image/png": "[encoded data removed]",
      "text/plain": [
       "<Figure size 640x480 with 2 Axes>"
      ]
     },
     "metadata": {},
     "output_type": "display_data"
    },
    {
     "name": "stdout",
     "output_type": "stream",
     "text": [
      "Con alpha 0.1\n"
     ]
    },
    {
     "data": {
      "image/png": "[encoded data removed]",
      "text/plain": [
       "<Figure size 640x480 with 2 Axes>"
      ]
     },
     "metadata": {},
     "output_type": "display_data"
    },
    {
     "name": "stdout",
     "output_type": "stream",
     "text": [
      "Con alpha 10\n"
     ]
    },
    {
     "data": {
      "image/png": "[encoded data removed]",
      "text/plain": [
       "<Figure size 640x480 with 2 Axes>"
      ]
     },
     "metadata": {},
     "output_type": "display_data"
    }
   ],
   "source": [
    "def difusion(alpha, n, r, m):\n",
    "    a = np.full(n, -1 * alpha, dtype=float)\n",
    "    b = np.full(n, 2 * alpha + 1, dtype=float)\n",
    "    c = np.full(n, -1 * alpha, dtype=float)\n",
    "\n",
    "    _, b_pre_res, c_pre_res, d_precomputo = precomputo_eliminacion_gaussiana_tridiagonal(a,b,c)\n",
    "\n",
    "    u = np.empty((m,n))\n",
    "\n",
    "    u_0 = np.zeros(n, dtype=float)\n",
    "    middle = floor(n/2)\n",
    "    for i in range(middle - r + 1, middle + r):\n",
    "        u_0[i] = 1\n",
    "\n",
    "    u[0] = u_0\n",
    "\n",
    "    for i in range(m - 1):\n",
    "        u[i+1] = (sustitucion_hacia_atras_con_precomputo(b_pre_res, c_pre_res, d_precomputo, u[i]))[0]\n",
    "\n",
    "    return u\n",
    "\n",
    "n = 101\n",
    "r = 10\n",
    "m = 1000\n",
    "\n",
    "for alpha in [1, 0.1, 10]:\n",
    "    difusion(alpha,n,r,m).T\n",
    "    print('Con alpha {}'.format(alpha))\n",
    "    plt.pcolor(difusion(alpha,n,r,m).T)\n",
    "    plt.colorbar()\n",
    "    plt.savefig(F\"graficos/difusion-{alpha}.png\")\n",
    "    plt.show()"
   ]
  },
  {
   "cell_type": "markdown",
   "id": "e26f332f",
   "metadata": {},
   "source": [
    "### Instancias de Prueba de los algoritmos"
   ]
  },
  {
   "cell_type": "markdown",
   "id": "c62b2649",
   "metadata": {},
   "source": [
    "#### Gauss Tri-diagonal tradicional"
   ]
  },
  {
   "cell_type": "code",
   "execution_count": 62,
   "id": "a81ca686",
   "metadata": {},
   "outputs": [],
   "source": [
    "a = np.array([ 0.0, 3.0, 6.0, 9.0, 12.0])\n",
    "b = np.array([ 1.0, 4.0, 7.0, 10.0, 13.0])\n",
    "c = np.array([ 2.0, 5.0, 8.0, 11.0, 0.0])\n",
    "d = np.array([ 1.0, 2.0, 3.0, 4.0, 5.0 ])"
   ]
  },
  {
   "cell_type": "code",
   "execution_count": 63,
   "id": "82dac2ff",
   "metadata": {},
   "outputs": [
    {
     "name": "stdout",
     "output_type": "stream",
     "text": [
      "0.12244897959183676\n"
     ]
    }
   ],
   "source": [
    "a_res, b_res, c_res, d_res = eliminacion_gaussiana_tridiagonal(a, b, c, d)\n",
    "x = (sustitucion_hacia_atras(b_res, c_res, d_res))[0]\n",
    "print(x)"
   ]
  },
  {
   "cell_type": "markdown",
   "id": "e47db4cd",
   "metadata": {},
   "source": [
    "#### Gauss Tri-diagonal con pre-computo"
   ]
  },
  {
   "cell_type": "code",
   "execution_count": 64,
   "id": "7c17451d",
   "metadata": {},
   "outputs": [
    {
     "name": "stdout",
     "output_type": "stream",
     "text": [
      "[ 0.12244898  0.43877551 -0.0244898   0.06734694  0.32244898]\n"
     ]
    }
   ],
   "source": [
    "a_pre_res, b_pre_res, c_pre_res, d_precomputo = precomputo_eliminacion_gaussiana_tridiagonal(a, b, c)\n",
    "x_pre = (sustitucion_hacia_atras_con_precomputo(b_pre_res, c_pre_res, d_precomputo, d))[0]\n",
    "print(x_pre)"
   ]
  },
  {
   "cell_type": "markdown",
   "id": "f9dd98c6",
   "metadata": {},
   "source": [
    "#### Eliminación Gausseana Con y Sin Pivoteo"
   ]
  },
  {
   "cell_type": "code",
   "execution_count": 65,
   "id": "5ef84a18",
   "metadata": {},
   "outputs": [
    {
     "name": "stdout",
     "output_type": "stream",
     "text": [
      "[ 4. -1.]\n"
     ]
    }
   ],
   "source": [
    "A = np.array([\n",
    "    [1,1],\n",
    "    [1,2]\n",
    "])\n",
    "\n",
    "b = np.array([3,2])\n",
    "\n",
    "print(eliminacion_gaussiana_SP(A, b))"
   ]
  },
  {
   "cell_type": "code",
   "execution_count": 66,
   "id": "2b45bb71",
   "metadata": {},
   "outputs": [
    {
     "name": "stdout",
     "output_type": "stream",
     "text": [
      "[  1. -30.   7.  16.]\n"
     ]
    }
   ],
   "source": [
    "A = np.array([\n",
    "    [2, 1, -1, 3],\n",
    "    [-2, 0, 0, 0],\n",
    "    [4, 1, -2, 4],\n",
    "    [-6, -1, 2, -3]\n",
    "])\n",
    "\n",
    "b = np.array([13, -2, 24, -10])\n",
    "\n",
    "res = eliminacion_gaussiana_SP(np.copy(A), np.copy(b))\n",
    "print(res)\n",
    "\n",
    "assert(np.allclose(np.dot(A, res), b))"
   ]
  },
  {
   "cell_type": "markdown",
   "id": "1cac09cb",
   "metadata": {},
   "source": [
    "A continuación una prueba para una matriz de floats"
   ]
  },
  {
   "cell_type": "code",
   "execution_count": 67,
   "id": "46e5039e",
   "metadata": {},
   "outputs": [
    {
     "name": "stdout",
     "output_type": "stream",
     "text": [
      "[  1. -30.   7.  16.]\n"
     ]
    }
   ],
   "source": [
    "A = np.array([\n",
    "    [2., 1., -1., 3.],\n",
    "    [-2., 0., 0., 0.],\n",
    "    [4., 1., -2., 4.],\n",
    "    [-6., -1., 2., -3.]\n",
    "])\n",
    "\n",
    "b = np.array([13., -2., 24., -10])\n",
    "\n",
    "res = (eliminacion_gaussiana_CP(np.copy(A), np.copy(b)))[0]\n",
    "print(res)\n",
    "\n",
    "\n",
    "assert(np.allclose(np.dot(A, res), b))"
   ]
  },
  {
   "cell_type": "code",
   "execution_count": 68,
   "id": "0187a990",
   "metadata": {},
   "outputs": [
    {
     "name": "stderr",
     "output_type": "stream",
     "text": [
      "/tmp/ipykernel_6974/572586751.py:1: NumbaWarning: \n",
      "Compilation is falling back to object mode WITH looplifting enabled because Function \"eliminacion_gaussiana_CP\" failed type inference due to: Unknown attribute 'time' of type Module(<module 'time' (built-in)>)\n",
      "\n",
      "File \"../../../../../../../tmp/ipykernel_6974/572586751.py\", line 5:\n",
      "<source missing, REPL/exec in use?>\n",
      "\n",
      "During: typing of get attribute at /tmp/ipykernel_6974/572586751.py (5)\n",
      "\n",
      "File \"../../../../../../../tmp/ipykernel_6974/572586751.py\", line 5:\n",
      "<source missing, REPL/exec in use?>\n",
      "\n",
      "  @jit\n",
      "/tmp/ipykernel_6974/572586751.py:1: NumbaWarning: \n",
      "Compilation is falling back to object mode WITHOUT looplifting enabled because Function \"eliminacion_gaussiana_CP\" failed type inference due to: Cannot determine Numba type of <class 'numba.core.dispatcher.LiftedLoop'>\n",
      "\n",
      "File \"../../../../../../../tmp/ipykernel_6974/572586751.py\", line 7:\n",
      "<source missing, REPL/exec in use?>\n",
      "\n",
      "  @jit\n",
      "/home/matias/.local/lib/python3.11/site-packages/numba/core/object_mode_passes.py:151: NumbaWarning: Function \"eliminacion_gaussiana_CP\" was compiled in object mode without forceobj=True, but has lifted loops.\n",
      "\n",
      "File \"../../../../../../../tmp/ipykernel_6974/572586751.py\", line 1:\n",
      "<source missing, REPL/exec in use?>\n",
      "\n",
      "  warnings.warn(errors.NumbaWarning(warn_msg,\n",
      "/home/matias/.local/lib/python3.11/site-packages/numba/core/object_mode_passes.py:161: NumbaDeprecationWarning: \n",
      "Fall-back from the nopython compilation path to the object mode compilation path has been detected. This is deprecated behaviour that will be removed in Numba 0.59.0.\n",
      "\n",
      "For more information visit https://numba.readthedocs.io/en/stable/reference/deprecation.html#deprecation-of-object-mode-fall-back-behaviour-when-using-jit\n",
      "\n",
      "File \"../../../../../../../tmp/ipykernel_6974/572586751.py\", line 1:\n",
      "<source missing, REPL/exec in use?>\n",
      "\n",
      "  warnings.warn(errors.NumbaDeprecationWarning(msg,\n"
     ]
    },
    {
     "name": "stdout",
     "output_type": "stream",
     "text": [
      "[ -1. -26.  -3.  12.]\n",
      "[ -1. -26.  -3.  12.]\n",
      "\n",
      "\n",
      "[  1. -30.   7.  16.]\n",
      "[  1. -30.   7.  16.]\n",
      "\n",
      "\n",
      "[1. 4. 0. 4.]\n",
      "[1.0000000e+00 4.0000000e+00 2.5757174e-14 4.0000000e+00]\n",
      "\n",
      "\n",
      "[-0.26136368  0.52272728  0.15909089 -0.24999997]\n",
      "[-0.26136363  0.52272725  0.1590909  -0.25      ]\n",
      "\n",
      "\n"
     ]
    }
   ],
   "source": [
    "def test_eg_cp(A,b):\n",
    "    EG = (eliminacion_gaussiana_CP(A, b))[0]\n",
    "    print(EG)\n",
    "    print(np.linalg.solve(A,b))\n",
    "    assert(np.allclose(EG, np.linalg.solve(A,b)))\n",
    "    print(\"\\n\")\n",
    "\n",
    "# Sin triangular - Decimales chicos\n",
    "A = np.array([[0.0000000000000002,1,-1,3], [2,0.0000000000000002,0,0], [4,1,-2,4], [-6,-1,2,-3]], dtype=\"f\")\n",
    "b = np.array([13,-2,24,-10], dtype=\"f\")\n",
    "test_eg_cp(A,b)\n",
    "\n",
    "# Sin triangular\n",
    "A = np.array([[2,1,-1,3], [-2,0,0,0], [4,1,-2,4], [-6,-1,2,-3]], dtype=\"f\")\n",
    "b = np.array([13,-2,24,-10], dtype=\"f\")\n",
    "test_eg_cp(A,b)\n",
    "\n",
    "# Elementos con decimales\n",
    "A = np.array([[1,eps,-1,3], [-2,eps,0,0], [4,1,eps,4], [-6,-1,2,eps]], dtype=\"f\")\n",
    "b = np.array([13,-2,24,-10], dtype=\"f\")\n",
    "test_eg_cp(A,b)\n",
    "\n",
    "# Elementos con decimales\n",
    "A = np.array([[0,2,6,4], [4,6,1,5], [2,3,6,4], [6,8,-7,2]], dtype=\"f\")\n",
    "b = np.array([1,1,1,1], dtype=\"f\")\n",
    "test_eg_cp(A,b)"
   ]
  }
 ],
 "metadata": {
  "kernelspec": {
   "display_name": "Python 3 (ipykernel)",
   "language": "python",
   "name": "python3"
  },
  "language_info": {
   "codemirror_mode": {
    "name": "ipython",
    "version": 3
   },
   "file_extension": ".py",
   "mimetype": "text/x-python",
   "name": "python",
   "nbconvert_exporter": "python",
   "pygments_lexer": "ipython3",
   "version": "3.11.4"
  }
 },
 "nbformat": 4,
 "nbformat_minor": 5
}
