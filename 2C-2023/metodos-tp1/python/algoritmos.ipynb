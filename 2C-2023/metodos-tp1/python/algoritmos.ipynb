{
 "cells": [
  {
   "cell_type": "markdown",
   "id": "5d2aa954",
   "metadata": {},
   "source": [
    "# Eliminacion gaussiana\n",
    "\n",
    "Se utiliza numpy unicamente para instanciar arreglos"
   ]
  },
  {
   "cell_type": "code",
   "execution_count": 30,
   "id": "3d6ccf43",
   "metadata": {},
   "outputs": [],
   "source": [
    "import numpy as np\n",
    "from numba import jit\n",
    "import time\n",
    "\n",
    "eps_trid = 1e-6"
   ]
  },
  {
   "cell_type": "code",
   "execution_count": 31,
   "id": "0c27076c",
   "metadata": {},
   "outputs": [
    {
     "name": "stderr",
     "output_type": "stream",
     "text": [
      "/tmp/ipykernel_6913/3469964432.py:1: NumbaDeprecationWarning: The 'nopython' keyword argument was not supplied to the 'numba.jit' decorator. The implicit default value for this argument is currently False, but it will be changed to True in Numba 0.59.0. See https://numba.readthedocs.io/en/stable/reference/deprecation.html#deprecation-of-object-mode-fall-back-behaviour-when-using-jit for details.\n",
      "  @jit\n"
     ]
    }
   ],
   "source": [
    "@jit\n",
    "def restar_multiplo_de_fila(A, i, j, escalar):\n",
    "    for col in range(len(A[i])):\n",
    "        A[i][col] -= A[j][col] * escalar\n",
    "    return A"
   ]
  },
  {
   "cell_type": "markdown",
   "id": "1d1c8d99",
   "metadata": {},
   "source": [
    "### Algoritmo\n",
    "\n",
    "El algoritmo realiza dos pasos.\n",
    "\n",
    "1. Primero se diagonaliza la matriz de entrada. Las operaciones de multiplicacion por escalar y resta de filas se realiza tanto para la matriz como para el vector de terminos independientes\n",
    "2. Se calculan los valores de la solucion desde la ultima fila hacia la primera\n",
    "\n",
    "Si en algun momento el pivot, es decir el elemento que se usa para diagonalizar las filas posteriores, es 0, el algoritmo levanta una excepcion."
   ]
  },
  {
   "cell_type": "code",
   "execution_count": 32,
   "id": "35686baa",
   "metadata": {},
   "outputs": [
    {
     "name": "stderr",
     "output_type": "stream",
     "text": [
      "/tmp/ipykernel_6913/559068186.py:1: NumbaDeprecationWarning: The 'nopython' keyword argument was not supplied to the 'numba.jit' decorator. The implicit default value for this argument is currently False, but it will be changed to True in Numba 0.59.0. See https://numba.readthedocs.io/en/stable/reference/deprecation.html#deprecation-of-object-mode-fall-back-behaviour-when-using-jit for details.\n",
      "  @jit\n"
     ]
    }
   ],
   "source": [
    "@jit\n",
    "def diagonalizar_columna(A, b, i):\n",
    "    pivot = A[i][i]\n",
    "    if (pivot == 0):\n",
    "        raise Exception('No puede resolverse')\n",
    "    elif (abs(pivot) < eps_trid):\n",
    "        print(F'Division por numero cercano a 0 puede ocasionar error numérico: {pivot}')\n",
    "    for fila in range(i + 1, len(A)):\n",
    "        if (A[fila][i] != 0):\n",
    "            escalar = A[fila][i]/pivot\n",
    "            restar_multiplo_de_fila(A, fila, i, escalar)\n",
    "            b[fila] = b[fila] - (b[i] * escalar)"
   ]
  },
  {
   "cell_type": "code",
   "execution_count": 33,
   "id": "1462299c",
   "metadata": {},
   "outputs": [
    {
     "name": "stderr",
     "output_type": "stream",
     "text": [
      "/tmp/ipykernel_6913/2877216679.py:1: NumbaDeprecationWarning: The 'nopython' keyword argument was not supplied to the 'numba.jit' decorator. The implicit default value for this argument is currently False, but it will be changed to True in Numba 0.59.0. See https://numba.readthedocs.io/en/stable/reference/deprecation.html#deprecation-of-object-mode-fall-back-behaviour-when-using-jit for details.\n",
      "  @jit\n"
     ]
    }
   ],
   "source": [
    "@jit\n",
    "def resolver_sistema_diagonal(A, b):\n",
    "    solucion = np.zeros(len(b))\n",
    "    for i in range(len(solucion)-1, -1, -1):\n",
    "        suma_variables_posteriores = 0\n",
    "        for j in range (i + 1, len(solucion)):\n",
    "            suma_variables_posteriores += A[i][j] * solucion[j]\n",
    "\n",
    "        if (A[i][i] != 0):\n",
    "            solucion[i] = (b[i] - suma_variables_posteriores)/A[i][i]\n",
    "        else:\n",
    "            solucion[i] = 0\n",
    "    return solucion"
   ]
  },
  {
   "cell_type": "code",
   "execution_count": 34,
   "id": "9041e9a7",
   "metadata": {},
   "outputs": [
    {
     "name": "stderr",
     "output_type": "stream",
     "text": [
      "/tmp/ipykernel_6913/2261804321.py:1: NumbaDeprecationWarning: The 'nopython' keyword argument was not supplied to the 'numba.jit' decorator. The implicit default value for this argument is currently False, but it will be changed to True in Numba 0.59.0. See https://numba.readthedocs.io/en/stable/reference/deprecation.html#deprecation-of-object-mode-fall-back-behaviour-when-using-jit for details.\n",
      "  @jit\n"
     ]
    }
   ],
   "source": [
    "@jit\n",
    "def permutar(matriz, i, j):\n",
    "    for col in range(len(matriz)):\n",
    "        temp = matriz[i][col]\n",
    "        matriz[i][col] = matriz[j][col]\n",
    "        matriz[j][col] = temp\n",
    "    return matriz"
   ]
  },
  {
   "cell_type": "code",
   "execution_count": 35,
   "id": "9c89da91",
   "metadata": {},
   "outputs": [
    {
     "name": "stderr",
     "output_type": "stream",
     "text": [
      "/tmp/ipykernel_6913/3862351391.py:1: NumbaDeprecationWarning: The 'nopython' keyword argument was not supplied to the 'numba.jit' decorator. The implicit default value for this argument is currently False, but it will be changed to True in Numba 0.59.0. See https://numba.readthedocs.io/en/stable/reference/deprecation.html#deprecation-of-object-mode-fall-back-behaviour-when-using-jit for details.\n",
      "  @jit\n"
     ]
    }
   ],
   "source": [
    "@jit\n",
    "def permutar_vector(vector, i, j):\n",
    "    temp = vector[i]\n",
    "    vector[i] = vector[j]\n",
    "    vector[j] = temp\n",
    "    return vector"
   ]
  },
  {
   "cell_type": "code",
   "execution_count": 36,
   "id": "f572de13",
   "metadata": {},
   "outputs": [
    {
     "name": "stderr",
     "output_type": "stream",
     "text": [
      "/tmp/ipykernel_6913/2166191619.py:1: NumbaDeprecationWarning: The 'nopython' keyword argument was not supplied to the 'numba.jit' decorator. The implicit default value for this argument is currently False, but it will be changed to True in Numba 0.59.0. See https://numba.readthedocs.io/en/stable/reference/deprecation.html#deprecation-of-object-mode-fall-back-behaviour-when-using-jit for details.\n",
      "  @jit\n"
     ]
    }
   ],
   "source": [
    "@jit\n",
    "def eliminacion_gaussiana_SP(A, b):\n",
    "    for i in range(len(A) - 1):\n",
    "        diagonalizar_columna(A, b, i)\n",
    "    return resolver_sistema_diagonal(A, b)"
   ]
  },
  {
   "cell_type": "code",
   "execution_count": 37,
   "id": "470e19ed",
   "metadata": {},
   "outputs": [
    {
     "name": "stderr",
     "output_type": "stream",
     "text": [
      "/tmp/ipykernel_6913/572586751.py:1: NumbaDeprecationWarning: The 'nopython' keyword argument was not supplied to the 'numba.jit' decorator. The implicit default value for this argument is currently False, but it will be changed to True in Numba 0.59.0. See https://numba.readthedocs.io/en/stable/reference/deprecation.html#deprecation-of-object-mode-fall-back-behaviour-when-using-jit for details.\n",
      "  @jit\n"
     ]
    }
   ],
   "source": [
    "@jit\n",
    "def eliminacion_gaussiana_CP(A, b):\n",
    "    A_res = np.copy(A)\n",
    "    b_res = np.copy(b)\n",
    "    start_time = time.time()\n",
    "    # Diagonalizar\n",
    "    for i in range(len(A_res) - 1):\n",
    "        fila_pivot = i\n",
    "        for j in range(i + 1, len(A_res)):\n",
    "            if (A_res[j][i] > A_res[fila_pivot][i]):\n",
    "                fila_pivot = j\n",
    "        if (fila_pivot != i):\n",
    "            permutar(A_res, i, fila_pivot)\n",
    "            permutar_vector(b_res, i, fila_pivot)\n",
    "        if (A_res[i][i] != 0):\n",
    "            diagonalizar_columna(A_res, b_res, i)\n",
    "    return [resolver_sistema_diagonal(A_res, b_res), (time.time() - start_time)]"
   ]
  },
  {
   "cell_type": "markdown",
   "id": "6fac651d",
   "metadata": {},
   "source": [
    "# Gauss Tri-diagonal tradicional"
   ]
  },
  {
   "cell_type": "code",
   "execution_count": 38,
   "id": "37b57dbb",
   "metadata": {},
   "outputs": [
    {
     "name": "stderr",
     "output_type": "stream",
     "text": [
      "/tmp/ipykernel_6913/2280620609.py:1: NumbaDeprecationWarning: The 'nopython' keyword argument was not supplied to the 'numba.jit' decorator. The implicit default value for this argument is currently False, but it will be changed to True in Numba 0.59.0. See https://numba.readthedocs.io/en/stable/reference/deprecation.html#deprecation-of-object-mode-fall-back-behaviour-when-using-jit for details.\n",
      "  @jit\n"
     ]
    }
   ],
   "source": [
    "@jit\n",
    "def EG_tridiagonal(a,b,c,d):\n",
    "    a_res = np.copy(a)\n",
    "    b_res = np.copy(b)\n",
    "    c_res = np.copy(c)\n",
    "    d_res = np.copy(d)\n",
    "    \n",
    "    start_time = time.time()\n",
    "    a_sol, b_sol, c_sol, d_sol = eliminacion_gaussiana_tridiagonal(a_res, b_res, c_res, d_res)\n",
    "    res = sustitucion_hacia_atras(b_sol, c_sol, d_sol)\n",
    "    \n",
    "    return [res, (time.time() - start_time)]"
   ]
  },
  {
   "cell_type": "code",
   "execution_count": 39,
   "id": "eab3cc9c",
   "metadata": {},
   "outputs": [
    {
     "name": "stderr",
     "output_type": "stream",
     "text": [
      "/tmp/ipykernel_6913/2888417156.py:3: NumbaDeprecationWarning: The 'nopython' keyword argument was not supplied to the 'numba.jit' decorator. The implicit default value for this argument is currently False, but it will be changed to True in Numba 0.59.0. See https://numba.readthedocs.io/en/stable/reference/deprecation.html#deprecation-of-object-mode-fall-back-behaviour-when-using-jit for details.\n",
      "  @jit\n"
     ]
    }
   ],
   "source": [
    "# Dados los vectores a, b, c (matriz tri-diagonal) y d (vector independiente)\n",
    "# devuelve los vectores resultantes de aplicarles eliminacion gaussiana\n",
    "@jit\n",
    "def eliminacion_gaussiana_tridiagonal(a, b, c, d):\n",
    "    n = b.shape[0]\n",
    "    for i in range(n-1):\n",
    "        if abs(b[i]) < eps_trid:\n",
    "            raise Exception(\"Gauss no aplicable\")\n",
    "        m = a[i+1]/b[i]\n",
    "        a[i+1] = 0.0\n",
    "        b[i+1] = b[i+1] - (m * c[i])\n",
    "        d[i+1] = d[i+1] - (m * d[i])\n",
    "    if abs(b[n-1]) < eps_trid:\n",
    "        if abs(d[n-1]) < eps_trid:\n",
    "            raise Exception(\"Sistema con infinitas soluciones\")\n",
    "        else:\n",
    "            raise Exception(\"Sistema sin soluciones\")\n",
    "    return a, b, c, d"
   ]
  },
  {
   "cell_type": "code",
   "execution_count": 40,
   "id": "7b5500ad",
   "metadata": {},
   "outputs": [
    {
     "name": "stderr",
     "output_type": "stream",
     "text": [
      "/tmp/ipykernel_6913/47674028.py:3: NumbaDeprecationWarning: The 'nopython' keyword argument was not supplied to the 'numba.jit' decorator. The implicit default value for this argument is currently False, but it will be changed to True in Numba 0.59.0. See https://numba.readthedocs.io/en/stable/reference/deprecation.html#deprecation-of-object-mode-fall-back-behaviour-when-using-jit for details.\n",
      "  @jit\n"
     ]
    }
   ],
   "source": [
    "# Dados los vectores b, c y d resultantes de aplicar eliminacion gaussiana (el vector a no se utiliza),\n",
    "#   devuelve el vector resultado x\n",
    "@jit\n",
    "def sustitucion_hacia_atras(b_res, c_res, d_res):\n",
    "    n = b_res.shape[0]\n",
    "    x = np.zeros(n)\n",
    "    for i in range(n-1, -1, -1):\n",
    "        if i == (n-1):\n",
    "            x[i] = d_res[i] / b_res[i] # b_res[i] == 0 ??\n",
    "        else:\n",
    "            x[i] = (d_res[i] - (x[i+1] * c_res[i])) / b_res[i]\n",
    "    return x"
   ]
  },
  {
   "cell_type": "markdown",
   "id": "e26e0485",
   "metadata": {},
   "source": [
    "# Gauss Tri-diagonal con pre-computo"
   ]
  },
  {
   "cell_type": "code",
   "execution_count": 41,
   "id": "b9ac6ddf",
   "metadata": {},
   "outputs": [
    {
     "name": "stderr",
     "output_type": "stream",
     "text": [
      "/tmp/ipykernel_6913/2143533843.py:4: NumbaDeprecationWarning: The 'nopython' keyword argument was not supplied to the 'numba.jit' decorator. The implicit default value for this argument is currently False, but it will be changed to True in Numba 0.59.0. See https://numba.readthedocs.io/en/stable/reference/deprecation.html#deprecation-of-object-mode-fall-back-behaviour-when-using-jit for details.\n",
      "  @jit\n"
     ]
    }
   ],
   "source": [
    "# Dados los vectores a, b y c (matriz tri-diagonal)\n",
    "# devuelve los vectores resultantes de aplicarles eliminacion gaussiana\n",
    "# y un vector que contiene los multiplicadores pre-calculados a aplicar sobre el vector independiente d\n",
    "@jit\n",
    "def precomputo_eliminacion_gaussiana_tridiagonal(a, b, c):\n",
    "    n = b.shape[0]\n",
    "    a_res = np.copy(a)\n",
    "    b_res = np.copy(b)\n",
    "    c_res = np.copy(c)\n",
    "    d_precomputo = np.zeros(n)\n",
    "    for i in range(n-1):\n",
    "        if abs(b_res[i]) < eps_trid:\n",
    "            raise Exception(\"Gauss no aplicable\")\n",
    "        m = a_res[i+1]/b_res[i]\n",
    "        a_res[i+1] = 0.0\n",
    "        b_res[i+1] = b_res[i+1] - (m * c_res[i])\n",
    "        d_precomputo[i+1] = m\n",
    "    if abs(b_res[n-1]) < eps_trid:\n",
    "        raise Exception(\"Sistema con ninguna o infinitas soluciones\")\n",
    "    return a_res, b_res, c_res, d_precomputo"
   ]
  },
  {
   "cell_type": "code",
   "execution_count": 42,
   "id": "195682e0",
   "metadata": {},
   "outputs": [
    {
     "name": "stderr",
     "output_type": "stream",
     "text": [
      "/tmp/ipykernel_6913/3472278689.py:4: NumbaDeprecationWarning: The 'nopython' keyword argument was not supplied to the 'numba.jit' decorator. The implicit default value for this argument is currently False, but it will be changed to True in Numba 0.59.0. See https://numba.readthedocs.io/en/stable/reference/deprecation.html#deprecation-of-object-mode-fall-back-behaviour-when-using-jit for details.\n",
      "  @jit\n"
     ]
    }
   ],
   "source": [
    "# Dado el vector independiente d,\n",
    "# devuelve el resultado de aplicarle los multiplicadores pre-calculados\n",
    "# Funcion auxiliar utilizada en sustitucion_hacia_atras_con_precomputo\n",
    "@jit\n",
    "def aplicar_precomputo(d, d_precomputo):\n",
    "    n = d.shape[0]\n",
    "    d_res = np.zeros(n)\n",
    "    for i in range(n):\n",
    "        if i == 0:\n",
    "            d_res[i] = d[i]\n",
    "        else:\n",
    "            d_res[i] = d[i] - (d_precomputo[i] * d_res[i-1])\n",
    "    return d_res"
   ]
  },
  {
   "cell_type": "code",
   "execution_count": 43,
   "id": "9977ff74",
   "metadata": {},
   "outputs": [
    {
     "name": "stderr",
     "output_type": "stream",
     "text": [
      "/tmp/ipykernel_6913/28558854.py:3: NumbaDeprecationWarning: The 'nopython' keyword argument was not supplied to the 'numba.jit' decorator. The implicit default value for this argument is currently False, but it will be changed to True in Numba 0.59.0. See https://numba.readthedocs.io/en/stable/reference/deprecation.html#deprecation-of-object-mode-fall-back-behaviour-when-using-jit for details.\n",
      "  @jit\n"
     ]
    }
   ],
   "source": [
    "# Dados los vectores b y c resultantes de aplicar gauss, el vector con los multiplicadores pre-calculados y el vector independiente d,\n",
    "# devuelve el vector resultado x\n",
    "@jit\n",
    "def sustitucion_hacia_atras_con_precomputo(b_res, c_res, d_precomputo, d):\n",
    "    start_time = time.time()\n",
    "    d_res = aplicar_precomputo(d, d_precomputo)\n",
    "    n = b_res.shape[0]\n",
    "    res = np.zeros(n)\n",
    "    for i in range(n-1, -1, -1):\n",
    "        if i == (n-1):\n",
    "            res[i] = d_res[i] / b_res[i] # TODO: si b_res[i] == 0 ??\n",
    "        else:\n",
    "            res[i] = (d_res[i] - (res[i+1] * c_res[i])) / b_res[i]\n",
    "    return [res, (time.time() - start_time)]"
   ]
  }
 ],
 "metadata": {
  "kernelspec": {
   "display_name": "Python 3 (ipykernel)",
   "language": "python",
   "name": "python3"
  },
  "language_info": {
   "codemirror_mode": {
    "name": "ipython",
    "version": 3
   },
   "file_extension": ".py",
   "mimetype": "text/x-python",
   "name": "python",
   "nbconvert_exporter": "python",
   "pygments_lexer": "ipython3",
   "version": "3.11.4"
  }
 },
 "nbformat": 4,
 "nbformat_minor": 5
}
