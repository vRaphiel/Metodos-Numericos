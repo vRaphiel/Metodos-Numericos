{
 "cells": [
  {
   "cell_type": "code",
   "execution_count": null,
   "id": "e8ed3ea5",
   "metadata": {},
   "outputs": [],
   "source": [
    "import random, math\n",
    "import pandas as pd\n",
    "import numpy as np\n",
    "import os\n",
    "import sklearn\n",
    "from sklearn import datasets\n",
    "import functools\n",
    "from IPython.display import display, clear_output\n",
    "from numba import jit\n",
    "random.seed(12345)\n",
    "\n",
    "eps = 10e-15"
   ]
  },
  {
   "cell_type": "markdown",
   "id": "19d415ee",
   "metadata": {},
   "source": [
    "Para cada experimento se realizarán diferentes casos de prueba con los cuales se evaluará no solo el rendimiento si no también la precisión de los resultados"
   ]
  },
  {
   "cell_type": "code",
   "execution_count": null,
   "id": "407386b4",
   "metadata": {},
   "outputs": [],
   "source": [
    "# Generar txt y guardar instancia\n",
    "def save_instanceA(dataset, instance_name, matriz): \n",
    "    if(not os.path.isdir(F\"instancias/{dataset}\")):\n",
    "        os.mkdir(F\"instancias/{dataset}\")\n",
    "                \n",
    "    with open(F\"instancias/{dataset}/{instance_name}.txt\", \"w\") as f:\n",
    "        for i in range(0, len(matriz)):\n",
    "            for j in range(0, len(matriz[i])):\n",
    "                print(matriz[i][j], file=f, end=\" \")\n",
    "            print(file=f, end=\"\\n\")\n",
    "            \n",
    "# Generar txt y guardar instancia\n",
    "def save_instanceB(dataset, instance_name, vector): \n",
    "    if(not os.path.isdir(F\"instancias/{dataset}\")):\n",
    "        os.mkdir(F\"instancias/{dataset}\")\n",
    "                \n",
    "    with open(F\"instancias/{dataset}/{instance_name}.txt\", \"w\") as f:\n",
    "        for i in range(0, len(vector)):\n",
    "            print(vector[i], file=f, end=\" \")\n",
    "        print(file=f, end=\"\\n\")"
   ]
  },
  {
   "cell_type": "code",
   "execution_count": null,
   "id": "654d405d",
   "metadata": {},
   "outputs": [],
   "source": [
    "@jit\n",
    "def guardar_CSV_normal(folder_name, arr_instancias):\n",
    "    pd.DataFrame(arr_instancias, columns=[\"dataset\", \"archivo-A\",\"archivo-b\", \"n\", \"notas\"]).to_csv(F\"instancias/{folder_name}/indice.csv\", index=False, header=True)\n",
    "    \n",
    "@jit\n",
    "def guardar_CSV_tridg(folder_name, arr_instancias):\n",
    "    pd.DataFrame(arr_instancias, columns=[\"dataset\", \"archivo\", \"n\", \"type\", \"notas\"]).to_csv(F\"instancias/{folder_name}/indice.csv\", index=False, header=True)"
   ]
  },
  {
   "cell_type": "markdown",
   "id": "18b03bce",
   "metadata": {},
   "source": [
    "## Matrices Completas"
   ]
  },
  {
   "cell_type": "markdown",
   "id": "b7f2f5bf",
   "metadata": {},
   "source": [
    "### Genero los \"b\""
   ]
  },
  {
   "cell_type": "code",
   "execution_count": null,
   "id": "e0991a83",
   "metadata": {},
   "outputs": [],
   "source": [
    "@jit\n",
    "def generate_b(n):\n",
    "    b = np.random.rand(n)\n",
    "    return b\n",
    "\n",
    "@jit\n",
    "def generate_b_dec(n):\n",
    "    return [rnd() for _ in range(n)]"
   ]
  },
  {
   "cell_type": "code",
   "execution_count": null,
   "id": "a85147d5",
   "metadata": {},
   "outputs": [],
   "source": [
    "@jit\n",
    "def construir_matriz_completa(a,b,c):\n",
    "    n = len(b)\n",
    "    A = np.zeros((n,n))\n",
    "    for i in range(0, len(b)):\n",
    "        A[i][i] = b[i]\n",
    "        if i >= 1:\n",
    "            A[i][i-1] = a[i]\n",
    "        if i < len(b)-1:\n",
    "            A[i][i+1] = c[i]\n",
    "            \n",
    "    return A"
   ]
  },
  {
   "cell_type": "code",
   "execution_count": null,
   "id": "58348d73",
   "metadata": {},
   "outputs": [],
   "source": [
    "@jit\n",
    "def rnd():\n",
    "    exp = np.random.randint(-19, -1)\n",
    "    significand = 0.9 * np.random.random() + 0.1\n",
    "    return significand * 10**exp"
   ]
  },
  {
   "cell_type": "markdown",
   "id": "bd33b808",
   "metadata": {},
   "source": [
    "## Matrices completas"
   ]
  },
  {
   "cell_type": "markdown",
   "id": "c0afeef6",
   "metadata": {},
   "source": [
    "### Matrices EDD"
   ]
  },
  {
   "cell_type": "code",
   "execution_count": null,
   "id": "3b484923",
   "metadata": {},
   "outputs": [],
   "source": [
    "@jit\n",
    "def edd(n, max_val):\n",
    "    A = np.random.randint(max_val, size=(n, n))\n",
    "    for i in range(0, n):\n",
    "        value = 0;\n",
    "        for j in range(0, n):\n",
    "            if i != j:\n",
    "                value = value + np.abs(A[i][j]);\n",
    "        A[i][i] = sum_val*n\n",
    "    return A"
   ]
  },
  {
   "cell_type": "markdown",
   "id": "269278dc",
   "metadata": {},
   "source": [
    "### Matrices SDP (Simétricas Definidas Positivas)"
   ]
  },
  {
   "cell_type": "code",
   "execution_count": null,
   "id": "3961dcf7",
   "metadata": {},
   "outputs": [],
   "source": [
    "@jit\n",
    "def sdp(n):\n",
    "    A = sklearn.datasets.make_spd_matrix(n)\n",
    "    return A"
   ]
  },
  {
   "cell_type": "markdown",
   "id": "1b79a3dc",
   "metadata": {},
   "source": [
    "### Matrices Aleatorias"
   ]
  },
  {
   "cell_type": "code",
   "execution_count": null,
   "id": "bdac5d62",
   "metadata": {},
   "outputs": [],
   "source": [
    "@jit\n",
    "def random(n, nmin, nmax):\n",
    "    L = np.tril(np.random.randint(max_val, size=(n, n)))\n",
    "    U = np.triu(np.random.randint(max_val, size=(n, n)))\n",
    "    for i in range(0, n):\n",
    "        L[i][i] = 1\n",
    "    return (L @ U)"
   ]
  },
  {
   "cell_type": "markdown",
   "id": "664d028f",
   "metadata": {},
   "source": [
    "## Matrices tridiagonales"
   ]
  },
  {
   "cell_type": "markdown",
   "id": "a39f42a0",
   "metadata": {},
   "source": [
    "### Matrices EDD"
   ]
  },
  {
   "cell_type": "code",
   "execution_count": null,
   "id": "53614ffc",
   "metadata": {},
   "outputs": [],
   "source": [
    "@jit\n",
    "def tr_edd(n):\n",
    "    a = np.random.rand(n)\n",
    "    b = np.zeros(n)\n",
    "    c = np.random.rand(n)\n",
    "    for i in range(0, len(a)):\n",
    "        sum_val = np.abs(a[i]) + np.abs(c[i])\n",
    "        b[i] = sum_val*n\n",
    "        \n",
    "    a[0] = 0\n",
    "    c[-1] = 0\n",
    "    A = [a, b, c]\n",
    "    return A"
   ]
  },
  {
   "cell_type": "markdown",
   "id": "5a67cf73",
   "metadata": {},
   "source": [
    "### Matrices SDP (Simétricas Definidas Positivas)"
   ]
  },
  {
   "cell_type": "code",
   "execution_count": null,
   "id": "653ee9b1",
   "metadata": {},
   "outputs": [],
   "source": [
    "@jit\n",
    "def tr_simetric_definite_positive(n):\n",
    "    A = sklearn.datasets.make_spd_matrix(n)\n",
    "    \n",
    "    a = np.zeros(n)\n",
    "    b = np.zeros(n)\n",
    "    c = np.zeros(n)\n",
    "    \n",
    "    for i in range(0, len(A)):\n",
    "        b[i] = A[i][i]\n",
    "    \n",
    "    for i in range(1, len(A)):\n",
    "        a[i] = A[i][i-1]\n",
    "    \n",
    "    for i in range(0, len(A)-1):\n",
    "        c[i] = A[i][i+1]\n",
    "    \n",
    "    B = [a, b, c]\n",
    "    \n",
    "    return B"
   ]
  },
  {
   "cell_type": "markdown",
   "id": "b1f68f5f",
   "metadata": {},
   "source": [
    "### Matrices Aleatorias"
   ]
  },
  {
   "cell_type": "code",
   "execution_count": null,
   "id": "5fa14ff1",
   "metadata": {},
   "outputs": [],
   "source": [
    "@jit\n",
    "def tr_random_matrix(n, nmin, nmax):\n",
    "\n",
    "    A = np.random.randint(nmin, nmax, size=n)\n",
    "    B = np.random.randint(nmin, nmax, size=n)\n",
    "    C = np.random.randint(nmin, nmax, size=n)\n",
    "\n",
    "    L = np.zeros((n, n))\n",
    "    for i in range(0, n):\n",
    "        L[i][i] = 1\n",
    "\n",
    "    for i in range(1, n):\n",
    "        L[i][i-1] = A[i-1]\n",
    "\n",
    "    U = np.zeros((n, n))\n",
    "    for i in range(0, n):\n",
    "        U[i][i] = B[i]\n",
    "\n",
    "    for i in range(0, n-1):\n",
    "        U[i][i+1] = C[i]\n",
    "\n",
    "    M = L @ U\n",
    "    \n",
    "    B = np.diagonal(M)\n",
    "    \n",
    "    for i in range(1, n):\n",
    "        A[i] = M[i][i-1] \n",
    "\n",
    "    for i in range(0, n-1):\n",
    "        C[i] = M[i][i+1]\n",
    "    \n",
    "    return [A, B, C]"
   ]
  },
  {
   "cell_type": "markdown",
   "id": "b5223f99",
   "metadata": {},
   "source": [
    "## Matrices Tridiagonales - 4a"
   ]
  },
  {
   "cell_type": "code",
   "execution_count": null,
   "id": "b4b5e193",
   "metadata": {},
   "outputs": [],
   "source": [
    "caso=\"tr_edd\";\n",
    "arr_instancias = []\n",
    "for i in range(1, 31):\n",
    "    clear_output(wait=True)\n",
    "    display('Instancia: ' + str(i))\n",
    "    n = 100*i\n",
    "    A = tr_edd(n)\n",
    "    b = generate_b(n)\n",
    "    save_instanceA(caso, F\"{caso}-{i}-A\", A)\n",
    "    save_instanceB(caso, F\"{caso}-{i}-b\", b)\n",
    "    arr_instancias.append([caso, F\"{caso}-{i}-A.txt\", F\"{caso}-{i}-b.txt\", n, \"\"])\n",
    "guardar_CSV_normal(caso,arr_instancias)"
   ]
  },
  {
   "cell_type": "code",
   "execution_count": null,
   "id": "9c88780c",
   "metadata": {},
   "outputs": [],
   "source": [
    "caso=\"tr_sdp\";\n",
    "arr_instancias = []\n",
    "for i in range(1, 31):\n",
    "    clear_output(wait=True)\n",
    "    display('Instancia: ' + str(i))\n",
    "    n = 100*i\n",
    "    A = tr_simetric_definite_positive(n)\n",
    "    b = generate_b(n)\n",
    "    save_instanceA(caso, F\"{caso}-{i}-A\", A)\n",
    "    save_instanceB(caso, F\"{caso}-{i}-b\", b)\n",
    "    arr_instancias.append([caso, F\"{caso}-{i}-A.txt\", F\"{caso}-{i}-b.txt\", n, \"\"])\n",
    "guardar_CSV_normal(caso,arr_instancias)"
   ]
  },
  {
   "cell_type": "code",
   "execution_count": null,
   "id": "33e81302",
   "metadata": {},
   "outputs": [],
   "source": [
    "caso=\"tr_random\";\n",
    "arr_instancias = []\n",
    "for i in range(1, 31):\n",
    "    clear_output(wait=True)\n",
    "    display('Instancia: ' + str(i))\n",
    "    n = 100*i\n",
    "    nmin = np.random.randint(1, 100)\n",
    "    nmax = np.random.randint(101, 1000)\n",
    "    A = tr_random_matrix(n, nmin, nmax)\n",
    "    b = generate_b(n)\n",
    "    save_instanceA(caso, F\"{caso}-{i}-A\", A)\n",
    "    save_instanceB(caso, F\"{caso}-{i}-b\", b)\n",
    "    arr_instancias.append([caso, F\"{caso}-{i}-A.txt\", F\"{caso}-{i}-b.txt\", n, \"\"])\n",
    "guardar_CSV_normal(caso,arr_instancias)"
   ]
  },
  {
   "cell_type": "markdown",
   "id": "8dfcf10c",
   "metadata": {},
   "source": [
    "## Matrices Tridiagonales - 4b"
   ]
  },
  {
   "cell_type": "code",
   "execution_count": null,
   "id": "f7d86ddc",
   "metadata": {},
   "outputs": [],
   "source": [
    "# Matrices EDD\n",
    "caso=\"tr_edd_l\";\n",
    "arr_instancias = []\n",
    "n = 5000\n",
    "A = tr_edd(n)\n",
    "save_instanceA(caso, F\"{caso}-A\", A)\n",
    "for j in range(0, 1001):\n",
    "    b = generate_b(n)\n",
    "    save_instanceB(caso, F\"{caso}-{j}-b\", b)\n",
    "    arr_instancias.append([caso, F\"{caso}-{j}-b.txt\", n, \"b\", \"\"])\n",
    "arr_instancias.append([caso, F\"{caso}-A.txt\", n, \"A\", \"\"])\n",
    "guardar_CSV_tridg(caso, arr_instancias)"
   ]
  },
  {
   "cell_type": "code",
   "execution_count": null,
   "id": "d6add4e9",
   "metadata": {},
   "outputs": [],
   "source": [
    "# Matrices SDP\n",
    "caso=\"tr_sdp_l\";\n",
    "arr_instancias = []\n",
    "n = 5000\n",
    "A = tr_simetric_definite_positive(n)\n",
    "save_instanceA(caso, F\"{caso}-A\", A)\n",
    "for j in range(0, 1001):\n",
    "    b = generate_b(n)\n",
    "    save_instanceB(caso, F\"{caso}-{j}-b\", b)\n",
    "    arr_instancias.append([caso, F\"{caso}-{j}-b.txt\", n, \"b\", \"\"])\n",
    "arr_instancias.append([caso, F\"{caso}-A.txt\", n, \"A\", \"\"])\n",
    "guardar_CSV_tridg(caso, arr_instancias)"
   ]
  },
  {
   "cell_type": "code",
   "execution_count": null,
   "id": "1cebff8f",
   "metadata": {},
   "outputs": [],
   "source": [
    "# Matrices Random\n",
    "caso=\"tr_random_l\";\n",
    "arr_instancias = []\n",
    "n = 5000\n",
    "nmin = np.random.randint(1, 100)\n",
    "nmax = np.random.randint(101, 1000)\n",
    "A = tr_random_matrix(n, nmin, nmax)\n",
    "save_instanceA(caso, F\"{caso}-A\", A)\n",
    "for j in range(0, 1001):\n",
    "    b = generate_b(n)\n",
    "    save_instanceB(caso, F\"{caso}-{j}-b\", b)\n",
    "    arr_instancias.append([caso, F\"{caso}-{j}-b.txt\", n, \"b\", \"\"])\n",
    "arr_instancias.append([caso, F\"{caso}-A.txt\", n, \"A\", \"\"])\n",
    "guardar_CSV_tridg(caso, arr_instancias)"
   ]
  },
  {
   "cell_type": "markdown",
   "id": "8eccceca",
   "metadata": {},
   "source": [
    "### Matrices de Prueba"
   ]
  },
  {
   "cell_type": "code",
   "execution_count": null,
   "id": "8b41f86a",
   "metadata": {},
   "outputs": [],
   "source": [
    "caso = \"tr_pruebas_sin_pivot\"\n",
    "arr_instancias = []\n",
    "\n",
    "# Sin triangular\n",
    "A = np.array([[1,2,3,4], [1,4,9,16], [1,8,27,64], [1, 16, 81, 256]])\n",
    "b = np.array([2,10,44,190])\n",
    "\n",
    "save_instanceA(caso, F\"completa-normal-1-A\", A)\n",
    "save_instanceB(caso, F\"completa-normal-1-b\", b)\n",
    "arr_instancias.append([caso, F\"completa-normal-1-A.txt\", F\"completa-normal-1-b.txt\", 4, \"Matriz Normal Sin Triangular\"])\n",
    "\n",
    "# Sin triangular\n",
    "A = np.array([[2,1,-1,3], [-2,0,0,0], [4,1,-2,4], [-6,-1,2,-3]])\n",
    "b = np.array([13,-2,24,-10])\n",
    "\n",
    "save_instanceA(caso, F\"completa-normal-2-A\", A)\n",
    "save_instanceB(caso, F\"completa-normal-2-b\", b)\n",
    "arr_instancias.append([caso, F\"completa-normal-2-A.txt\", F\"completa-normal-2-b.txt\", 4, \"Matriz Normal Sin Triangular\"])\n",
    "\n",
    "# Triangulado\n",
    "A = np.array([[2,1,-1,3], [0,1,-1,3], [0,0,-1,1], [0,0,0,1]])\n",
    "b = np.array([13,11,9,16])\n",
    "\n",
    "save_instanceA(caso, F\"triangulada-A\", A)\n",
    "save_instanceB(caso, F\"triangulada-b\", b)\n",
    "arr_instancias.append([caso, F\"triangulada-A.txt\", F\"triangulada-b.txt\", 4, \"Matriz Triangulada\"])\n",
    "\n",
    "# Sin triangular - Decimales chicos\n",
    "A = np.array([[0.0000002,1,-1,3], [-0.0000002,0,0,0], [0.0000004,1,-2,4], [-0.0000006,-1,2,-3]])\n",
    "b = np.array([13,-2,24,-10])\n",
    "\n",
    "save_instanceA(caso, F\"sin-triangular-decimales-A\", A)\n",
    "save_instanceB(caso, F\"sin-triangular-decimales-b\", b)\n",
    "arr_instancias.append([caso, F\"sin-triangular-decimales-A.txt\", F\"sin-triangular-decimales-b.txt\", 4, \"Matriz Con Decimales Chicos sin Triangular\"])\n",
    "\n",
    "# Matriz con decimales no tan bajos\n",
    "A = np.array([[0.003, 0.217], [0.277, 0.138]])\n",
    "b = np.array([0.437,0.553])\n",
    "\n",
    "save_instanceA(caso, F\"decimales-no-tan-bajos-A\", A)\n",
    "save_instanceB(caso, F\"decimales-no-tan-bajos-b\", b)\n",
    "arr_instancias.append([caso, F\"decimales-no-tan-bajos-A.txt\", F\"decimales-no-tan-bajos-b.txt\", 2, \"Matriz \"])\n",
    "\n",
    "# Falla al intentar triangular porque no hay pivot\n",
    "A = np.array([[0, 0, 0, 0, 0, 0], [0, -1, 0, 0, 0, -0.08], [0, 1, -1, 0, 1, 0], [0, 0, 1, -1, 0, 0.02], [1, 0, 0, 1, 0, 0.05], [0, 0, 0, 0, 0, 0.05]])\n",
    "b = np.array([0,0,0,0,0,0])\n",
    "\n",
    "save_instanceA(caso, F\"falla-triangular-A\", A)\n",
    "save_instanceB(caso, F\"falla-triangular-b\", b)\n",
    "arr_instancias.append([caso, F\"falla-triangular-A.txt\", F\"falla-triangular-b.txt\", 6, \"Matriz Permutada\"])\n",
    "guardar_CSV_normal(caso,arr_instancias)"
   ]
  },
  {
   "cell_type": "code",
   "execution_count": null,
   "id": "d5354176",
   "metadata": {},
   "outputs": [],
   "source": [
    "caso = \"tr_pruebas_pivot\"\n",
    "arr_instancias = []\n",
    "\n",
    "# Canónico\n",
    "A = np.array([[0, 1, 0, 0, 0, 0],[1, 0, 0, 0, 0, 0],[0, 0, 1, 0, 0, 0],[0, 0, 0, 0, 0, 1],[0, 0, 0, 1, 0, 0],[0, 0, 0, 0, 1, 0]])\n",
    "b = np.array([1,2,3,4,5,6])\n",
    "\n",
    "save_instanceA(caso, F\"pivot-canonico-A\", A)\n",
    "save_instanceB(caso, F\"pivot-canonico-b\", b)\n",
    "arr_instancias.append([caso, F\"pivot-canonico-A.txt\", F\"pivot-canonico-b.txt\", 6, \"Matriz Permutada\"])\n",
    "\n",
    "# Pivot con Decimales\n",
    "A = np.array([[0.003000, 59.14],[5.291, -6.130]])\n",
    "b = np.array([59.17, 46.78])\n",
    "\n",
    "save_instanceA(caso, F\"pivot-decimales-1-A\", A)\n",
    "save_instanceB(caso, F\"pivot-decimales-1-b\", b)\n",
    "arr_instancias.append([caso, F\"pivot-decimales-1-A.txt\", F\"pivot-decimales-1-b.txt\", 2, \"Solucion: x1: 10.00 x2: 1.000\"])\n",
    "\n",
    "# Pivot con Decimales - 2\n",
    "A = np.array([[30.00, 591400],[5.291, -6.130]])\n",
    "b = np.array([591700, 46.78])\n",
    "\n",
    "save_instanceA(caso, F\"pivot-decimales-2-A\", A)\n",
    "save_instanceB(caso, F\"pivot-decimales-2-b\", b)\n",
    "arr_instancias.append([caso, F\"pivot-decimales-2-A.txt\", F\"pivot-decimales-2-b.txt\", 2, \"Solucion: x1: -10.00 x2: 1.001\"])\n",
    "\n",
    "\n",
    "# Canónico - Sin Solucion\n",
    "A = np.array([[1, 1],[2, 2]], dtype=\"f\")\n",
    "b = np.array([2,5], dtype=\"f\")\n",
    "\n",
    "save_instanceA(caso, F\"sin-sol-A\", A)\n",
    "save_instanceB(caso, F\"sin-sol-b\", b)\n",
    "arr_instancias.append([caso, F\"sin-sol-A.txt\", F\"sin-sol-b.txt\", 2, \"Sin Solucion\"])\n",
    "\n",
    "# Canónico - Solucion infinita\n",
    "A = np.array([[1, 1],[2, 2]])\n",
    "b = np.array([2,4])\n",
    "\n",
    "save_instanceA(caso, F\"sol-inf-A\", A)\n",
    "save_instanceB(caso, F\"sol-inf-b\", b)\n",
    "arr_instancias.append([caso, F\"sol-inf-A.txt\", F\"sol-inf-b.txt\", 2, \"Solucion Infinita\"])\n",
    "\n",
    "# Sin triangular - Decimales chicos\n",
    "A = np.array([[0.0000000000000002,1,-1,3], [2,0.0000000000000002,0,0], [4,1,-2,4], [-6,-1,2,-3]])\n",
    "b = np.array([13,-2,24,-10])\n",
    "\n",
    "save_instanceA(caso, F\"decimales-A\", A)\n",
    "save_instanceB(caso, F\"decimales-b\", b)\n",
    "arr_instancias.append([caso, F\"decimales-A.txt\", F\"decimales-b.txt\", 4, \"Con decimales chicos y posible error de calculo\"])\n",
    "\n",
    "# Error de calculo por aproximación de decimales\n",
    "A = np.array([[2,1,-1,3], [-2,0,0,0], [4,1,-2,4], [-6,-1,2,-3]], dtype=\"f\")\n",
    "b = np.array([13,-2,24,-10], dtype=\"f\")\n",
    "\n",
    "save_instanceA(caso, F\"err-aprox-1-A\", A)\n",
    "save_instanceB(caso, F\"err-aprox-1-b\", b)\n",
    "arr_instancias.append([caso, F\"err-aprox-1-A.txt\", F\"err-aprox-1-b.txt\", 4, \"Matriz con Enteros\"])\n",
    "\n",
    "A = np.array([[2,eps,-1,3], [-2,eps,0,0], [4,1,eps,4], [-6,-1,2,eps]])\n",
    "b = np.array([13,-2,24,-10])\n",
    "\n",
    "save_instanceA(caso, F\"err-aprox-2-A\", A)\n",
    "save_instanceB(caso, F\"err-aprox-2-b\", b)\n",
    "arr_instancias.append([caso, F\"err-aprox-2-A.txt\", F\"err-aprox-2-b.txt\", 4, \"Matriz con Decimales - Error de calculo en solucion: -0.012490009999999607\"])\n",
    "\n",
    "# Instancia para matrices con diferencia en decimales\n",
    "for q in range(0, 3):\n",
    "    A = np.zeros((5,5))\n",
    "    b = generate_b_dec(5)\n",
    "    \n",
    "    vector = [rnd() for _ in range(5)]\n",
    "    A_AUX  = np.array([vector, vector, vector, vector, vector])\n",
    "\n",
    "    save_instanceA(caso, F\"err-numerico-{q}-A\", A)\n",
    "    save_instanceB(caso, F\"err-numerico-{q}-b\", b)\n",
    "    arr_instancias.append([caso, F\"err-numerico-{q}-A.txt\", F\"err-numerico-{q}-b.txt\", 5, \"A y B con numeros muy chicos\"])\n",
    "guardar_CSV_normal(caso,arr_instancias)"
   ]
  }
 ],
 "metadata": {
  "kernelspec": {
   "display_name": "Python 3 (ipykernel)",
   "language": "python",
   "name": "python3"
  },
  "language_info": {
   "codemirror_mode": {
    "name": "ipython",
    "version": 3
   },
   "file_extension": ".py",
   "mimetype": "text/x-python",
   "name": "python",
   "nbconvert_exporter": "python",
   "pygments_lexer": "ipython3",
   "version": "3.11.3"
  }
 },
 "nbformat": 4,
 "nbformat_minor": 5
}
