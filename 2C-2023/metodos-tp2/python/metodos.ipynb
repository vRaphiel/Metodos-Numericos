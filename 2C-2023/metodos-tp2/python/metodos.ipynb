{
 "cells": [
  {
   "cell_type": "code",
   "execution_count": 2,
   "id": "73d4a24a-2a22-4db1-986c-76f29bc95081",
   "metadata": {},
   "outputs": [],
   "source": [
    "# Carga la matriz ubicada en el archivo path_instancia\n",
    "# Lectura normal por filas\n",
    "def leer_matriz(path_instancia):\n",
    "    matrix = np.loadtxt(path_instancia)\n",
    "    return matrix\n",
    "\n",
    "# Lectura normal por columnas\n",
    "def leer_matriz_columnas(path_instancia):\n",
    "    with open(path_instancia,'rt') as filedata:\n",
    "        values = np.genfromtxt(path_instancia, dtype=None, unpack=True)\n",
    "    return values"
   ]
  },
  {
   "cell_type": "code",
   "execution_count": 3,
   "id": "70beeace-72d3-4c19-a4af-87bfe985441a",
   "metadata": {},
   "outputs": [],
   "source": [
    "# Llama al metodo de leer_matriz y recibe direction donde:\n",
    "# f: lectura por filas\n",
    "# c: lectura por columnas\n",
    "def obtener_matriz(path_instancia, direction='f'):\n",
    "    if(direction == 'f'): \n",
    "        return leer_matriz(path_instancia)\n",
    "    else:\n",
    "        return leer_matriz_columnas(path_instancia);"
   ]
  },
  {
   "cell_type": "code",
   "execution_count": 4,
   "id": "bbc8a9a2-a427-41a2-98ba-d8ba29e476cb",
   "metadata": {},
   "outputs": [],
   "source": [
    "# Dado un archivo y una ruta, imprime la matriz en dicho archivo\n",
    "def imprimir_matriz(path_dir, name_file, matriz):\n",
    "    with open(F\"{path_dir}/{name_file}\", \"w\") as f:\n",
    "        for i in range(0, len(matriz)):\n",
    "            for j in range(0, len(matriz)):\n",
    "                print(matriz[i][j], file=f, end=\" \")\n",
    "            print(file=f, end=\"\\n\")"
   ]
  },
  {
   "cell_type": "code",
   "execution_count": 5,
   "id": "6306085c-06f2-47da-a1c1-d07070b6e7dd",
   "metadata": {},
   "outputs": [],
   "source": [
    "# Devuelve el máximo de un vector en una tupla: [max_valor, posicion]\n",
    "def maximo(v):\n",
    "    max_val = v[0]\n",
    "    max_pos = 0\n",
    "    for i in range(0, len(v)):\n",
    "        if v[i] > max_val:\n",
    "            max_val = v[i]\n",
    "            max_pos = i\n",
    "            \n",
    "    return [max_val, max_pos]"
   ]
  },
  {
   "cell_type": "code",
   "execution_count": 6,
   "id": "8c8c745a-3238-4ac4-a793-c3311e9a6aa8",
   "metadata": {},
   "outputs": [],
   "source": [
    "# Dada una lista de tuplas, devuelve la máxima tupla dada posicion 1\n",
    "def maximo_en_tupla(arr):\n",
    "    num = 0\n",
    "    for i in range(0, len(arr)):\n",
    "        if arr[i][0] > num:\n",
    "            num = arr[i][0]\n",
    "        if arr[i][1] > num:\n",
    "            num = arr[i][1]\n",
    "    return num"
   ]
  },
  {
   "cell_type": "code",
   "execution_count": 7,
   "id": "91e50d6a-febc-4a01-9ae8-5e95d31ae604",
   "metadata": {},
   "outputs": [],
   "source": [
    "# Normalizamos el vector. Dividimos cada valor por su norma 2\n",
    "def normalizar(v):\n",
    "    return v / np.linalg.norm(v)"
   ]
  },
  {
   "cell_type": "code",
   "execution_count": 8,
   "id": "b7c020a6-31d0-4cb3-afab-d9b27dd10daa",
   "metadata": {},
   "outputs": [],
   "source": [
    "# Devuelve el valor absoluto de un número\n",
    "def abs_val(num):\n",
    "    if num < 0:\n",
    "        return (-1)*num\n",
    "    return num"
   ]
  },
  {
   "cell_type": "code",
   "execution_count": 9,
   "id": "04bb76b2-9e3d-40eb-9a7d-14ad4e6e5a5d",
   "metadata": {},
   "outputs": [],
   "source": [
    "def metodo_potencia_numpy(A):\n",
    "    # Devuelvo los autovalores, autovectores e indices, ordenados de mayor a menor de acuerdo al autovalor\n",
    "    autovalores, autovectores = np.linalg.eig(A)\n",
    "    indices = autovalores.argsort()[::-1]   \n",
    "    autovalores = autovalores[indices]\n",
    "    autovectores = autovectores[:,indices]\n",
    "    return autovalores, autovectores"
   ]
  },
  {
   "cell_type": "code",
   "execution_count": 10,
   "id": "6b33a6ff-c226-4c19-8f54-4c2db90ee3e3",
   "metadata": {},
   "outputs": [],
   "source": [
    "# Implementación en Python del metodo de la potencia\n",
    "def power_iteration(A, niter, eps, num):\n",
    "    b = np.ones(A.shape[1])\n",
    "    b = b / np.linalg.norm(b)\n",
    "    iteracion = 0\n",
    "\n",
    "    for i in range(niter):\n",
    "        old = b\n",
    "        b = A @ b\n",
    "\n",
    "        print(b)\n",
    "        \n",
    "        norm = np.linalg.norm(b)\n",
    "        b = b / norm\n",
    "        cos_angle = np.dot(b, old)\n",
    "        if (1 - eps) < cos_angle <= 1:\n",
    "            iteracion = i\n",
    "            # print(F\"Pare en iteración: {i} del calculo del autovalor {num+1}\")\n",
    "            break\n",
    "    Ab = A @ b\n",
    "    eigenvalue = np.dot(b, Ab)\n",
    "    return eigenvalue, b, iteracion"
   ]
  },
  {
   "cell_type": "code",
   "execution_count": 11,
   "id": "930cc71a-96d5-4f76-b5b6-37db7d4382f6",
   "metadata": {},
   "outputs": [],
   "source": [
    "def eig(A, niter, eps):\n",
    "    A_aux = A.copy()\n",
    "    iteraciones = []\n",
    "    eigenvalues = []\n",
    "    eigenvectors = np.zeros((A_aux.shape[0], A.shape[0]))\n",
    "    for i in range(0, len(A)):\n",
    "        l, v, it = power_iteration(A, niter, eps, i)\n",
    "        iteraciones.append(it)\n",
    "        eigenvalues.append(l)\n",
    "        eigenvectors[:, i] = v\n",
    "        A = A - l * np.outer(v, v)\n",
    "    return np.array(eigenvalues), eigenvectors, iteraciones"
   ]
  }
 ],
 "metadata": {
  "kernelspec": {
   "display_name": "Python 3 (ipykernel)",
   "language": "python",
   "name": "python3"
  },
  "language_info": {
   "codemirror_mode": {
    "name": "ipython",
    "version": 3
   },
   "file_extension": ".py",
   "mimetype": "text/x-python",
   "name": "python",
   "nbconvert_exporter": "python",
   "pygments_lexer": "ipython3",
   "version": "3.10.12"
  }
 },
 "nbformat": 4,
 "nbformat_minor": 5
}
