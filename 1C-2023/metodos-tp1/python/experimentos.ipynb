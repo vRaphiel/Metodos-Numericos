{
 "cells": [
  {
   "cell_type": "markdown",
   "metadata": {
    "id": "DRsl690phQXB"
   },
   "source": [
    "# Correr experimentos\n",
    "En este archivo está el código para correr los experimentos y escribir los resultados en archivos CSV.\n",
    "> Los archivos se guardan en la carpeta _resultados_."
   ]
  },
  {
   "cell_type": "code",
   "execution_count": 1,
   "metadata": {
    "id": "3hdEzjEFhQXE"
   },
   "outputs": [],
   "source": [
    "import math, subprocess\n",
    "import pandas as pd\n",
    "import numpy as np\n",
    "import random, math\n",
    "import os\n",
    "from IPython.display import display, clear_output\n",
    "import time\n",
    "import matplotlib.pyplot as plt\n",
    "\n",
    "eps = 10e-15\n",
    "alpha = 10e7\n",
    "experimentos = []"
   ]
  },
  {
   "cell_type": "markdown",
   "metadata": {},
   "source": [
    "## Métodos de Eliminación Gausseana\n",
    "- eliminacion_gausseana_SP\n",
    "- eliminacion_gausseana_CP\n",
    "- eliminacion_gausseana_TR_SinPre\n",
    "- eliminacion_gausseana_TR_Pre"
   ]
  },
  {
   "cell_type": "code",
   "execution_count": 2,
   "metadata": {},
   "outputs": [],
   "source": [
    "# Lectura de Matriz\n",
    "def leer_matriz(path_instancia):\n",
    "    A = np.loadtxt(path_instancia)\n",
    "    return A"
   ]
  },
  {
   "cell_type": "code",
   "execution_count": 3,
   "metadata": {},
   "outputs": [],
   "source": [
    "def agregar_experimentos(dataframe):\n",
    "    counter = 0\n",
    "    while counter < len(dataframe):\n",
    "        fila = dataframe.iloc[counter]\n",
    "        experimentos.append([fila[\"dataset\"], fila[\"archivo-A\"], fila[\"archivo-b\"], fila[\"n\"]])\n",
    "        counter = counter + 1"
   ]
  },
  {
   "cell_type": "code",
   "execution_count": 4,
   "metadata": {},
   "outputs": [],
   "source": [
    "def agregar_experimentos_A(dataframe):\n",
    "    counter = 0\n",
    "    while counter < len(dataframe):\n",
    "        fila = dataframe.iloc[counter]\n",
    "        experimentos_A.append([fila[\"dataset\"], fila[\"archivo\"], fila[\"n\"]])\n",
    "        counter = counter + 1"
   ]
  },
  {
   "cell_type": "code",
   "execution_count": 5,
   "metadata": {},
   "outputs": [],
   "source": [
    "def agregar_experimentos_b(dataframe):\n",
    "    counter = 0\n",
    "    while counter < len(dataframe):\n",
    "        fila = dataframe.iloc[counter]\n",
    "        experimentos_b.append([fila[\"dataset\"], fila[\"archivo\"], fila[\"n\"]])\n",
    "        counter = counter + 1"
   ]
  },
  {
   "cell_type": "markdown",
   "metadata": {},
   "source": [
    "## Algoritmos"
   ]
  },
  {
   "cell_type": "markdown",
   "metadata": {},
   "source": [
    "### Eliminación Gausseana sin Pivot"
   ]
  },
  {
   "cell_type": "code",
   "execution_count": 6,
   "metadata": {
    "id": "1K2VNCyDkmbq"
   },
   "outputs": [],
   "source": [
    "# Eliminación Gausseana sin Pivoteo\n",
    "def eliminacion_gausseana_SP(A, b):\n",
    "  try:\n",
    "    start_time = time.time()\n",
    "    post_triangulacion = triangular_matriz_SP(A, b)\n",
    "\n",
    "    A_trig = post_triangulacion[0]\n",
    "    b_trig = post_triangulacion[1]\n",
    "\n",
    "    bw_S = backward_substitution(A_trig, b_trig)\n",
    "\n",
    "    return [bw_S, (time.time() - start_time)]\n",
    "  except Exception as e:\n",
    "    print(e)"
   ]
  },
  {
   "cell_type": "code",
   "execution_count": 7,
   "metadata": {
    "id": "oVwYpN6-nak3"
   },
   "outputs": [],
   "source": [
    "def triangular_matriz_SP(A, b): \n",
    "  n = len(A)\n",
    "  try:\n",
    "    for i in range(0, n-1):\n",
    "      for j in range(i+1, n):\n",
    "        m_ji = A[j][i] / A[i][i]\n",
    "        for k in range(i, n):\n",
    "          A[j][k] = A[j][k] - (m_ji*A[i][k])\n",
    "        b[j] = b[j] - b[i]*m_ji\n",
    "    return[A, b]\n",
    "  except: \n",
    "    raise Exception(\"No se pudo triangular porque se requiere un pivot o hubo un error durante la ejecución del algoritmo.\")"
   ]
  },
  {
   "cell_type": "code",
   "execution_count": 8,
   "metadata": {
    "id": "3sj3J2DtoAE5"
   },
   "outputs": [],
   "source": [
    "# PREGUNTAR QUE SE HACE SI A[I][I] ES 0 LUEGO DE LA TRIANGULACIÓN - EXCEPCIÓN\n",
    "def backward_substitution(A, b):\n",
    "  n = len(A)\n",
    "  x = np.zeros(n)\n",
    "  try:\n",
    "    for i in range(n-1, -1, -1):\n",
    "      b_i = b[i]\n",
    "      sum = 0\n",
    "      for j in range(i+1, n):\n",
    "        sum = sum + A[i][j]*x[j]\n",
    "      x_i = (b_i - sum) / A[i][i]\n",
    "      x[i] = x_i\n",
    "    return x\n",
    "  except Exception as e: \n",
    "    raise Exception(\"No se pudo realizar el backward substitution porque hubo algún error durante la ejecución del algoritmo.\")"
   ]
  },
  {
   "cell_type": "markdown",
   "metadata": {},
   "source": [
    "### Eliminación Gausseana con Pivot"
   ]
  },
  {
   "cell_type": "code",
   "execution_count": 141,
   "metadata": {
    "id": "PT_GUP_b0AL1"
   },
   "outputs": [],
   "source": [
    "# Eliminación Gausseana sin Pivoteo\n",
    "def eliminacion_gausseana_CP(A, b):\n",
    "  try:\n",
    "    start_time = time.time()\n",
    "    post_triangulacion = triangular_matriz_CP(A, b)\n",
    "    A_trig = post_triangulacion[0]\n",
    "    b_trig = post_triangulacion[1]\n",
    "    \n",
    "    if(infinitas_soluciones(A_trig, b_trig)):\n",
    "      print(\"Infinitas soluciones\")\n",
    "      return [b_trig, (time.time() - start_time)]\n",
    "\n",
    "    if(sin_soluciones(A_trig, b_trig)):\n",
    "      print(\"Sin soluciones\")\n",
    "      return [b_trig, (time.time() - start_time)]\n",
    "\n",
    "    bw_S = backward_substitution(A_trig, b_trig)\n",
    "    return [bw_S, (time.time() - start_time)]\n",
    "    \n",
    "  except Exception as e:\n",
    "    print(e)"
   ]
  },
  {
   "cell_type": "code",
   "execution_count": 142,
   "metadata": {
    "id": "xAh8JCP-4Ypq"
   },
   "outputs": [],
   "source": [
    "def triangular_matriz_CP(A, b): \n",
    "    n = len(A)\n",
    "\n",
    "    for i in range(0, n-1):\n",
    "\n",
    "        pivot = abs(A[i][i])\n",
    "        l = i\n",
    "        # Buscamos el nuevo pivot. El máximo valor en toda la columna.\n",
    "        for j in range(i+1, n):\n",
    "            abs_a = abs(A[j][i])\n",
    "            if(abs_a > pivot):\n",
    "                pivot = abs_a\n",
    "                l = j\n",
    "\n",
    "        if(l != i):\n",
    "            # Permutamos la fila (i) con el (l)\n",
    "            for k in range(i, n):\n",
    "                # SWAP\n",
    "                aux = A[l][k]\n",
    "                A[l][k] = A[i][k]\n",
    "                A[i][k] = aux\n",
    "\n",
    "            # SWAP\n",
    "            b_aux = b[i]\n",
    "            b[i] = b[l]\n",
    "            b[l] = b_aux\n",
    " \n",
    "        if(A[i][i] != 0):\n",
    "            # Permutado ya podemos continuar\n",
    "            for j in range(i+1, n):\n",
    "                # ALERTA\n",
    "                alerta_div(A[i][i])\n",
    "                if(A[j][i] != 0):\n",
    "                    m_ji = A[j][i] / A[i][i]\n",
    "                    for k in range(i, n):\n",
    "                        # ALERTA\n",
    "                        alerta_mult(A[i][k])\n",
    "                        alerta_mult(m_ji)\n",
    "                        A[j][k] = A[j][k] - (m_ji*A[i][k])\n",
    "                    # ALERTA\n",
    "                    alerta_mult(m_ji)\n",
    "                    alerta_mult(b[i])\n",
    "                    b[j] = b[j] - b[i]*m_ji\n",
    "    return [A, b]"
   ]
  },
  {
   "cell_type": "code",
   "execution_count": 11,
   "metadata": {
    "id": "8Jj-BQ57EDxD"
   },
   "outputs": [],
   "source": [
    "# PREGUNTAR QUE SE HACE SI A[I][I] ES 0 LUEGO DE LA TRIANGULACIÓN - EXCEPCIÓN\n",
    "def backward_substitution_CP(A, b):\n",
    "  n = len(A)\n",
    "  x = np.zeros(n)\n",
    "  try:\n",
    "    for i in range(n-1, -1, -1):\n",
    "      b_i = b[i]\n",
    "      sum = 0\n",
    "      for j in range(i+1, n):\n",
    "        # ALERTA\n",
    "        alerta_mult(x[j])\n",
    "        alerta_mult(A[i][j])\n",
    "        \n",
    "        sum = sum + A[i][j]*x[j]\n",
    "\n",
    "      # ALERTA\n",
    "      alerta_div(A[i][i])\n",
    "      x_i = (b_i - sum) / A[i][i]\n",
    "\n",
    "      x[i] = x_i\n",
    "    return x\n",
    "  except Exception as e: \n",
    "    raise Exception(\"No se pudo realizar el backward substitution porque hubo algún error durante la ejecución del algoritmo.\")"
   ]
  },
  {
   "cell_type": "code",
   "execution_count": 12,
   "metadata": {
    "id": "ehoOw8m-J9_h"
   },
   "outputs": [],
   "source": [
    "def infinitas_soluciones(A, b):\n",
    "  alguna_zero = False\n",
    "  for i in range(0, len(A)):\n",
    "    todos_zeros = True\n",
    "    for j in range(0, len(A)):\n",
    "      if(A[i][j] != 0):\n",
    "        todos_zeros = False\n",
    "    if(todos_zeros):\n",
    "      if(b[i] == 0):\n",
    "        alguna_zero = True\n",
    "\n",
    "  return alguna_zero"
   ]
  },
  {
   "cell_type": "code",
   "execution_count": 13,
   "metadata": {
    "id": "YNpHTg1MJ-D2"
   },
   "outputs": [],
   "source": [
    "def sin_soluciones(A, b):\n",
    "  alguna_zero = False\n",
    "  for i in range(0, len(A)):\n",
    "    todos_zeros = True\n",
    "    for j in range(0, len(A)):\n",
    "      if(A[i][j] != 0):\n",
    "        todos_zeros = False\n",
    "    if(todos_zeros):\n",
    "      if(b[i] != 0):\n",
    "        alguna_zero = True\n",
    "\n",
    "  return alguna_zero"
   ]
  },
  {
   "cell_type": "code",
   "execution_count": 14,
   "metadata": {
    "id": "1M04p7sC5ZCt"
   },
   "outputs": [],
   "source": [
    "# Metodo que define el valor absoluto\n",
    "def abs(k):\n",
    "  if k < 0:\n",
    "    return (-1)*k\n",
    "  return k"
   ]
  },
  {
   "cell_type": "code",
   "execution_count": 15,
   "metadata": {
    "id": "TYeKuVV3F7DQ"
   },
   "outputs": [],
   "source": [
    "def alerta_div(k):\n",
    "  if(-eps < k < eps):\n",
    "    print(\"Este error puede afectar al resultado por uso de un número muy chico\")\n",
    "\n",
    "def alerta_mult(k):\n",
    "  if(k > alpha or k < -alpha):\n",
    "    print(\"Este error puede afectar al resultado por uso de un número muy grande\")"
   ]
  },
  {
   "cell_type": "markdown",
   "metadata": {
    "id": "0xuVfvsuFeTj"
   },
   "source": [
    "### Eliminación Gausseana para una Tridiagonal sin Precomputo"
   ]
  },
  {
   "cell_type": "code",
   "execution_count": 16,
   "metadata": {
    "id": "RsQA2aGbEo76"
   },
   "outputs": [],
   "source": [
    "# Eliminación Gausseana sin Pivoteo\n",
    "def eliminacion_gausseana_TR_SinPre(a, b, c, d):\n",
    "  # a[0] = 0\n",
    "  # c[n-1] = 0\n",
    "  try:\n",
    "    start_time = time.time()\n",
    "    triag = triangular_matriz_TR_SinPre(a, b, c, d)\n",
    "      \n",
    "    res_bs = backward_substitution_TR_SinPre(triag[1],triag[2],triag[3])\n",
    "    \n",
    "    return [res_bs, (time.time() - start_time)]\n",
    "  except Exception as e:\n",
    "    print(e)"
   ]
  },
  {
   "cell_type": "code",
   "execution_count": 17,
   "metadata": {
    "id": "d2en8I1jE4U0"
   },
   "outputs": [],
   "source": [
    "# CONSULTAR QUE PASA SI B[I] = 0\n",
    "def triangular_matriz_TR_SinPre(a, b, c, d):\n",
    "  n = len(b)\n",
    "  try:\n",
    "    for i in range(0, n-1):\n",
    "      m_ji = a[i+1] / b[i]\n",
    "      a[i+1] = 0\n",
    "      b[i+1] = (b[i+1] - (c[i]*m_ji))\n",
    "      d[i+1] = (d[i+1] - d[i]*m_ji)\n",
    "\n",
    "    return [a,b,c,d]\n",
    "  except Exception as e:\n",
    "    print(e)"
   ]
  },
  {
   "cell_type": "code",
   "execution_count": 18,
   "metadata": {
    "id": "D7dQMi4gE6Yh"
   },
   "outputs": [],
   "source": [
    "# PREGUNTAR QUE SE HACE SI A[I][I] ES 0 LUEGO DE LA TRIANGULACIÓN - EXCEPCIÓN\n",
    "def backward_substitution_TR_SinPre(b, c, d):\n",
    "  n = len(b)\n",
    "  x = np.zeros(n, dtype='f')\n",
    "  try:\n",
    "    x[n-1] = d[n-1] / b[n-1]\n",
    "    for i in range(n-2, -1, -1):\n",
    "      x_i = (d[i] - c[i]*x[i+1]) / b[i]\n",
    "      x[i] = x_i\n",
    "    return x\n",
    "    \n",
    "  except Exception as e: \n",
    "    raise Exception(\"No se pudo realizar el backward substitution porque hubo algún error durante la ejecución del algoritmo.\")"
   ]
  },
  {
   "cell_type": "markdown",
   "metadata": {},
   "source": [
    "### Eliminación Gausseana para una Tridiagonal sin Precomputo"
   ]
  },
  {
   "cell_type": "code",
   "execution_count": 19,
   "metadata": {
    "id": "HToirGzRBx8Z"
   },
   "outputs": [],
   "source": [
    "# Eliminación Gausseana sin Pivoteo\n",
    "def eliminacion_gausseana_TR_Pre(a, b, c, d):\n",
    "  # a[0] = 0\n",
    "  # c[n-1] = 0\n",
    "  n = len(a)\n",
    "  x = np.zeros(n, dtype='f')\n",
    "  \n",
    "  try:\n",
    "    start_time = time.time()\n",
    "    for i in range(1, n):\n",
    "      d[i] = (d[i] - d[i-1]*a[i])\n",
    "\n",
    "    x[n-1] = d[n-1] / b[n-1]\n",
    "    for i in range(n-2, -1, -1):\n",
    "      x_i = (d[i] - c[i]*x[i+1]) / b[i]\n",
    "      x[i] = x_i\n",
    "\n",
    "    return [x, (time.time() - start_time)]\n",
    "  except Exception as e:\n",
    "    print(e)"
   ]
  },
  {
   "cell_type": "code",
   "execution_count": 20,
   "metadata": {
    "id": "lZ3LtMQWBNu9"
   },
   "outputs": [],
   "source": [
    "def precomputo_abc(a, b, c):\n",
    "  n = len(b)\n",
    "  try:\n",
    "    for i in range(0, n-1):\n",
    "      m_ji = a[i+1] / b[i]\n",
    "      a[i+1] = m_ji\n",
    "      b[i+1] = (b[i+1] - (c[i]*m_ji))\n",
    "      \n",
    "    return a, b\n",
    "  except Exception as e:\n",
    "    print(e)"
   ]
  },
  {
   "cell_type": "markdown",
   "metadata": {},
   "source": [
    "### Ejercicio 4a"
   ]
  },
  {
   "cell_type": "markdown",
   "metadata": {},
   "source": [
    "Se leerán varias matrices y se las procederá a evaluar con los algoritmos:\n",
    "- eliminacion_gausseana_CP\n",
    "- eliminacion_gausseana_TR_SinPre"
   ]
  },
  {
   "cell_type": "code",
   "execution_count": 143,
   "metadata": {},
   "outputs": [],
   "source": [
    "def construir_matriz_completa(a,b,c):\n",
    "    n = len(b)\n",
    "    A = np.zeros((n,n))\n",
    "    for i in range(0, len(b)):\n",
    "        A[i][i] = b[i]\n",
    "        if i >= 1:\n",
    "            A[i][i-1] = a[i]\n",
    "        if i < len(b)-1:\n",
    "            A[i][i+1] = c[i]\n",
    "            \n",
    "    return A"
   ]
  },
  {
   "cell_type": "code",
   "execution_count": 144,
   "metadata": {},
   "outputs": [],
   "source": [
    "dfs={}\n",
    "casos=[\"tr_edd\", \"tr_random\", \"tr_sdp\"]\n",
    "experimentos = []\n",
    "metodos=[\"EG_PIVOT\",\"EG_TRI\"]\n",
    "for caso in casos:\n",
    "    dfs[caso]=pd.read_csv(F\"instancias/{caso}/indice.csv\")\n",
    "\n",
    "for caso in casos:\n",
    "    agregar_experimentos(dfs[caso])\n",
    "    \n",
    "if(not os.path.isdir(\"resultados\")):\n",
    "    os.mkdir(\"resultados\")"
   ]
  },
  {
   "cell_type": "code",
   "execution_count": 145,
   "metadata": {
    "scrolled": false
   },
   "outputs": [
    {
     "data": {
      "text/plain": [
       "'Experimento: 90/90'"
      ]
     },
     "metadata": {},
     "output_type": "display_data"
    },
    {
     "data": {
      "text/plain": [
       "'Inicio iteracion'"
      ]
     },
     "metadata": {},
     "output_type": "display_data"
    },
    {
     "data": {
      "text/plain": [
       "'Pivot Done'"
      ]
     },
     "metadata": {},
     "output_type": "display_data"
    },
    {
     "data": {
      "text/plain": [
       "'Sin Pre Done'"
      ]
     },
     "metadata": {},
     "output_type": "display_data"
    },
    {
     "data": {
      "text/plain": [
       "'Iteracion: 1'"
      ]
     },
     "metadata": {},
     "output_type": "display_data"
    },
    {
     "data": {
      "text/plain": [
       "'Iteracion: 2'"
      ]
     },
     "metadata": {},
     "output_type": "display_data"
    },
    {
     "data": {
      "text/plain": [
       "'Iteracion: 3'"
      ]
     },
     "metadata": {},
     "output_type": "display_data"
    },
    {
     "data": {
      "text/plain": [
       "'Iteracion: 4'"
      ]
     },
     "metadata": {},
     "output_type": "display_data"
    },
    {
     "data": {
      "text/plain": [
       "'Iteracion: 5'"
      ]
     },
     "metadata": {},
     "output_type": "display_data"
    },
    {
     "data": {
      "text/plain": [
       "'Iteracion: 6'"
      ]
     },
     "metadata": {},
     "output_type": "display_data"
    },
    {
     "data": {
      "text/plain": [
       "'Iteracion: 7'"
      ]
     },
     "metadata": {},
     "output_type": "display_data"
    },
    {
     "data": {
      "text/plain": [
       "'Iteracion: 8'"
      ]
     },
     "metadata": {},
     "output_type": "display_data"
    },
    {
     "data": {
      "text/plain": [
       "'Iteracion: 9'"
      ]
     },
     "metadata": {},
     "output_type": "display_data"
    },
    {
     "data": {
      "text/plain": [
       "'Iteracion: 10'"
      ]
     },
     "metadata": {},
     "output_type": "display_data"
    },
    {
     "data": {
      "text/plain": [
       "'Iteracion: 11'"
      ]
     },
     "metadata": {},
     "output_type": "display_data"
    },
    {
     "data": {
      "text/plain": [
       "'Iteracion: 12'"
      ]
     },
     "metadata": {},
     "output_type": "display_data"
    },
    {
     "data": {
      "text/plain": [
       "'Iteracion: 13'"
      ]
     },
     "metadata": {},
     "output_type": "display_data"
    },
    {
     "data": {
      "text/plain": [
       "'Iteracion: 14'"
      ]
     },
     "metadata": {},
     "output_type": "display_data"
    },
    {
     "data": {
      "text/plain": [
       "'Iteracion: 15'"
      ]
     },
     "metadata": {},
     "output_type": "display_data"
    },
    {
     "data": {
      "text/plain": [
       "'Iteracion: 16'"
      ]
     },
     "metadata": {},
     "output_type": "display_data"
    },
    {
     "data": {
      "text/plain": [
       "'Iteracion: 17'"
      ]
     },
     "metadata": {},
     "output_type": "display_data"
    },
    {
     "data": {
      "text/plain": [
       "'Iteracion: 18'"
      ]
     },
     "metadata": {},
     "output_type": "display_data"
    },
    {
     "data": {
      "text/plain": [
       "'Iteracion: 19'"
      ]
     },
     "metadata": {},
     "output_type": "display_data"
    },
    {
     "data": {
      "text/plain": [
       "'Iteracion: 20'"
      ]
     },
     "metadata": {},
     "output_type": "display_data"
    },
    {
     "data": {
      "text/plain": [
       "'Iteracion: 21'"
      ]
     },
     "metadata": {},
     "output_type": "display_data"
    },
    {
     "data": {
      "text/plain": [
       "'Iteracion: 22'"
      ]
     },
     "metadata": {},
     "output_type": "display_data"
    },
    {
     "data": {
      "text/plain": [
       "'Iteracion: 23'"
      ]
     },
     "metadata": {},
     "output_type": "display_data"
    },
    {
     "data": {
      "text/plain": [
       "'Iteracion: 24'"
      ]
     },
     "metadata": {},
     "output_type": "display_data"
    },
    {
     "data": {
      "text/plain": [
       "'Iteracion: 25'"
      ]
     },
     "metadata": {},
     "output_type": "display_data"
    },
    {
     "data": {
      "text/plain": [
       "'Iteracion: 26'"
      ]
     },
     "metadata": {},
     "output_type": "display_data"
    },
    {
     "data": {
      "text/plain": [
       "'Iteracion: 27'"
      ]
     },
     "metadata": {},
     "output_type": "display_data"
    },
    {
     "data": {
      "text/plain": [
       "'Iteracion: 28'"
      ]
     },
     "metadata": {},
     "output_type": "display_data"
    },
    {
     "data": {
      "text/plain": [
       "'Iteracion: 29'"
      ]
     },
     "metadata": {},
     "output_type": "display_data"
    },
    {
     "data": {
      "text/plain": [
       "'Iteracion: 30'"
      ]
     },
     "metadata": {},
     "output_type": "display_data"
    },
    {
     "data": {
      "text/plain": [
       "'Iteracion: 31'"
      ]
     },
     "metadata": {},
     "output_type": "display_data"
    },
    {
     "data": {
      "text/plain": [
       "'Iteracion: 32'"
      ]
     },
     "metadata": {},
     "output_type": "display_data"
    },
    {
     "data": {
      "text/plain": [
       "'Iteracion: 33'"
      ]
     },
     "metadata": {},
     "output_type": "display_data"
    },
    {
     "data": {
      "text/plain": [
       "'Iteracion: 34'"
      ]
     },
     "metadata": {},
     "output_type": "display_data"
    },
    {
     "data": {
      "text/plain": [
       "'Iteracion: 35'"
      ]
     },
     "metadata": {},
     "output_type": "display_data"
    },
    {
     "data": {
      "text/plain": [
       "'Iteracion: 36'"
      ]
     },
     "metadata": {},
     "output_type": "display_data"
    },
    {
     "data": {
      "text/plain": [
       "'Iteracion: 37'"
      ]
     },
     "metadata": {},
     "output_type": "display_data"
    },
    {
     "data": {
      "text/plain": [
       "'Iteracion: 38'"
      ]
     },
     "metadata": {},
     "output_type": "display_data"
    },
    {
     "data": {
      "text/plain": [
       "'Iteracion: 39'"
      ]
     },
     "metadata": {},
     "output_type": "display_data"
    },
    {
     "data": {
      "text/plain": [
       "'Iteracion: 40'"
      ]
     },
     "metadata": {},
     "output_type": "display_data"
    },
    {
     "data": {
      "text/plain": [
       "'Iteracion: 41'"
      ]
     },
     "metadata": {},
     "output_type": "display_data"
    },
    {
     "data": {
      "text/plain": [
       "'Iteracion: 42'"
      ]
     },
     "metadata": {},
     "output_type": "display_data"
    },
    {
     "data": {
      "text/plain": [
       "'Iteracion: 43'"
      ]
     },
     "metadata": {},
     "output_type": "display_data"
    },
    {
     "data": {
      "text/plain": [
       "'Iteracion: 44'"
      ]
     },
     "metadata": {},
     "output_type": "display_data"
    },
    {
     "data": {
      "text/plain": [
       "'Iteracion: 45'"
      ]
     },
     "metadata": {},
     "output_type": "display_data"
    },
    {
     "data": {
      "text/plain": [
       "'Iteracion: 46'"
      ]
     },
     "metadata": {},
     "output_type": "display_data"
    },
    {
     "data": {
      "text/plain": [
       "'Iteracion: 47'"
      ]
     },
     "metadata": {},
     "output_type": "display_data"
    },
    {
     "data": {
      "text/plain": [
       "'Iteracion: 48'"
      ]
     },
     "metadata": {},
     "output_type": "display_data"
    },
    {
     "data": {
      "text/plain": [
       "'Iteracion: 49'"
      ]
     },
     "metadata": {},
     "output_type": "display_data"
    },
    {
     "data": {
      "text/plain": [
       "'Iteracion: 50'"
      ]
     },
     "metadata": {},
     "output_type": "display_data"
    },
    {
     "data": {
      "text/plain": [
       "'Iteracion: 51'"
      ]
     },
     "metadata": {},
     "output_type": "display_data"
    },
    {
     "data": {
      "text/plain": [
       "'Iteracion: 52'"
      ]
     },
     "metadata": {},
     "output_type": "display_data"
    },
    {
     "data": {
      "text/plain": [
       "'Iteracion: 53'"
      ]
     },
     "metadata": {},
     "output_type": "display_data"
    },
    {
     "data": {
      "text/plain": [
       "'Iteracion: 54'"
      ]
     },
     "metadata": {},
     "output_type": "display_data"
    },
    {
     "data": {
      "text/plain": [
       "'Iteracion: 55'"
      ]
     },
     "metadata": {},
     "output_type": "display_data"
    },
    {
     "data": {
      "text/plain": [
       "'Iteracion: 56'"
      ]
     },
     "metadata": {},
     "output_type": "display_data"
    },
    {
     "data": {
      "text/plain": [
       "'Iteracion: 57'"
      ]
     },
     "metadata": {},
     "output_type": "display_data"
    },
    {
     "data": {
      "text/plain": [
       "'Iteracion: 58'"
      ]
     },
     "metadata": {},
     "output_type": "display_data"
    },
    {
     "data": {
      "text/plain": [
       "'Iteracion: 59'"
      ]
     },
     "metadata": {},
     "output_type": "display_data"
    },
    {
     "data": {
      "text/plain": [
       "'Iteracion: 60'"
      ]
     },
     "metadata": {},
     "output_type": "display_data"
    },
    {
     "data": {
      "text/plain": [
       "'Iteracion: 61'"
      ]
     },
     "metadata": {},
     "output_type": "display_data"
    },
    {
     "data": {
      "text/plain": [
       "'Iteracion: 62'"
      ]
     },
     "metadata": {},
     "output_type": "display_data"
    },
    {
     "data": {
      "text/plain": [
       "'Iteracion: 63'"
      ]
     },
     "metadata": {},
     "output_type": "display_data"
    },
    {
     "data": {
      "text/plain": [
       "'Iteracion: 64'"
      ]
     },
     "metadata": {},
     "output_type": "display_data"
    },
    {
     "data": {
      "text/plain": [
       "'Iteracion: 65'"
      ]
     },
     "metadata": {},
     "output_type": "display_data"
    },
    {
     "data": {
      "text/plain": [
       "'Iteracion: 66'"
      ]
     },
     "metadata": {},
     "output_type": "display_data"
    },
    {
     "data": {
      "text/plain": [
       "'Iteracion: 67'"
      ]
     },
     "metadata": {},
     "output_type": "display_data"
    },
    {
     "data": {
      "text/plain": [
       "'Iteracion: 68'"
      ]
     },
     "metadata": {},
     "output_type": "display_data"
    },
    {
     "data": {
      "text/plain": [
       "'Iteracion: 69'"
      ]
     },
     "metadata": {},
     "output_type": "display_data"
    },
    {
     "data": {
      "text/plain": [
       "'Iteracion: 70'"
      ]
     },
     "metadata": {},
     "output_type": "display_data"
    },
    {
     "data": {
      "text/plain": [
       "'Iteracion: 71'"
      ]
     },
     "metadata": {},
     "output_type": "display_data"
    },
    {
     "data": {
      "text/plain": [
       "'Iteracion: 72'"
      ]
     },
     "metadata": {},
     "output_type": "display_data"
    },
    {
     "data": {
      "text/plain": [
       "'Iteracion: 73'"
      ]
     },
     "metadata": {},
     "output_type": "display_data"
    },
    {
     "data": {
      "text/plain": [
       "'Iteracion: 74'"
      ]
     },
     "metadata": {},
     "output_type": "display_data"
    },
    {
     "data": {
      "text/plain": [
       "'Iteracion: 75'"
      ]
     },
     "metadata": {},
     "output_type": "display_data"
    },
    {
     "data": {
      "text/plain": [
       "'Iteracion: 76'"
      ]
     },
     "metadata": {},
     "output_type": "display_data"
    },
    {
     "data": {
      "text/plain": [
       "'Iteracion: 77'"
      ]
     },
     "metadata": {},
     "output_type": "display_data"
    },
    {
     "data": {
      "text/plain": [
       "'Iteracion: 78'"
      ]
     },
     "metadata": {},
     "output_type": "display_data"
    },
    {
     "data": {
      "text/plain": [
       "'Iteracion: 79'"
      ]
     },
     "metadata": {},
     "output_type": "display_data"
    },
    {
     "data": {
      "text/plain": [
       "'Iteracion: 80'"
      ]
     },
     "metadata": {},
     "output_type": "display_data"
    },
    {
     "data": {
      "text/plain": [
       "'Iteracion: 81'"
      ]
     },
     "metadata": {},
     "output_type": "display_data"
    },
    {
     "data": {
      "text/plain": [
       "'Iteracion: 82'"
      ]
     },
     "metadata": {},
     "output_type": "display_data"
    },
    {
     "data": {
      "text/plain": [
       "'Iteracion: 83'"
      ]
     },
     "metadata": {},
     "output_type": "display_data"
    },
    {
     "data": {
      "text/plain": [
       "'Iteracion: 84'"
      ]
     },
     "metadata": {},
     "output_type": "display_data"
    },
    {
     "data": {
      "text/plain": [
       "'Iteracion: 85'"
      ]
     },
     "metadata": {},
     "output_type": "display_data"
    },
    {
     "data": {
      "text/plain": [
       "'Iteracion: 86'"
      ]
     },
     "metadata": {},
     "output_type": "display_data"
    },
    {
     "data": {
      "text/plain": [
       "'Iteracion: 87'"
      ]
     },
     "metadata": {},
     "output_type": "display_data"
    },
    {
     "data": {
      "text/plain": [
       "'Iteracion: 88'"
      ]
     },
     "metadata": {},
     "output_type": "display_data"
    },
    {
     "data": {
      "text/plain": [
       "'Iteracion: 89'"
      ]
     },
     "metadata": {},
     "output_type": "display_data"
    },
    {
     "data": {
      "text/plain": [
       "'Iteracion: 90'"
      ]
     },
     "metadata": {},
     "output_type": "display_data"
    },
    {
     "data": {
      "text/plain": [
       "'Iteracion: 91'"
      ]
     },
     "metadata": {},
     "output_type": "display_data"
    },
    {
     "data": {
      "text/plain": [
       "'Iteracion: 92'"
      ]
     },
     "metadata": {},
     "output_type": "display_data"
    },
    {
     "data": {
      "text/plain": [
       "'Iteracion: 93'"
      ]
     },
     "metadata": {},
     "output_type": "display_data"
    },
    {
     "data": {
      "text/plain": [
       "'Iteracion: 94'"
      ]
     },
     "metadata": {},
     "output_type": "display_data"
    },
    {
     "data": {
      "text/plain": [
       "'Iteracion: 95'"
      ]
     },
     "metadata": {},
     "output_type": "display_data"
    },
    {
     "data": {
      "text/plain": [
       "'Iteracion: 96'"
      ]
     },
     "metadata": {},
     "output_type": "display_data"
    },
    {
     "data": {
      "text/plain": [
       "'Iteracion: 97'"
      ]
     },
     "metadata": {},
     "output_type": "display_data"
    },
    {
     "data": {
      "text/plain": [
       "'Iteracion: 98'"
      ]
     },
     "metadata": {},
     "output_type": "display_data"
    },
    {
     "data": {
      "text/plain": [
       "'Iteracion: 99'"
      ]
     },
     "metadata": {},
     "output_type": "display_data"
    },
    {
     "data": {
      "text/plain": [
       "'Iteracion: 100'"
      ]
     },
     "metadata": {},
     "output_type": "display_data"
    }
   ],
   "source": [
    "# Experimentación con EG_Pivot y EG_Trig\n",
    "columnas = [\"dataset\", \"n\", \"metodo\", \"tiempo\"];\n",
    "filas = []\n",
    "parametros = []\n",
    "numero = 1\n",
    "for experimento in experimentos:\n",
    "    # Voy mostrando que experimento se esta ejecutando.\n",
    "    clear_output(wait=True)\n",
    "    display('Experimento: ' + str(numero) + \"/\" + str(len(experimentos)))\n",
    "    numero += 1\n",
    "    \n",
    "    # Ejecutamos el experimento T veces y obtenemos la mediana.\n",
    "    pathA = F\"instancias/{experimento[0]}/{experimento[1]}\"\n",
    "    pathB = F\"instancias/{experimento[0]}/{experimento[2]}\"\n",
    "    A = leer_matriz(pathA)\n",
    "    b = leer_matriz(pathB)\n",
    "    \n",
    "    A_trig = A\n",
    "    A_square = construir_matriz_completa(A[0], A[1], A[2])\n",
    "\n",
    "    min_CP = 0.0\n",
    "    min_SP = 0.0\n",
    "    \n",
    "    it = 0\n",
    "    display('Inicio iteracion')\n",
    "    EG_Pivot = eliminacion_gausseana_CP(A_square, b)\n",
    "    min_CP = EG_Pivot[1]\n",
    "    display('Pivot Done')\n",
    "    \n",
    "    EG_Trig = eliminacion_gausseana_TR_SinPre(A[0], A[1], A[2], b)\n",
    "    min_SP = EG_Trig[1]\n",
    "    display('Sin Pre Done')\n",
    "    \n",
    "    while(it < 100):\n",
    "        EG_Pivot = eliminacion_gausseana_CP(A_square, b)\n",
    "        EG_Trig = eliminacion_gausseana_TR_SinPre(A[0], A[1], A[2], b)\n",
    "        \n",
    "        if(EG_Pivot[1] < min_CP):\n",
    "            min_CP = EG_Pivot[1]\n",
    "            \n",
    "        if(EG_Trig[1] < min_SP):\n",
    "            min_SP = EG_Trig[1]\n",
    "        it = it + 1\n",
    "        display('Iteracion: ' + str(it))\n",
    "        \n",
    "    if(experimento[0] == \"tr_edd\"):\n",
    "        filas.append([\"EDD\", len(b), \"EG_Pivot\", min_CP]);\n",
    "        filas.append([\"EDD\", len(b), \"EG_Tridg\", min_SP]);\n",
    "        \n",
    "    if(experimento[0] == \"tr_random\"):\n",
    "        filas.append([\"RANDOM\", len(b), \"EG_Pivot\", min_CP]);\n",
    "        filas.append([\"RANDOM\", len(b), \"EG_Tridg\", min_SP]);\n",
    "        \n",
    "    if(experimento[0] == \"tr_sdp\"):\n",
    "        filas.append([\"SDP\", len(b), \"EG_Pivot\", min_CP]);\n",
    "        filas.append([\"SDP\", len(b), \"EG_Tridg\", min_SP]);     \n",
    "        \n",
    "df_resultado = pd.DataFrame(filas, columns=columnas);\n",
    "df_resultado.to_csv(\"resultados/resultado.csv\", index=False, header=True);"
   ]
  },
  {
   "cell_type": "markdown",
   "metadata": {},
   "source": [
    "### Ejercicio 4b"
   ]
  },
  {
   "cell_type": "markdown",
   "metadata": {},
   "source": [
    "Se leerán varias matrices tridiagonales. Se las evaluará con el algoritmo"
   ]
  },
  {
   "cell_type": "code",
   "execution_count": 87,
   "metadata": {},
   "outputs": [],
   "source": [
    "dfs_A={}\n",
    "dfs_b={}\n",
    "casos=[\"tr_random_l\", \"tr_sdp_l\", \"tr_edd_l\"]\n",
    "\n",
    "experimentos_A = []\n",
    "experimentos_b = []\n",
    "metodos=[\"EG_TRI\", \"EG_TRI_PRE\"]\n",
    "\n",
    "for caso in casos:\n",
    "    csv_data = pd.read_csv(F\"instancias/{caso}/indice.csv\")\n",
    "    dfs_A[caso]=csv_data[csv_data[\"type\"] == \"A\"].copy()\n",
    "    dfs_b[caso]=csv_data[csv_data[\"type\"] == \"b\"].copy()\n",
    "\n",
    "for caso in casos:\n",
    "    agregar_experimentos_A(dfs_A[caso])\n",
    "    agregar_experimentos_b(dfs_b[caso])\n",
    "    \n",
    "if(not os.path.isdir(\"resultados\")):\n",
    "    os.mkdir(\"resultados\")"
   ]
  },
  {
   "cell_type": "code",
   "execution_count": 137,
   "metadata": {
    "scrolled": false
   },
   "outputs": [
    {
     "data": {
      "text/plain": [
       "'Experimento: 3/3'"
      ]
     },
     "metadata": {},
     "output_type": "display_data"
    },
    {
     "data": {
      "text/plain": [
       "'d_valor: 3002/1001'"
      ]
     },
     "metadata": {},
     "output_type": "display_data"
    }
   ],
   "source": [
    "columnas = [\"dataset\", \"n\", \"metodo\", \"tiempo\", \"d\"];\n",
    "filas = []\n",
    "parametros = []\n",
    "numero = 1\n",
    "position = 0\n",
    "\n",
    "for i in range(0, len(experimentos_A)):\n",
    "    experimento_a = experimentos_A[i]\n",
    "    \n",
    "    # Ejecutamos el experimento T veces y obtenemos la mediana.\n",
    "    pathA = F\"instancias/{experimento_a[0]}/{experimento_a[1]}\"\n",
    "    A = leer_matriz(pathA)\n",
    "    a_CPre = A[0].copy()\n",
    "    a_SPre = A[0].copy()\n",
    "    a_CPre, b_CPre = precomputo_abc(a_CPre, A[1], A[2])\n",
    "    \n",
    "    tiempo_con = 0.0\n",
    "    tiempo_sin = 0.0\n",
    "\n",
    "    for j in range(0, 1001):\n",
    "        experimento_b = experimentos_b[position]\n",
    "        pathB = F\"instancias/{experimento_b[0]}/{experimento_b[1]}\"\n",
    "        d = leer_matriz(pathB)\n",
    "        \n",
    "        EG_CPre = eliminacion_gausseana_TR_Pre(a_CPre, b_CPre, A[2], d)\n",
    "        EG_SPre = eliminacion_gausseana_TR_SinPre(a_SPre, A[1], A[2], d)\n",
    "\n",
    "        tiempo_con = tiempo_con + EG_CPre[1]\n",
    "        tiempo_sin = tiempo_sin + EG_SPre[1]\n",
    "        \n",
    "        if(experimento_a[0] == \"tr_edd_l\"):\n",
    "            filas.append([\"EDD\", len(d), \"EG_PreC\", tiempo_con, j]);\n",
    "            filas.append([\"EDD\", len(d), \"EG_SinC\", tiempo_sin, j]);\n",
    "        if(experimento_a[0] == \"tr_sdp_l\"): \n",
    "            filas.append([\"SDP\", len(d), \"EG_PreC\", tiempo_con, j]);\n",
    "            filas.append([\"SDP\", len(d), \"EG_SinC\", tiempo_sin, j]);\n",
    "        if(experimento_a[0] == \"tr_random_l\"): \n",
    "            filas.append([\"RANDOM\", len(d), \"EG_PreC\", tiempo_con, j]);\n",
    "            filas.append([\"RANDOM\", len(d), \"EG_SinC\", tiempo_sin, j]);\n",
    "\n",
    "        clear_output(wait=True)\n",
    "        display('Experimento: ' + str(numero) + \"/\" + str(len(experimentos_A)))\n",
    "        display('d_valor: ' + str(j) +  \"/\" + str(1001))\n",
    "        \n",
    "        position = position + 1\n",
    "    numero += 1\n",
    "\n",
    "df_resultado = pd.DataFrame(filas, columns=columnas);\n",
    "df_resultado.to_csv(\"resultados/resultado-PSComputo.csv\", index=False, header=True);"
   ]
  },
  {
   "cell_type": "markdown",
   "metadata": {},
   "source": [
    "### Ejercicio 5 - Derivada Segunda"
   ]
  },
  {
   "cell_type": "code",
   "execution_count": 21,
   "metadata": {
    "id": "MKb4iAM9QgNm"
   },
   "outputs": [],
   "source": [
    "def ejercicio_5(n):\n",
    "  d1 = np.zeros(n, dtype=\"d\")\n",
    "  d2 = np.zeros(n, dtype=\"d\")\n",
    "  d3 = np.zeros(n, dtype=\"d\")\n",
    "  a = np.zeros(n, dtype=\"d\")\n",
    "  b = np.zeros(n, dtype=\"d\")\n",
    "  c = np.zeros(n, dtype=\"d\")\n",
    "\n",
    "  try:\n",
    "    index = int(n/2) + 1\n",
    "    d1[index] = 4/n\n",
    "      \n",
    "    for i in range (0,n):\n",
    "      d2[i] = (4 / (n**2))\n",
    "      d3[i] = (-1 + (2*i / (n-1)))*(12 / n**2)\n",
    "\n",
    "      a[i] = 1\n",
    "      c[i] = 1\n",
    "      b[i] = -2\n",
    "\n",
    "    a[0] = 0\n",
    "    c[n-1] = 0\n",
    "\n",
    "    a, b = precomputo_abc(a, b, c)\n",
    "\n",
    "    u1 = eliminacion_gausseana_TR_Pre(a, b, c, d1)\n",
    "    u2 = eliminacion_gausseana_TR_Pre(a, b, c, d2)\n",
    "    u3 = eliminacion_gausseana_TR_Pre(a, b, c, d3)\n",
    "\n",
    "    return [u1[0],u2[0],u3[0]]\n",
    "  except Exception as e:\n",
    "    print(e)"
   ]
  },
  {
   "cell_type": "code",
   "execution_count": 22,
   "metadata": {
    "id": "8LQopSm-O7r3"
   },
   "outputs": [],
   "source": [
    "derivadas = ejercicio_5(101)"
   ]
  },
  {
   "cell_type": "code",
   "execution_count": 23,
   "metadata": {
    "colab": {
     "base_uri": "https://localhost:8080/",
     "height": 466
    },
    "id": "hOvYzQwlTT_B",
    "outputId": "06a8fe3d-15ad-40c4-a00b-984a8816d7a2"
   },
   "outputs": [
    {
     "data": {
      "image/png": "[encoded data removed]",
      "text/plain": [
       "<Figure size 640x480 with 1 Axes>"
      ]
     },
     "metadata": {},
     "output_type": "display_data"
    }
   ],
   "source": [
    "plt.plot(derivadas[0], label=\"(a)\")\n",
    "plt.plot(derivadas[1], label=\"(b)\")\n",
    "plt.plot(derivadas[2], label=\"(c)\")\n",
    "plt.legend(loc='lower left')\n",
    "plt.ylim([-1.1, 0.30])\n",
    "plt.xlabel('x')\n",
    "plt.ylabel('n')\n",
    "plt.savefig(\"graficos/difusion-5.svg\");\n",
    "plt.show()"
   ]
  },
  {
   "cell_type": "markdown",
   "metadata": {},
   "source": [
    "### Ejercicio 6 - Difusión"
   ]
  },
  {
   "cell_type": "code",
   "execution_count": 24,
   "metadata": {
    "id": "ai_kBew1clCY"
   },
   "outputs": [],
   "source": [
    "def ejercicio6(n, r, it, alpha):\n",
    "  try:\n",
    "    a = np.zeros(n, dtype=\"d\")\n",
    "    b = np.zeros(n, dtype=\"d\")\n",
    "    c = np.zeros(n, dtype=\"d\")\n",
    "    d = np.zeros(n, dtype=\"d\")\n",
    "\n",
    "    for i in range (0, n):\n",
    "      if((int(n/2) - r) < i < (int(n/2) + r)):\n",
    "        d[i] = 1\n",
    "\n",
    "      a[i] = -1*alpha\n",
    "      c[i] = -1*alpha\n",
    "      b[i] = (2*alpha + 1)\n",
    "    a[0] = 0\n",
    "    c[-1] = 0\n",
    "\n",
    "    d_0 = d.copy()\n",
    "    conjunto = [d_0]\n",
    "    a, b = precomputo_abc(a, b, c)\n",
    "\n",
    "    i = 0\n",
    "    while(i < it):\n",
    "      uk = eliminacion_gausseana_TR_Pre(a,b,c,d)\n",
    "      d_cte = uk[0].copy()\n",
    "      conjunto.append(d_cte)\n",
    "      d = uk[0]\n",
    "      i = i + 1\n",
    "    \n",
    "    return conjunto\n",
    "  except Exception as e:\n",
    "    print(e)"
   ]
  },
  {
   "cell_type": "code",
   "execution_count": 25,
   "metadata": {},
   "outputs": [],
   "source": [
    "n = 101\n",
    "r = 10\n",
    "it = 1001\n",
    "ej_alpha = 1"
   ]
  },
  {
   "cell_type": "code",
   "execution_count": 26,
   "metadata": {
    "colab": {
     "base_uri": "https://localhost:8080/"
    },
    "id": "Xf7wLMG2kHKF",
    "outputId": "f5058e50-3851-414b-db84-392ae42de3f9"
   },
   "outputs": [],
   "source": [
    "datos = ejercicio6(n, r, it, ej_alpha)"
   ]
  },
  {
   "cell_type": "code",
   "execution_count": 27,
   "metadata": {},
   "outputs": [],
   "source": [
    "datos_transpose = np.transpose(datos)"
   ]
  },
  {
   "cell_type": "code",
   "execution_count": 28,
   "metadata": {},
   "outputs": [
    {
     "data": {
      "image/png": "[encoded data removed]",
      "text/plain": [
       "<Figure size 640x480 with 2 Axes>"
      ]
     },
     "metadata": {},
     "output_type": "display_data"
    }
   ],
   "source": [
    "ax = plt.subplot()\n",
    "im = ax.imshow(datos_transpose, interpolation='nearest', aspect='auto')\n",
    "ax.set_title('Grafico de difusión')\n",
    "plt.colorbar(im, ax=ax, label=\"n\")\n",
    "plt.yticks(np.arange(0, 101, 10))\n",
    "plt.xlabel(\"k\")\n",
    "plt.ylabel(\"x\")\n",
    "plt.gca().invert_yaxis()\n",
    "plt.savefig(\"graficos/heatmap-difusion-alpha1.svg\");\n",
    "plt.show()"
   ]
  },
  {
   "cell_type": "code",
   "execution_count": 29,
   "metadata": {},
   "outputs": [],
   "source": [
    "ej_alpha = 0.1\n",
    "datos = ejercicio6(n, r, it, ej_alpha)\n",
    "datos_transpose = np.transpose(datos)"
   ]
  },
  {
   "cell_type": "code",
   "execution_count": 30,
   "metadata": {},
   "outputs": [
    {
     "data": {
      "image/png": "[encoded data removed]",
      "text/plain": [
       "<Figure size 640x480 with 2 Axes>"
      ]
     },
     "metadata": {},
     "output_type": "display_data"
    }
   ],
   "source": [
    "ax = plt.subplot()\n",
    "im = ax.imshow(datos_transpose, interpolation='nearest', aspect='auto')\n",
    "ax.set_title('Grafico de difusión')\n",
    "plt.colorbar(im, ax=ax, label=\"n\")\n",
    "plt.yticks(np.arange(0, 101, 10))\n",
    "plt.xlabel(\"k\")\n",
    "plt.ylabel(\"x\")\n",
    "plt.gca().invert_yaxis()\n",
    "plt.savefig(\"graficos/heatmap-difusion-alpha01.svg\");\n",
    "plt.show()"
   ]
  },
  {
   "cell_type": "code",
   "execution_count": 31,
   "metadata": {},
   "outputs": [],
   "source": [
    "ej_alpha = 10\n",
    "datos = ejercicio6(n, r, it, ej_alpha)\n",
    "datos_transpose = np.transpose(datos)"
   ]
  },
  {
   "cell_type": "code",
   "execution_count": 32,
   "metadata": {},
   "outputs": [
    {
     "data": {
      "image/png": "[encoded data removed]",
      "text/plain": [
       "<Figure size 640x480 with 2 Axes>"
      ]
     },
     "metadata": {},
     "output_type": "display_data"
    }
   ],
   "source": [
    "ax = plt.subplot()\n",
    "im = ax.imshow(datos_transpose, interpolation='nearest', aspect='auto')\n",
    "ax.set_title('Grafico de difusión')\n",
    "plt.colorbar(im, ax=ax, label=\"n\")\n",
    "plt.yticks(np.arange(0, 101, 10))\n",
    "plt.xlabel(\"k\")\n",
    "plt.ylabel(\"x\")\n",
    "plt.gca().invert_yaxis()\n",
    "plt.savefig(\"graficos/heatmap-difusion-alpha10.svg\");\n",
    "plt.show()"
   ]
  },
  {
   "cell_type": "markdown",
   "metadata": {},
   "source": [
    "### Algunos casos de prueba usados durante la construicción de los algoritmos"
   ]
  },
  {
   "cell_type": "code",
   "execution_count": 33,
   "metadata": {},
   "outputs": [
    {
     "name": "stdout",
     "output_type": "stream",
     "text": [
      "[array([-1.,  1., -1.,  1.]), 0.0]\n"
     ]
    }
   ],
   "source": [
    "# Sin triangular\n",
    "A = np.array([[1,2,3,4], [1,4,9,16], [1,8,27,64], [1, 16, 81, 256]])\n",
    "b = np.array([2,10,44,190])\n",
    "EG = eliminacion_gausseana_SP(A, b)\n",
    "print(EG)"
   ]
  },
  {
   "cell_type": "code",
   "execution_count": 34,
   "metadata": {},
   "outputs": [
    {
     "name": "stdout",
     "output_type": "stream",
     "text": [
      "[array([  1., -30.,   7.,  16.]), 0.0010020732879638672]\n"
     ]
    }
   ],
   "source": [
    "# Sin triangular\n",
    "A = np.array([[2,1,-1,3], [-2,0,0,0], [4,1,-2,4], [-6,-1,2,-3]])\n",
    "b = np.array([13,-2,24,-10])\n",
    "EG = eliminacion_gausseana_SP(A, b)\n",
    "print(EG)"
   ]
  },
  {
   "cell_type": "code",
   "execution_count": 35,
   "metadata": {},
   "outputs": [
    {
     "name": "stdout",
     "output_type": "stream",
     "text": [
      "[array([  1., -30.,   7.,  16.]), 0.00110626220703125]\n"
     ]
    }
   ],
   "source": [
    "# Triangulado\n",
    "A = np.array([[2,1,-1,3], [0,1,-1,3], [0,0,-1,1], [0,0,0,1]])\n",
    "b = np.array([13,11,9,16])\n",
    "EG = eliminacion_gausseana_SP(A, b)\n",
    "print(EG)"
   ]
  },
  {
   "cell_type": "code",
   "execution_count": 36,
   "metadata": {},
   "outputs": [
    {
     "name": "stdout",
     "output_type": "stream",
     "text": [
      "[array([ 1.0e+07, -3.0e+01,  7.0e+00,  1.6e+01]), 0.0]\n"
     ]
    }
   ],
   "source": [
    "# Sin triangular - Decimales chicos\n",
    "A = np.array([[0.0000002,1,-1,3], [-0.0000002,0,0,0], [0.0000004,1,-2,4], [-0.0000006,-1,2,-3]])\n",
    "b = np.array([13,-2,24,-10])\n",
    "EG = eliminacion_gausseana_SP(A, b)\n",
    "print(EG)"
   ]
  },
  {
   "cell_type": "code",
   "execution_count": 37,
   "metadata": {},
   "outputs": [
    {
     "name": "stdout",
     "output_type": "stream",
     "text": [
      "[array([1., 2.]), 0.0]\n"
     ]
    }
   ],
   "source": [
    "# Matriz con decimales no tan bajos\n",
    "A = np.array([[0.003, 0.217], [0.277, 0.138]])\n",
    "b = np.array([0.437,0.553])\n",
    "EG = eliminacion_gausseana_SP(A, b)\n",
    "print(EG)"
   ]
  },
  {
   "cell_type": "code",
   "execution_count": 38,
   "metadata": {},
   "outputs": [
    {
     "name": "stdout",
     "output_type": "stream",
     "text": [
      "No se pudo triangular porque se requiere un pivot o hubo un error durante la ejecución del algoritmo.\n",
      "None\n"
     ]
    },
    {
     "name": "stderr",
     "output_type": "stream",
     "text": [
      "C:\\Proyectos\\metodos-tp1-1c2023\\entorno\\lib\\site-packages\\ipykernel_launcher.py:6: RuntimeWarning: invalid value encountered in double_scalars\n",
      "  \n"
     ]
    }
   ],
   "source": [
    "# Falla al intentar triangular porque no hay pivot\n",
    "A = np.array([[0, 0, 0, 0, 0, 0], [0, -1, 0, 0, 0, -0.08], [0, 1, -1, 0, 1, 0], [0, 0, 1, -1, 0, 0.02], [1, 0, 0, 1, 0, 0.05], [0, 0, 0, 0, 0, 0.05]])\n",
    "b = np.array([0,0,0,0,0,0])\n",
    "EG = eliminacion_gausseana_SP(A, b)\n",
    "print(EG)"
   ]
  },
  {
   "cell_type": "code",
   "execution_count": 62,
   "metadata": {},
   "outputs": [
    {
     "name": "stdout",
     "output_type": "stream",
     "text": [
      "[array([0., 0., 0., 0., 0., 0.]), 0.0010118484497070312]\n"
     ]
    }
   ],
   "source": [
    "# Canónico\n",
    "A = np.array([[0, 1, 0, 0, 0, 0], [1, 0, 0, 0, 0, 0], [0, 0, 1, 0, 0, 0], [0, 0, 0, 1, 0, 0], [0, 0, 0, 0, 1, 0], [0, 0, 0, 0, 0, 1]])\n",
    "b = np.array([0,0,0,0,0,0])\n",
    "EG = eliminacion_gausseana_CP(A, b)\n",
    "print(EG)"
   ]
  },
  {
   "cell_type": "code",
   "execution_count": 63,
   "metadata": {
    "scrolled": true
   },
   "outputs": [
    {
     "name": "stdout",
     "output_type": "stream",
     "text": [
      "[array([2., 1., 3., 5., 6., 4.]), 0.0]\n"
     ]
    }
   ],
   "source": [
    "# Canónico\n",
    "A = np.array([[0, 1, 0, 0, 0, 0],[1, 0, 0, 0, 0, 0],[0, 0, 1, 0, 0, 0],[0, 0, 0, 0, 0, 1],[0, 0, 0, 1, 0, 0],[0, 0, 0, 0, 1, 0]])\n",
    "b = np.array([1,2,3,4,5,6])\n",
    "EG = eliminacion_gausseana_CP(A, b)\n",
    "print(EG)"
   ]
  },
  {
   "cell_type": "code",
   "execution_count": 69,
   "metadata": {},
   "outputs": [
    {
     "name": "stdout",
     "output_type": "stream",
     "text": [
      "Sin soluciones\n",
      "[array([ 5. , -0.5], dtype=float32), 0.0]\n"
     ]
    }
   ],
   "source": [
    "# Canónico - Sin Solucion\n",
    "A = np.array([[1, 1],[2, 2]], dtype=\"f\")\n",
    "b = np.array([2,5], dtype=\"f\")\n",
    "EG = eliminacion_gausseana_CP(A, b)\n",
    "print(EG)"
   ]
  },
  {
   "cell_type": "code",
   "execution_count": 70,
   "metadata": {},
   "outputs": [
    {
     "name": "stdout",
     "output_type": "stream",
     "text": [
      "Infinitas soluciones\n",
      "[array([4, 0]), 0.0]\n"
     ]
    }
   ],
   "source": [
    "# Canónico - Solucion infinita\n",
    "A = np.array([[1, 1],[2, 2]])\n",
    "b = np.array([2,4])\n",
    "EG = eliminacion_gausseana_CP(A, b)\n",
    "print(EG)"
   ]
  },
  {
   "cell_type": "code",
   "execution_count": 74,
   "metadata": {},
   "outputs": [
    {
     "name": "stdout",
     "output_type": "stream",
     "text": [
      "[array([-5.00000000e-01, -2.30000000e+01,  2.39808173e-14,  1.20000000e+01]), 0.0]\n"
     ]
    }
   ],
   "source": [
    "# Sin triangular - Decimales chicos\n",
    "A = np.array([[0.0000000000000002,1,-1,3], [2,0.0000000000000002,0,0], [4,1,-2,4], [-6,-1,2,-3]])\n",
    "b = np.array([13,-2,24,-10])\n",
    "EG = eliminacion_gausseana_CP(A, b)\n",
    "print(EG)\n",
    "# Es Singular\n",
    "# X = np.linalg.solve(A, b)"
   ]
  },
  {
   "cell_type": "code",
   "execution_count": 75,
   "metadata": {},
   "outputs": [
    {
     "name": "stdout",
     "output_type": "stream",
     "text": [
      "[array([  0.99999954, -29.99999627,   6.99999619,  15.99999714]), 0.0009980201721191406]\n"
     ]
    }
   ],
   "source": [
    "# Sin triangular\n",
    "A = np.array([[2,1,-1,3], [-2,0,0,0], [4,1,-2,4], [-6,-1,2,-3]], dtype=\"f\")\n",
    "b = np.array([13,-2,24,-10], dtype=\"f\")\n",
    "EG = eliminacion_gausseana_CP(A, b)\n",
    "print(EG)"
   ]
  },
  {
   "cell_type": "code",
   "execution_count": 57,
   "metadata": {},
   "outputs": [
    {
     "name": "stdout",
     "output_type": "stream",
     "text": [
      "[array([1.16666667, 4.6       , 0.8       , 3.6       ]), 0.0010051727294921875]\n"
     ]
    }
   ],
   "source": [
    "# Elementos con decimales\n",
    "A = np.array([[1,eps,-1,3], [-2,eps,0,0], [4,1,eps,4], [-6,-1,2,eps]])\n",
    "b = np.array([13,-2,24,-10])\n",
    "EG = eliminacion_gausseana_CP(A, b)\n",
    "print(EG)"
   ]
  },
  {
   "cell_type": "code",
   "execution_count": 135,
   "metadata": {},
   "outputs": [
    {
     "name": "stdout",
     "output_type": "stream",
     "text": [
      "[[ 6  8 -7  2]\n",
      " [ 0  0  5  3]\n",
      " [ 0  0  8  3]\n",
      " [ 0  2  6  4]]\n",
      "[[ 6  8 -7  2]\n",
      " [ 0  2  6  4]\n",
      " [ 0  0  8  3]\n",
      " [ 0  0  5  3]]\n",
      "[[ 6  8 -7  2]\n",
      " [ 0  2  6  4]\n",
      " [ 0  0  8  3]\n",
      " [ 0  0  0  1]]\n",
      "[[ 6  8 -7  2]\n",
      " [ 0  2  6  4]\n",
      " [ 0  0  8  3]\n",
      " [ 0  0  0  1]]\n",
      "[1 1 0 0]\n",
      "[array([-0.5,  0.5,  0. ,  0. ]), 0.002021312713623047]\n"
     ]
    }
   ],
   "source": [
    "# Elementos con decimales\n",
    "A = np.array([[0,2,6,4], [4,6,1,5], [2,3,6,4], [6,8,-7,2]])\n",
    "b = np.array([1,1,1,1])\n",
    "EG = eliminacion_gausseana_CP(A, b)\n",
    "print(EG)"
   ]
  },
  {
   "cell_type": "code",
   "execution_count": 58,
   "metadata": {},
   "outputs": [
    {
     "data": {
      "text/plain": [
       "-0.012490009999999607"
      ]
     },
     "execution_count": 58,
     "metadata": {},
     "output_type": "execute_result"
    }
   ],
   "source": [
    "# Error obtenido\n",
    "4.02640884 - 4.03889885"
   ]
  },
  {
   "cell_type": "code",
   "execution_count": 426,
   "metadata": {},
   "outputs": [
    {
     "name": "stdout",
     "output_type": "stream",
     "text": [
      "[array([17.103203 , -3.2206407, -1.3202847,  0.8967972,  1.4128114],\n",
      "      dtype=float32), 0.0]\n"
     ]
    }
   ],
   "source": [
    "# Elementos con decimales\n",
    "a = np.array([0,1,2,3,4], dtype='d')\n",
    "b = np.array([1,1,1,1,1], dtype='d')\n",
    "c = np.array([5,9,12,5,0], dtype='d')\n",
    "d = np.array([1,2,3,4,5], dtype='d')\n",
    "\n",
    "EG = eliminacion_gausseana_TR_SinPre(a, b, c, d)\n",
    "print(EG)"
   ]
  },
  {
   "cell_type": "code",
   "execution_count": 427,
   "metadata": {},
   "outputs": [
    {
     "name": "stdout",
     "output_type": "stream",
     "text": [
      "[17.103203  -3.2206407 -1.3202847  0.8967972  1.4128114]\n"
     ]
    }
   ],
   "source": [
    "# Elementos con decimales\n",
    "a = np.array([0,1,2,3,4], dtype='d')\n",
    "b = np.array([1,1,1,1,1], dtype='d')\n",
    "c = np.array([5,9,12,5,0], dtype='d')\n",
    "d = np.array([1,2,3,4,5], dtype='d')\n",
    "\n",
    "# Podemos preguntar sobre errores de precisión\n",
    "a, b = precomputo_abc(a, b, c)\n",
    "\n",
    "# Para todos los d distintos\n",
    "eg_triag_precomputado = eliminacion_gausseana_TR_Pre(a, b, c, d)\n",
    "\n",
    "print(eg_triag_precomputado[0])\n",
    "#a = np.array([0,1,2,3,4], dtype='d')\n",
    "#b = np.array([1,1,1,1,1], dtype='d')\n",
    "#c = np.array([5,9,12,5,0], dtype='d')\n",
    "#d = np.array([1,2,3,4,5], dtype='d')\n",
    "#\n",
    "#eg_triag_sinprecomputado = eliminacion_gausseana_TR_SinPre(a, b, c, d)"
   ]
  },
  {
   "cell_type": "code",
   "execution_count": 428,
   "metadata": {},
   "outputs": [
    {
     "name": "stdout",
     "output_type": "stream",
     "text": [
      "[17.10320285 -3.22064057 -1.3202847   0.89679715  1.41281139]\n"
     ]
    }
   ],
   "source": [
    "A_tridiagonal_np = np.array([\n",
    "    [1.0 ,5.0 ,0.0 ,0.0  ,0.0 ],\n",
    "    [1.0 ,1.0 ,9.0 ,0.0  ,0.0 ],\n",
    "    [0.0 ,2.0 ,1.0 ,12.0 ,0.0 ],\n",
    "    [0.0 ,0.0 ,3.0 ,1.0  ,5.0 ],\n",
    "    [0.0 ,0.0 ,0.0 ,4.0  ,1.0 ]\n",
    "])\n",
    "d_tridiagonal_np = np.array([1,2,3,4,5], dtype='d')\n",
    "res = np.linalg.solve(A_tridiagonal_np, d_tridiagonal_np)\n",
    "print(res)"
   ]
  },
  {
   "cell_type": "code",
   "execution_count": 429,
   "metadata": {},
   "outputs": [],
   "source": [
    "A_tridiagonal_CP = np.array([\n",
    "    [1.0,5.0,0.0,0.0,0.0],\n",
    "    [1.0,1.0,9.0,0.0,0.0],\n",
    "    [0.0,2.0,1.0,12.0,0.0],\n",
    "    [0.0,0.0,3.0,1.0,5.0],\n",
    "    [0.0,0.0,0.0,4.0,1.0]\n",
    "])\n",
    "d_tridiagonal_CP = np.array([1,2,3,4,5], dtype='d')\n",
    "trigiagonal_CP = eliminacion_gausseana_CP(A_tridiagonal_CP, d_tridiagonal_CP)"
   ]
  }
 ],
 "metadata": {
  "colab": {
   "provenance": [],
   "toc_visible": true
  },
  "kernelspec": {
   "display_name": "Python 3 (ipykernel)",
   "language": "python",
   "name": "python3"
  },
  "language_info": {
   "codemirror_mode": {
    "name": "ipython",
    "version": 3
   },
   "file_extension": ".py",
   "mimetype": "text/x-python",
   "name": "python",
   "nbconvert_exporter": "python",
   "pygments_lexer": "ipython3",
   "version": "3.7.8"
  },
  "vscode": {
   "interpreter": {
    "hash": "048ffb85d764fb63f5c1aed323785b15d6917b635b5bcedee59f8ef66ef1e14d"
   }
  }
 },
 "nbformat": 4,
 "nbformat_minor": 1
}
