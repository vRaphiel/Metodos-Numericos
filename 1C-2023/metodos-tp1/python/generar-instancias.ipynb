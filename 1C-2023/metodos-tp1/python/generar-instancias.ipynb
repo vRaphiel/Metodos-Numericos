{
 "cells": [
  {
   "cell_type": "code",
   "execution_count": 1,
   "id": "4ca96279",
   "metadata": {},
   "outputs": [],
   "source": [
    "import random, math\n",
    "import pandas as pd\n",
    "import numpy as np\n",
    "import os\n",
    "import sklearn\n",
    "from sklearn import datasets\n",
    "import functools\n",
    "from IPython.display import display, clear_output\n",
    "random.seed(12345)"
   ]
  },
  {
   "cell_type": "markdown",
   "id": "dbcb65ef",
   "metadata": {},
   "source": [
    "Para cada experimento se pasarán ciertos datos extra que serán datos que tendremos en cuenta al momento de experimentar, por ejemplo la página más referenciada y sus valores, o las principales que hacen que nosotros tengamos en cuenta ciertos principios a la hora de evaluar"
   ]
  },
  {
   "cell_type": "code",
   "execution_count": 2,
   "id": "d51039a5",
   "metadata": {},
   "outputs": [],
   "source": [
    "# Generar txt y guardar instancia\n",
    "def save_instanceA(dataset, instance_name, matriz): \n",
    "    if(not os.path.isdir(F\"instancias/{dataset}\")):\n",
    "        os.mkdir(F\"instancias/{dataset}\")\n",
    "                \n",
    "    with open(F\"instancias/{dataset}/{instance_name}.txt\", \"w\") as f:\n",
    "        for i in range(0, len(matriz)):\n",
    "            for j in range(0, len(matriz[i])):\n",
    "                print(matriz[i][j], file=f, end=\" \")\n",
    "            print(file=f, end=\"\\n\")\n",
    "            \n",
    "# Generar txt y guardar instancia\n",
    "def save_instanceB(dataset, instance_name, vector): \n",
    "    if(not os.path.isdir(F\"instancias/{dataset}\")):\n",
    "        os.mkdir(F\"instancias/{dataset}\")\n",
    "                \n",
    "    with open(F\"instancias/{dataset}/{instance_name}.txt\", \"w\") as f:\n",
    "        for i in range(0, len(vector)):\n",
    "            print(vector[i], file=f, end=\" \")\n",
    "        print(file=f, end=\"\\n\")"
   ]
  },
  {
   "cell_type": "code",
   "execution_count": 17,
   "id": "569a3194",
   "metadata": {},
   "outputs": [],
   "source": [
    "def guardar_caso_instancias_enCSV(folder_name, arr_instancias):\n",
    "    pd.DataFrame(arr_instancias, columns=[\"dataset\", \"archivo-A\",\"archivo-b\", \"n\"]).to_csv(F\"instancias/{folder_name}/indice.csv\", index=False, header=True)\n",
    "    \n",
    "def guardar_caso_instancias_enCSV_SP(folder_name, arr_instancias):\n",
    "    pd.DataFrame(arr_instancias, columns=[\"dataset\", \"archivo\", \"n\", \"type\"]).to_csv(F\"instancias/{folder_name}/indice.csv\", index=False, header=True)"
   ]
  },
  {
   "cell_type": "markdown",
   "id": "44904dac",
   "metadata": {},
   "source": [
    "## Matrices triangulares - Multiples B"
   ]
  },
  {
   "cell_type": "markdown",
   "id": "557bf9f1",
   "metadata": {},
   "source": [
    "### Genero los \"b\""
   ]
  },
  {
   "cell_type": "code",
   "execution_count": 5,
   "id": "c2298fa3",
   "metadata": {},
   "outputs": [],
   "source": [
    "def generate_b(n):\n",
    "    b = np.random.rand(n)\n",
    "    return b"
   ]
  },
  {
   "cell_type": "code",
   "execution_count": 6,
   "id": "09b9f4f6",
   "metadata": {},
   "outputs": [],
   "source": [
    "def construir_matriz_completa(a,b,c):\n",
    "    n = len(b)\n",
    "    A = np.zeros((n,n))\n",
    "    for i in range(0, len(b)):\n",
    "        A[i][i] = b[i]\n",
    "        if i >= 1:\n",
    "            A[i][i-1] = a[i]\n",
    "        if i < len(b)-1:\n",
    "            A[i][i+1] = c[i]\n",
    "            \n",
    "    return A"
   ]
  },
  {
   "cell_type": "markdown",
   "id": "44a1852a",
   "metadata": {},
   "source": [
    "### Matrices EDD"
   ]
  },
  {
   "cell_type": "code",
   "execution_count": 8,
   "id": "81a7e7cf",
   "metadata": {},
   "outputs": [],
   "source": [
    "def tr_edd(n):\n",
    "    a = np.random.rand(n)\n",
    "    b = np.zeros(n)\n",
    "    c = np.random.rand(n)\n",
    "    for i in range(0, len(a)):\n",
    "        sum_val = np.abs(a[i]) + np.abs(c[i])\n",
    "        b[i] = sum_val*n\n",
    "        \n",
    "    a[0] = 0\n",
    "    c[-1] = 0\n",
    "    A = [a, b, c]\n",
    "    return A"
   ]
  },
  {
   "cell_type": "markdown",
   "id": "5b1e0c1d",
   "metadata": {},
   "source": [
    "### Matrices SDP (Simetricas Definidas Positivas)"
   ]
  },
  {
   "cell_type": "code",
   "execution_count": 9,
   "id": "2fb6000c",
   "metadata": {},
   "outputs": [],
   "source": [
    "def tr_simetric_definite_positive(n):\n",
    "    A = sklearn.datasets.make_spd_matrix(n)\n",
    "    \n",
    "    a = np.zeros(n)\n",
    "    b = np.zeros(n)\n",
    "    c = np.zeros(n)\n",
    "    \n",
    "    for i in range(0, len(A)):\n",
    "        b[i] = A[i][i]\n",
    "    \n",
    "    for i in range(1, len(A)):\n",
    "        a[i] = A[i][i-1]\n",
    "    \n",
    "    for i in range(0, len(A)-1):\n",
    "        c[i] = A[i][i+1]\n",
    "    \n",
    "    B = [a, b, c]\n",
    "    \n",
    "    return B"
   ]
  },
  {
   "cell_type": "markdown",
   "id": "4fa88d85",
   "metadata": {},
   "source": [
    "### Matrices Random"
   ]
  },
  {
   "cell_type": "code",
   "execution_count": 10,
   "id": "ce054f1e",
   "metadata": {},
   "outputs": [],
   "source": [
    "def tr_random_matrix(n, nmin, nmax):\n",
    "\n",
    "    A = np.random.randint(nmin, nmax, size=n)\n",
    "    B = np.random.randint(nmin, nmax, size=n)\n",
    "    C = np.random.randint(nmin, nmax, size=n)\n",
    "\n",
    "    L = np.zeros((n, n))\n",
    "    for i in range(0, n):\n",
    "        L[i][i] = 1\n",
    "\n",
    "    for i in range(1, n):\n",
    "        L[i][i-1] = A[i-1]\n",
    "\n",
    "    U = np.zeros((n, n))\n",
    "    for i in range(0, n):\n",
    "        U[i][i] = B[i]\n",
    "\n",
    "    for i in range(0, n-1):\n",
    "        U[i][i+1] = C[i]\n",
    "\n",
    "    # SIN CUDA INSTALADO\n",
    "    M = L @ U\n",
    "    \n",
    "    # CON CUDA INSTLADO\n",
    "    # M = matmul_gpu(L, U)\n",
    "\n",
    "    B = np.diagonal(M)\n",
    "    \n",
    "    for i in range(1, n):\n",
    "        A[i] = M[i][i-1] \n",
    "\n",
    "    for i in range(0, n-1):\n",
    "        C[i] = M[i][i+1]\n",
    "    \n",
    "    return [A, B, C]"
   ]
  },
  {
   "cell_type": "markdown",
   "id": "c7651df5",
   "metadata": {},
   "source": [
    "## Matrices Tridiagonales - 4a"
   ]
  },
  {
   "cell_type": "code",
   "execution_count": 13,
   "id": "b23c0df8",
   "metadata": {},
   "outputs": [
    {
     "data": {
      "text/plain": [
       "'Instancia: 30'"
      ]
     },
     "metadata": {},
     "output_type": "display_data"
    }
   ],
   "source": [
    "caso=\"tr_edd\";\n",
    "arr_instancias = []\n",
    "for i in range(1, 31):\n",
    "    clear_output(wait=True)\n",
    "    display('Instancia: ' + str(i))\n",
    "    n = 100*i\n",
    "    A = tr_edd(n)\n",
    "    b = generate_b(n)\n",
    "    save_instanceA(caso, F\"{caso}-{i}-A\", A)\n",
    "    save_instanceB(caso, F\"{caso}-{i}-b\", b)\n",
    "    arr_instancias.append([caso, F\"{caso}-{i}-A.txt\", F\"{caso}-{i}-b.txt\", n])\n",
    "guardar_caso_instancias_enCSV(caso,arr_instancias)"
   ]
  },
  {
   "cell_type": "code",
   "execution_count": 14,
   "id": "7272ed2b",
   "metadata": {},
   "outputs": [
    {
     "data": {
      "text/plain": [
       "'Instancia: 30'"
      ]
     },
     "metadata": {},
     "output_type": "display_data"
    }
   ],
   "source": [
    "caso=\"tr_sdp\";\n",
    "arr_instancias = []\n",
    "for i in range(1, 31):\n",
    "    clear_output(wait=True)\n",
    "    display('Instancia: ' + str(i))\n",
    "    n = 100*i\n",
    "    A = tr_simetric_definite_positive(n)\n",
    "    b = generate_b(n)\n",
    "    save_instanceA(caso, F\"{caso}-{i}-A\", A)\n",
    "    save_instanceB(caso, F\"{caso}-{i}-b\", b)\n",
    "    arr_instancias.append([caso, F\"{caso}-{i}-A.txt\", F\"{caso}-{i}-b.txt\", n])\n",
    "guardar_caso_instancias_enCSV(caso,arr_instancias)"
   ]
  },
  {
   "cell_type": "code",
   "execution_count": 15,
   "id": "9af7de44",
   "metadata": {
    "scrolled": false
   },
   "outputs": [
    {
     "data": {
      "text/plain": [
       "'Instancia: 30'"
      ]
     },
     "metadata": {},
     "output_type": "display_data"
    }
   ],
   "source": [
    "caso=\"tr_random\";\n",
    "arr_instancias = []\n",
    "for i in range(1, 31):\n",
    "    clear_output(wait=True)\n",
    "    display('Instancia: ' + str(i))\n",
    "    n = 100*i\n",
    "    nmin = random.randint(1, 100)\n",
    "    nmax = random.randint(101, 1000)\n",
    "    A = tr_random_matrix(n, nmin, nmax)\n",
    "    b = generate_b(n)\n",
    "    save_instanceA(caso, F\"{caso}-{i}-A\", A)\n",
    "    save_instanceB(caso, F\"{caso}-{i}-b\", b)\n",
    "    arr_instancias.append([caso, F\"{caso}-{i}-A.txt\", F\"{caso}-{i}-b.txt\", n])\n",
    "guardar_caso_instancias_enCSV(caso,arr_instancias)"
   ]
  },
  {
   "cell_type": "markdown",
   "id": "99e787c5",
   "metadata": {},
   "source": [
    "## Matrices Tridiagonales - 4b"
   ]
  },
  {
   "cell_type": "code",
   "execution_count": 40,
   "id": "7fecdbca",
   "metadata": {},
   "outputs": [
    {
     "data": {
      "text/plain": [
       "'Instancia: 2'"
      ]
     },
     "metadata": {},
     "output_type": "display_data"
    }
   ],
   "source": [
    "# Matrices EDD\n",
    "caso=\"tr_edd_l\";\n",
    "arr_instancias = []\n",
    "n = 5000\n",
    "A = tr_edd(n)\n",
    "save_instanceA(caso, F\"{caso}-A\", A)\n",
    "for j in range(0, 1001):\n",
    "    b = generate_b(n)\n",
    "    save_instanceB(caso, F\"{caso}-{j}-b\", b)\n",
    "    arr_instancias.append([caso, F\"{caso}-{j}-b.txt\", n, \"b\"])\n",
    "arr_instancias.append([caso, F\"{caso}-A.txt\", n, \"A\"])\n",
    "guardar_caso_instancias_enCSV_SP(caso, arr_instancias)"
   ]
  },
  {
   "cell_type": "code",
   "execution_count": 41,
   "id": "4ff05f1c",
   "metadata": {},
   "outputs": [],
   "source": [
    "# Matrices SDP\n",
    "caso=\"tr_sdp_l\";\n",
    "arr_instancias = []\n",
    "n = 5000\n",
    "A = tr_simetric_definite_positive(n)\n",
    "save_instanceA(caso, F\"{caso}-A\", A)\n",
    "for j in range(0, 1001):\n",
    "    b = generate_b(n)\n",
    "    save_instanceB(caso, F\"{caso}-{j}-b\", b)\n",
    "    arr_instancias.append([caso, F\"{caso}-{j}-b.txt\", n, \"b\"])\n",
    "arr_instancias.append([caso, F\"{caso}-A.txt\", n, \"A\"])\n",
    "guardar_caso_instancias_enCSV_SP(caso, arr_instancias)"
   ]
  },
  {
   "cell_type": "code",
   "execution_count": 42,
   "id": "e471bd7a",
   "metadata": {},
   "outputs": [],
   "source": [
    "# Matrices Random\n",
    "caso=\"tr_random_l\";\n",
    "arr_instancias = []\n",
    "n = 5000\n",
    "nmin = random.randint(1, 100)\n",
    "nmax = random.randint(101, 1000)\n",
    "A = tr_random_matrix(n, nmin, nmax)\n",
    "save_instanceA(caso, F\"{caso}-A\", A)\n",
    "for j in range(0, 1001):\n",
    "    b = generate_b(n)\n",
    "    save_instanceB(caso, F\"{caso}-{j}-b\", b)\n",
    "    arr_instancias.append([caso, F\"{caso}-{j}-b.txt\", n, \"b\"])\n",
    "arr_instancias.append([caso, F\"{caso}-A.txt\", n, \"A\"])\n",
    "guardar_caso_instancias_enCSV_SP(caso, arr_instancias)"
   ]
  }
 ],
 "metadata": {
  "kernelspec": {
   "display_name": "Python 3 (ipykernel)",
   "language": "python",
   "name": "python3"
  },
  "language_info": {
   "codemirror_mode": {
    "name": "ipython",
    "version": 3
   },
   "file_extension": ".py",
   "mimetype": "text/x-python",
   "name": "python",
   "nbconvert_exporter": "python",
   "pygments_lexer": "ipython3",
   "version": "3.7.8"
  },
  "vscode": {
   "interpreter": {
    "hash": "048ffb85d764fb63f5c1aed323785b15d6917b635b5bcedee59f8ef66ef1e14d"
   }
  }
 },
 "nbformat": 4,
 "nbformat_minor": 5
}
