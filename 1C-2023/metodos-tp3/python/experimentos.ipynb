{
 "cells": [
  {
   "cell_type": "markdown",
   "metadata": {
    "id": "DRsl690phQXB"
   },
   "source": [
    "# Correr experimentos\n",
    "En este archivo está el código para correr los experimentos y escribir los resultados en archivos CSV.\n",
    "> Los archivos se guardan en la carpeta _resultados_."
   ]
  },
  {
   "cell_type": "code",
   "execution_count": 27,
   "metadata": {
    "id": "3hdEzjEFhQXE"
   },
   "outputs": [],
   "source": [
    "import math, subprocess\n",
    "import pandas as pd\n",
    "import numpy as np\n",
    "import random, math\n",
    "import os\n",
    "import shutil\n",
    "from IPython.display import display, clear_output\n",
    "import time\n",
    "import matplotlib.pyplot as plt\n",
    "\n",
    "iteraciones = 5000\n",
    "eps = 10e-14\n",
    "alpha = 10e14\n",
    "experimentos = []\n",
    "\n",
    "# CN = Canonico\n",
    "# RN = Random\n",
    "# TN = Todos Unos\n",
    "iniciales = [\"CN\", \"RN\", \"TN\"]\n",
    "\n",
    "# Titulos de distintos CSV\n",
    "columnas = [\"Caso\",\"Path\",\"GSM\",\"GSM-ERR\",\"GSS\",\"GSS-ERR\",\"JM\",\"JM-ERR\",\"JS\",\"JS-ERR\",\"LU\",\"Tiempo\",\"n\"];"
   ]
  },
  {
   "cell_type": "markdown",
   "metadata": {},
   "source": [
    "## Metodos:\n",
    "- Jacobi Formula\n",
    "- Jacobi Matriz\n",
    "- Gauss Seidel Formula\n",
    "- Gauss Seidel Matriz\n",
    "- LU Eigen"
   ]
  },
  {
   "cell_type": "code",
   "execution_count": 2,
   "metadata": {},
   "outputs": [],
   "source": [
    "# Lectura de Matriz\n",
    "def leer_matriz(path_instancia):\n",
    "    A = np.loadtxt(path_instancia, skiprows=1, dtype='d')\n",
    "    return A"
   ]
  },
  {
   "cell_type": "code",
   "execution_count": 3,
   "metadata": {},
   "outputs": [],
   "source": [
    "def agregar_experimentos(dataframe):\n",
    "    counter = 0\n",
    "    while counter < len(dataframe):\n",
    "        fila = dataframe.iloc[counter]\n",
    "        experimentos.append([fila[\"dataset\"], fila[\"archivo-A\"], fila[\"archivo-x\"], fila[\"archivo-b\"], fila[\"n\"]])\n",
    "        counter = counter + 1"
   ]
  },
  {
   "cell_type": "code",
   "execution_count": 4,
   "metadata": {},
   "outputs": [],
   "source": [
    "def ejecutar_metodo(pathA, pathB, pathX, caso, iteraciones, eps_M, alpha_M, ini):\n",
    "    process = subprocess.Popen(\n",
    "        [\"./tp3\", pathA, pathB, pathX, caso, str(iteraciones), str(eps_M), str(alpha_M), ini], \n",
    "        stderr=subprocess.PIPE, \n",
    "        stdout=subprocess.PIPE, \n",
    "        stdin=subprocess.PIPE, \n",
    "        universal_newlines = True)\n",
    "    exit_code = process.wait()\n",
    "    if exit_code != 0: \n",
    "        print(F\"Hubo un error en la experimentacion con la instancia {pathA} - ${pathB} - ${pathX}\")\n",
    "    process.stdin.close();\n",
    "    process.stdout.close();\n",
    "    process.stderr.close();"
   ]
  },
  {
   "cell_type": "code",
   "execution_count": 5,
   "metadata": {},
   "outputs": [],
   "source": [
    "def limpiador(path):\n",
    "    if os.path.exists(path):\n",
    "        for filename in os.listdir(path):\n",
    "            if('.out' in filename):\n",
    "                file_path = os.path.join(path, filename)\n",
    "                try:\n",
    "                    os.unlink(file_path)\n",
    "                except Exception as e:\n",
    "                    print('Failed to delete %s. Reason: %s' % (file_path, e))"
   ]
  },
  {
   "cell_type": "code",
   "execution_count": 6,
   "metadata": {},
   "outputs": [],
   "source": [
    "def copy_paste(path, path_second):\n",
    "    if not os.path.exists(path_second):\n",
    "        os.mkdir(path_second)\n",
    "    \n",
    "    files = os.listdir(path)\n",
    "    for filename in files:\n",
    "        if('.out' in filename):\n",
    "            file_path = os.path.join(path, filename)\n",
    "            file_path_sec = os.path.join(path_second, filename)\n",
    "            shutil.move(file_path, file_path_sec)"
   ]
  },
  {
   "cell_type": "markdown",
   "metadata": {},
   "source": [
    "### Ejecución"
   ]
  },
  {
   "cell_type": "code",
   "execution_count": 28,
   "metadata": {},
   "outputs": [],
   "source": [
    "dfs={}\n",
    "casos=[\"edd-tiempos\"]\n",
    "experimentos = []\n",
    "for caso in casos:\n",
    "    dfs[caso]=pd.read_csv(F\"instancias/{caso}/indice.csv\")\n",
    "\n",
    "for caso in casos:\n",
    "    agregar_experimentos(dfs[caso])\n",
    "    \n",
    "if(not os.path.isdir(\"resultados\")):\n",
    "    os.mkdir(\"resultados\")"
   ]
  },
  {
   "cell_type": "markdown",
   "metadata": {},
   "source": [
    "### Primer Instancia\n",
    "Tomaremos la matríz de 500x500 Estrictamente Diagonal Dominante y la ejecutamos para todos los vectores iniciales 100 veces."
   ]
  },
  {
   "cell_type": "code",
   "execution_count": 23,
   "metadata": {},
   "outputs": [],
   "source": [
    "experimento = experimentos[6]"
   ]
  },
  {
   "cell_type": "code",
   "execution_count": 24,
   "metadata": {},
   "outputs": [
    {
     "data": {
      "text/plain": [
       "'Experimento: 0/4'"
      ]
     },
     "metadata": {},
     "output_type": "display_data"
    },
    {
     "ename": "KeyboardInterrupt",
     "evalue": "",
     "output_type": "error",
     "traceback": [
      "\u001b[0;31m---------------------------------------------------------------------------\u001b[0m",
      "\u001b[0;31mKeyboardInterrupt\u001b[0m                         Traceback (most recent call last)",
      "Input \u001b[0;32mIn [24]\u001b[0m, in \u001b[0;36m<cell line: 7>\u001b[0;34m()\u001b[0m\n\u001b[1;32m     10\u001b[0m display(\u001b[38;5;124m'\u001b[39m\u001b[38;5;124mExperimento: \u001b[39m\u001b[38;5;124m'\u001b[39m \u001b[38;5;241m+\u001b[39m \u001b[38;5;28mstr\u001b[39m(it) \u001b[38;5;241m+\u001b[39m \u001b[38;5;124m\"\u001b[39m\u001b[38;5;124m/\u001b[39m\u001b[38;5;124m\"\u001b[39m \u001b[38;5;241m+\u001b[39m \u001b[38;5;28mstr\u001b[39m(\u001b[38;5;241m4\u001b[39m))\n\u001b[1;32m     12\u001b[0m \u001b[38;5;28;01mfor\u001b[39;00m ini \u001b[38;5;129;01min\u001b[39;00m iniciales:\n\u001b[0;32m---> 13\u001b[0m     \u001b[43mejecutar_metodo\u001b[49m\u001b[43m(\u001b[49m\u001b[43mpathA\u001b[49m\u001b[43m,\u001b[49m\u001b[43m \u001b[49m\u001b[43mpathX\u001b[49m\u001b[43m,\u001b[49m\u001b[43m \u001b[49m\u001b[43mpathB\u001b[49m\u001b[43m,\u001b[49m\u001b[43m \u001b[49m\u001b[38;5;124;43mF\u001b[39;49m\u001b[38;5;124;43m\"\u001b[39;49m\u001b[38;5;124;43minstancias/\u001b[39;49m\u001b[38;5;132;43;01m{\u001b[39;49;00m\u001b[43mexperimento\u001b[49m\u001b[43m[\u001b[49m\u001b[38;5;241;43m0\u001b[39;49m\u001b[43m]\u001b[49m\u001b[38;5;132;43;01m}\u001b[39;49;00m\u001b[38;5;124;43m/\u001b[39;49m\u001b[38;5;132;43;01m{\u001b[39;49;00m\u001b[43mexperimento\u001b[49m\u001b[43m[\u001b[49m\u001b[38;5;241;43m0\u001b[39;49m\u001b[43m]\u001b[49m\u001b[38;5;132;43;01m}\u001b[39;49;00m\u001b[38;5;124;43m-\u001b[39;49m\u001b[38;5;132;43;01m{\u001b[39;49;00m\u001b[43m(\u001b[49m\u001b[43mpathX\u001b[49m\u001b[38;5;241;43m.\u001b[39;49m\u001b[43msplit\u001b[49m\u001b[43m(\u001b[49m\u001b[38;5;124;43m'\u001b[39;49m\u001b[38;5;124;43m-\u001b[39;49m\u001b[38;5;124;43m'\u001b[39;49m\u001b[43m)\u001b[49m\u001b[43m[\u001b[49m\u001b[38;5;241;43m1\u001b[39;49m\u001b[43m]\u001b[49m\u001b[43m)\u001b[49m\u001b[38;5;132;43;01m}\u001b[39;49;00m\u001b[38;5;124;43m-\u001b[39;49m\u001b[38;5;132;43;01m{\u001b[39;49;00m\u001b[43mini\u001b[49m\u001b[38;5;132;43;01m}\u001b[39;49;00m\u001b[38;5;124;43m\"\u001b[39;49m\u001b[43m,\u001b[49m\u001b[43m \u001b[49m\u001b[43miteraciones\u001b[49m\u001b[43m,\u001b[49m\u001b[43m \u001b[49m\u001b[43meps\u001b[49m\u001b[43m,\u001b[49m\u001b[43m \u001b[49m\u001b[43malpha\u001b[49m\u001b[43m,\u001b[49m\u001b[43m \u001b[49m\u001b[43mini\u001b[49m\u001b[43m)\u001b[49m\n\u001b[1;32m     15\u001b[0m     filas\u001b[38;5;241m.\u001b[39mappend([\n\u001b[1;32m     16\u001b[0m         experimento[\u001b[38;5;241m0\u001b[39m],\n\u001b[1;32m     17\u001b[0m         \u001b[38;5;124mF\u001b[39m\u001b[38;5;124m\"\u001b[39m\u001b[38;5;124minstancias/\u001b[39m\u001b[38;5;132;01m{\u001b[39;00mexperimento[\u001b[38;5;241m0\u001b[39m]\u001b[38;5;132;01m}\u001b[39;00m\u001b[38;5;124m-VI-it-\u001b[39m\u001b[38;5;132;01m{\u001b[39;00mit\u001b[38;5;132;01m}\u001b[39;00m\u001b[38;5;124m/\u001b[39m\u001b[38;5;132;01m{\u001b[39;00mexperimento[\u001b[38;5;241m0\u001b[39m]\u001b[38;5;132;01m}\u001b[39;00m\u001b[38;5;124m-\u001b[39m\u001b[38;5;132;01m{\u001b[39;00m(pathX\u001b[38;5;241m.\u001b[39msplit(\u001b[38;5;124m'\u001b[39m\u001b[38;5;124m-\u001b[39m\u001b[38;5;124m'\u001b[39m)[\u001b[38;5;241m1\u001b[39m])\u001b[38;5;132;01m}\u001b[39;00m\u001b[38;5;124m\"\u001b[39m,\n\u001b[0;32m   (...)\u001b[0m\n\u001b[1;32m     28\u001b[0m         experimento[\u001b[38;5;241m4\u001b[39m]\n\u001b[1;32m     29\u001b[0m     ]);\n\u001b[1;32m     31\u001b[0m copy_paste(\u001b[38;5;124mF\u001b[39m\u001b[38;5;124m\"\u001b[39m\u001b[38;5;124minstancias/\u001b[39m\u001b[38;5;132;01m{\u001b[39;00mexperimento[\u001b[38;5;241m0\u001b[39m]\u001b[38;5;132;01m}\u001b[39;00m\u001b[38;5;124m\"\u001b[39m, \u001b[38;5;124mF\u001b[39m\u001b[38;5;124m\"\u001b[39m\u001b[38;5;124minstancias/\u001b[39m\u001b[38;5;132;01m{\u001b[39;00mexperimento[\u001b[38;5;241m0\u001b[39m]\u001b[38;5;132;01m}\u001b[39;00m\u001b[38;5;124m-VI-it-\u001b[39m\u001b[38;5;132;01m{\u001b[39;00mit\u001b[38;5;132;01m}\u001b[39;00m\u001b[38;5;124m\"\u001b[39m) \n",
      "Input \u001b[0;32mIn [19]\u001b[0m, in \u001b[0;36mejecutar_metodo\u001b[0;34m(pathA, pathB, pathX, caso, iteraciones, eps_M, alpha_M, ini)\u001b[0m\n\u001b[1;32m      1\u001b[0m \u001b[38;5;28;01mdef\u001b[39;00m \u001b[38;5;21mejecutar_metodo\u001b[39m(pathA, pathB, pathX, caso, iteraciones, eps_M, alpha_M, ini):\n\u001b[1;32m      2\u001b[0m     process \u001b[38;5;241m=\u001b[39m subprocess\u001b[38;5;241m.\u001b[39mPopen(\n\u001b[1;32m      3\u001b[0m         [\u001b[38;5;124m\"\u001b[39m\u001b[38;5;124m./tp3\u001b[39m\u001b[38;5;124m\"\u001b[39m, pathA, pathB, pathX, caso, \u001b[38;5;28mstr\u001b[39m(iteraciones), \u001b[38;5;28mstr\u001b[39m(eps_M), \u001b[38;5;28mstr\u001b[39m(alpha_M), ini], \n\u001b[1;32m      4\u001b[0m         stderr\u001b[38;5;241m=\u001b[39msubprocess\u001b[38;5;241m.\u001b[39mPIPE, \n\u001b[1;32m      5\u001b[0m         stdout\u001b[38;5;241m=\u001b[39msubprocess\u001b[38;5;241m.\u001b[39mPIPE, \n\u001b[1;32m      6\u001b[0m         stdin\u001b[38;5;241m=\u001b[39msubprocess\u001b[38;5;241m.\u001b[39mPIPE, \n\u001b[1;32m      7\u001b[0m         universal_newlines \u001b[38;5;241m=\u001b[39m \u001b[38;5;28;01mTrue\u001b[39;00m)\n\u001b[0;32m----> 8\u001b[0m     exit_code \u001b[38;5;241m=\u001b[39m \u001b[43mprocess\u001b[49m\u001b[38;5;241;43m.\u001b[39;49m\u001b[43mwait\u001b[49m\u001b[43m(\u001b[49m\u001b[43m)\u001b[49m\n\u001b[1;32m      9\u001b[0m     \u001b[38;5;28;01mif\u001b[39;00m exit_code \u001b[38;5;241m!=\u001b[39m \u001b[38;5;241m0\u001b[39m: \n\u001b[1;32m     10\u001b[0m         \u001b[38;5;28mprint\u001b[39m(\u001b[38;5;124mF\u001b[39m\u001b[38;5;124m\"\u001b[39m\u001b[38;5;124mHubo un error en la experimentacion con la instancia \u001b[39m\u001b[38;5;132;01m{\u001b[39;00mpathA\u001b[38;5;132;01m}\u001b[39;00m\u001b[38;5;124m - $\u001b[39m\u001b[38;5;132;01m{\u001b[39;00mpathB\u001b[38;5;132;01m}\u001b[39;00m\u001b[38;5;124m - $\u001b[39m\u001b[38;5;132;01m{\u001b[39;00mpathX\u001b[38;5;132;01m}\u001b[39;00m\u001b[38;5;124m\"\u001b[39m)\n",
      "File \u001b[0;32m/usr/lib/python3.8/subprocess.py:1083\u001b[0m, in \u001b[0;36mPopen.wait\u001b[0;34m(self, timeout)\u001b[0m\n\u001b[1;32m   1081\u001b[0m     endtime \u001b[38;5;241m=\u001b[39m _time() \u001b[38;5;241m+\u001b[39m timeout\n\u001b[1;32m   1082\u001b[0m \u001b[38;5;28;01mtry\u001b[39;00m:\n\u001b[0;32m-> 1083\u001b[0m     \u001b[38;5;28;01mreturn\u001b[39;00m \u001b[38;5;28;43mself\u001b[39;49m\u001b[38;5;241;43m.\u001b[39;49m\u001b[43m_wait\u001b[49m\u001b[43m(\u001b[49m\u001b[43mtimeout\u001b[49m\u001b[38;5;241;43m=\u001b[39;49m\u001b[43mtimeout\u001b[49m\u001b[43m)\u001b[49m\n\u001b[1;32m   1084\u001b[0m \u001b[38;5;28;01mexcept\u001b[39;00m \u001b[38;5;167;01mKeyboardInterrupt\u001b[39;00m:\n\u001b[1;32m   1085\u001b[0m     \u001b[38;5;66;03m# https://bugs.python.org/issue25942\u001b[39;00m\n\u001b[1;32m   1086\u001b[0m     \u001b[38;5;66;03m# The first keyboard interrupt waits briefly for the child to\u001b[39;00m\n\u001b[1;32m   1087\u001b[0m     \u001b[38;5;66;03m# exit under the common assumption that it also received the ^C\u001b[39;00m\n\u001b[1;32m   1088\u001b[0m     \u001b[38;5;66;03m# generated SIGINT and will exit rapidly.\u001b[39;00m\n\u001b[1;32m   1089\u001b[0m     \u001b[38;5;28;01mif\u001b[39;00m timeout \u001b[38;5;129;01mis\u001b[39;00m \u001b[38;5;129;01mnot\u001b[39;00m \u001b[38;5;28;01mNone\u001b[39;00m:\n",
      "File \u001b[0;32m/usr/lib/python3.8/subprocess.py:1806\u001b[0m, in \u001b[0;36mPopen._wait\u001b[0;34m(self, timeout)\u001b[0m\n\u001b[1;32m   1804\u001b[0m \u001b[38;5;28;01mif\u001b[39;00m \u001b[38;5;28mself\u001b[39m\u001b[38;5;241m.\u001b[39mreturncode \u001b[38;5;129;01mis\u001b[39;00m \u001b[38;5;129;01mnot\u001b[39;00m \u001b[38;5;28;01mNone\u001b[39;00m:\n\u001b[1;32m   1805\u001b[0m     \u001b[38;5;28;01mbreak\u001b[39;00m  \u001b[38;5;66;03m# Another thread waited.\u001b[39;00m\n\u001b[0;32m-> 1806\u001b[0m (pid, sts) \u001b[38;5;241m=\u001b[39m \u001b[38;5;28;43mself\u001b[39;49m\u001b[38;5;241;43m.\u001b[39;49m\u001b[43m_try_wait\u001b[49m\u001b[43m(\u001b[49m\u001b[38;5;241;43m0\u001b[39;49m\u001b[43m)\u001b[49m\n\u001b[1;32m   1807\u001b[0m \u001b[38;5;66;03m# Check the pid and loop as waitpid has been known to\u001b[39;00m\n\u001b[1;32m   1808\u001b[0m \u001b[38;5;66;03m# return 0 even without WNOHANG in odd situations.\u001b[39;00m\n\u001b[1;32m   1809\u001b[0m \u001b[38;5;66;03m# http://bugs.python.org/issue14396.\u001b[39;00m\n\u001b[1;32m   1810\u001b[0m \u001b[38;5;28;01mif\u001b[39;00m pid \u001b[38;5;241m==\u001b[39m \u001b[38;5;28mself\u001b[39m\u001b[38;5;241m.\u001b[39mpid:\n",
      "File \u001b[0;32m/usr/lib/python3.8/subprocess.py:1764\u001b[0m, in \u001b[0;36mPopen._try_wait\u001b[0;34m(self, wait_flags)\u001b[0m\n\u001b[1;32m   1762\u001b[0m \u001b[38;5;124;03m\"\"\"All callers to this function MUST hold self._waitpid_lock.\"\"\"\u001b[39;00m\n\u001b[1;32m   1763\u001b[0m \u001b[38;5;28;01mtry\u001b[39;00m:\n\u001b[0;32m-> 1764\u001b[0m     (pid, sts) \u001b[38;5;241m=\u001b[39m \u001b[43mos\u001b[49m\u001b[38;5;241;43m.\u001b[39;49m\u001b[43mwaitpid\u001b[49m\u001b[43m(\u001b[49m\u001b[38;5;28;43mself\u001b[39;49m\u001b[38;5;241;43m.\u001b[39;49m\u001b[43mpid\u001b[49m\u001b[43m,\u001b[49m\u001b[43m \u001b[49m\u001b[43mwait_flags\u001b[49m\u001b[43m)\u001b[49m\n\u001b[1;32m   1765\u001b[0m \u001b[38;5;28;01mexcept\u001b[39;00m \u001b[38;5;167;01mChildProcessError\u001b[39;00m:\n\u001b[1;32m   1766\u001b[0m     \u001b[38;5;66;03m# This happens if SIGCLD is set to be ignored or waiting\u001b[39;00m\n\u001b[1;32m   1767\u001b[0m     \u001b[38;5;66;03m# for child processes has otherwise been disabled for our\u001b[39;00m\n\u001b[1;32m   1768\u001b[0m     \u001b[38;5;66;03m# process.  This child is dead, we can't get the status.\u001b[39;00m\n\u001b[1;32m   1769\u001b[0m     pid \u001b[38;5;241m=\u001b[39m \u001b[38;5;28mself\u001b[39m\u001b[38;5;241m.\u001b[39mpid\n",
      "\u001b[0;31mKeyboardInterrupt\u001b[0m: "
     ]
    }
   ],
   "source": [
    "filas = []\n",
    "\n",
    "pathA = F\"instancias/{experimento[0]}/{experimento[1]}\"\n",
    "pathX = F\"instancias/{experimento[0]}/{experimento[2]}\"\n",
    "pathB = F\"instancias/{experimento[0]}/{experimento[3]}\"\n",
    "\n",
    "for it in range(0, 5):\n",
    "    \n",
    "    clear_output(wait=True)\n",
    "    display('Experimento: ' + str(it) + \"/\" + str(4))\n",
    "\n",
    "    for ini in iniciales:\n",
    "        ejecutar_metodo(pathA, pathX, pathB, F\"instancias/{experimento[0]}/{experimento[0]}-{(pathX.split('-')[1])}-{ini}\", iteraciones, eps, alpha, ini)\n",
    "\n",
    "        filas.append([\n",
    "            experimento[0],\n",
    "            F\"instancias/{experimento[0]}-VI-it-{it}/{experimento[0]}-{(pathX.split('-')[1])}\",\n",
    "            F\"-{ini}-gsm.out\",\n",
    "            F\"-{ini}-gsm-err.out\",\n",
    "            F\"-{ini}-gss.out\",\n",
    "            F\"-{ini}-gss-err.out\",\n",
    "            F\"-{ini}-jm.out\",\n",
    "            F\"-{ini}-jm-err.out\",\n",
    "            F\"-{ini}-js.out\",\n",
    "            F\"-{ini}-js-err.out\",\n",
    "            F\"-{ini}-lu.out\",\n",
    "            F\"-{ini}-tiempo.out\",\n",
    "            experimento[4]\n",
    "        ]);\n",
    "\n",
    "    copy_paste(F\"instancias/{experimento[0]}\", F\"instancias/{experimento[0]}-VI-it-{it}\") \n",
    "\n",
    "df_resultado = pd.DataFrame(filas, columns=columnas);\n",
    "df_resultado.to_csv(F\"resultados/resultado-it-VI.csv\", index=False, header=True);"
   ]
  },
  {
   "cell_type": "code",
   "execution_count": 25,
   "metadata": {},
   "outputs": [],
   "source": [
    "filas_aux = filas[0:len(filas)-1]"
   ]
  },
  {
   "cell_type": "code",
   "execution_count": 26,
   "metadata": {},
   "outputs": [],
   "source": [
    "df_resultado = pd.DataFrame(filas_aux, columns=columnas);\n",
    "df_resultado.to_csv(F\"resultados/resultado-it-VI.csv\", index=False, header=True);"
   ]
  },
  {
   "cell_type": "code",
   "execution_count": 27,
   "metadata": {},
   "outputs": [],
   "source": [
    "#copy_paste(\"./instancias/edd\", \"./instancias/edd-it-1\")"
   ]
  },
  {
   "cell_type": "code",
   "execution_count": 28,
   "metadata": {},
   "outputs": [],
   "source": [
    "limpiador(\"./instancias/edd\")\n",
    "limpiador(\"./instancias/sdp\")\n",
    "limpiador(\"./instancias/random\")"
   ]
  },
  {
   "cell_type": "code",
   "execution_count": 30,
   "metadata": {
    "scrolled": false
   },
   "outputs": [
    {
     "data": {
      "text/plain": [
       "'Iteracion: 9/9'"
      ]
     },
     "metadata": {},
     "output_type": "display_data"
    },
    {
     "data": {
      "text/plain": [
       "'Experimento: 9/9'"
      ]
     },
     "metadata": {},
     "output_type": "display_data"
    }
   ],
   "source": [
    "# Experimentación con EG_Pivot y EG_Trig\n",
    "columnas = [\"Caso\",\"Path\",\"GSM\",\"GSM-ERR\",\"GSS\",\"GSS-ERR\",\"JM\",\"JM-ERR\",\"JS\",\"JS-ERR\",\"LU\",\"LU-ERR\",\"Tiempo\",\"n\"];\n",
    "\n",
    "for it in range(0, 10):\n",
    "    filas = []\n",
    "    numero = 1\n",
    "    for experimento in experimentos:\n",
    "        # Voy mostrando que experimento se esta ejecutando.\n",
    "        clear_output(wait=True)\n",
    "        display('Iteracion: ' + str(it) + \"/\" + str(9))\n",
    "        display('Experimento: ' + str(numero) + \"/\" + str(len(experimentos)))\n",
    "        numero += 1\n",
    "\n",
    "        pathA = F\"instancias/{experimento[0]}/{experimento[1]}\"\n",
    "        pathX = F\"instancias/{experimento[0]}/{experimento[2]}\"\n",
    "        pathB = F\"instancias/{experimento[0]}/{experimento[3]}\"\n",
    "\n",
    "        ejecutar_metodo(pathA, pathX, pathB, F\"instancias/{experimento[0]}/{experimento[0]}-{numero - 1}\", iteraciones, eps, alpha, \"TN\")\n",
    "\n",
    "        filas.append([\n",
    "            experimento[0], \n",
    "            F\"instancias/{experimento[0]}-it-{it}/{experimento[0]}-{(pathX.split('-')[1])}\",\n",
    "            F\"-gsm.out\",\n",
    "            F\"-gsm-err.out\",\n",
    "            F\"-gss.out\",\n",
    "            F\"-gss-err.out\",\n",
    "            F\"-jm.out\",\n",
    "            F\"-jm-err.out\",\n",
    "            F\"-js.out\",\n",
    "            F\"-js-err.out\",\n",
    "            F\"-lu.out\",\n",
    "            F\"-lu-err.out\",\n",
    "            F\"-tiempo.out\",\n",
    "            experimento[4]\n",
    "        ]);\n",
    "\n",
    "        df_resultado = pd.DataFrame(filas, columns=columnas);\n",
    "        df_resultado.to_csv(F\"resultados/resultado-it-{it}.csv\", index=False, header=True);\n",
    "        \n",
    "    copy_paste(F\"instancias/{experimento[0]}\", F\"instancias/{experimento[0]}-it-{it}\")    "
   ]
  }
 ],
 "metadata": {
  "colab": {
   "provenance": [],
   "toc_visible": true
  },
  "kernelspec": {
   "display_name": "Python 3 (ipykernel)",
   "language": "python",
   "name": "python3"
  },
  "language_info": {
   "codemirror_mode": {
    "name": "ipython",
    "version": 3
   },
   "file_extension": ".py",
   "mimetype": "text/x-python",
   "name": "python",
   "nbconvert_exporter": "python",
   "pygments_lexer": "ipython3",
   "version": "3.10.6"
  },
  "vscode": {
   "interpreter": {
    "hash": "048ffb85d764fb63f5c1aed323785b15d6917b635b5bcedee59f8ef66ef1e14d"
   }
  }
 },
 "nbformat": 4,
 "nbformat_minor": 1
}
