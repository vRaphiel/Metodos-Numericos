{
 "cells": [
  {
   "cell_type": "code",
   "execution_count": 1,
   "id": "4ca96279",
   "metadata": {},
   "outputs": [],
   "source": [
    "import random, math\n",
    "import pandas as pd\n",
    "import numpy as np\n",
    "import os\n",
    "import sklearn\n",
    "from sklearn import datasets\n",
    "import functools\n",
    "from IPython.display import display, clear_output\n",
    "random.seed(12345)"
   ]
  },
  {
   "cell_type": "markdown",
   "id": "dbcb65ef",
   "metadata": {},
   "source": [
    "Para cada experimento se pasarán ciertos datos extra que serán datos que tendremos en cuenta al momento de experimentar, por ejemplo la página más referenciada y sus valores, o las principales que hacen que nosotros tengamos en cuenta ciertos principios a la hora de evaluar"
   ]
  },
  {
   "cell_type": "code",
   "execution_count": 2,
   "id": "d51039a5",
   "metadata": {},
   "outputs": [],
   "source": [
    "# Generar txt y guardar instancia\n",
    "def save_instance(instancia, matriz, solucion, resultado, index, n):\n",
    "    if(not os.path.isdir(F\"instancias/{instancia}\")):\n",
    "        os.mkdir(F\"instancias/{instancia}\")\n",
    "                \n",
    "    with open(F\"instancias/{instancia}/{instancia}-{index}-matriz.txt\", \"w\") as f:\n",
    "        print(n, file=f, end =\"\\n\")\n",
    "        for i in range(0, len(matriz)):\n",
    "            for j in range(0, len(matriz[i])):\n",
    "                print(matriz[i][j], file=f, end=\" \")\n",
    "            print(file=f, end=\"\\n\")\n",
    "            \n",
    "    with open(F\"instancias/{instancia}/{instancia}-{index}-solucion.txt\", \"w\") as f:\n",
    "        print(n, file=f, end =\"\\n\")\n",
    "        for i in range(0, len(solucion)):\n",
    "            print(solucion[i], file=f, end=\"\\n\")\n",
    "            \n",
    "    with open(F\"instancias/{instancia}/{instancia}-{index}-resultado.txt\", \"w\") as f:\n",
    "        print(n, file=f, end =\"\\n\")\n",
    "        for i in range(0, len(resultado)):\n",
    "            print(resultado[i], file=f, end=\"\\n\")"
   ]
  },
  {
   "cell_type": "code",
   "execution_count": 3,
   "id": "569a3194",
   "metadata": {},
   "outputs": [],
   "source": [
    "def guardar_caso_instancias_enCSV(folder, arr_instancias):\n",
    "    pd.DataFrame(arr_instancias, columns=[\"dataset\", \"archivo-A\", \"archivo-x\", \"archivo-b\", \"n\"]).to_csv(F\"instancias/{folder}/indice.csv\", index=False, header=True)"
   ]
  },
  {
   "cell_type": "markdown",
   "id": "44904dac",
   "metadata": {},
   "source": [
    "## Generar x"
   ]
  },
  {
   "cell_type": "code",
   "execution_count": 4,
   "id": "c2298fa3",
   "metadata": {},
   "outputs": [],
   "source": [
    "def generate_x(n=5, nmin = 1, nmax = 100, data_type=\"int\"):\n",
    "    if(data_type == \"int\"):\n",
    "        return np.random.randint(nmin, nmax, size=n)\n",
    "    else:\n",
    "        return np.random.rand(n)"
   ]
  },
  {
   "cell_type": "markdown",
   "id": "44a1852a",
   "metadata": {},
   "source": [
    "### Matrices EDD"
   ]
  },
  {
   "cell_type": "code",
   "execution_count": 5,
   "id": "81a7e7cf",
   "metadata": {},
   "outputs": [],
   "source": [
    "def dt_edd(n=5, nmin = 1, nmax = 100, data_type=\"int\"):\n",
    "    B = np.zeros((n,n))\n",
    "    if(data_type == \"int\"):\n",
    "        B = np.random.randint(nmin, nmax, size=(n,n))\n",
    "    else:\n",
    "        B = np.random.rand(n,n)\n",
    "        \n",
    "    A = B.copy()\n",
    "    for i in range(0, n) :        \n",
    "        suma = 0\n",
    "        for j in range(0, n) :\n",
    "            suma = suma + abs(B[i][j])\n",
    "        A[i][i] = suma\n",
    "    return A"
   ]
  },
  {
   "cell_type": "markdown",
   "id": "5b1e0c1d",
   "metadata": {},
   "source": [
    "### Matrices SDP (Simetricas Definidas Positivas)"
   ]
  },
  {
   "cell_type": "code",
   "execution_count": 6,
   "id": "2fb6000c",
   "metadata": {},
   "outputs": [],
   "source": [
    "def dt_sdp(n):\n",
    "    A = sklearn.datasets.make_spd_matrix(n)    \n",
    "    return A"
   ]
  },
  {
   "cell_type": "markdown",
   "id": "4fa88d85",
   "metadata": {},
   "source": [
    "### Matrices Random"
   ]
  },
  {
   "cell_type": "code",
   "execution_count": 7,
   "id": "ce054f1e",
   "metadata": {},
   "outputs": [],
   "source": [
    "def dt_random(n=5, nmin = 1, nmax = 100, data_type=\"int\"):\n",
    "    A = np.zeros((n,n))\n",
    "    \n",
    "    if(data_type == \"int\"):\n",
    "        A = np.random.randint(nmin, nmax, size=(n,n))\n",
    "    else:\n",
    "        A = np.random.rand(n,n)\n",
    "        \n",
    "    L = np.tril(A)\n",
    "    U = np.triu(A)\n",
    "    \n",
    "    for i in range(0, n):\n",
    "        L[i][i] = 1\n",
    "\n",
    "    M = L @ U\n",
    "    \n",
    "    return M"
   ]
  },
  {
   "cell_type": "markdown",
   "id": "50de3eec",
   "metadata": {},
   "source": [
    "### Matrices Ortogonales"
   ]
  },
  {
   "cell_type": "code",
   "execution_count": 8,
   "id": "a3c171a5",
   "metadata": {},
   "outputs": [],
   "source": [
    "def rvs(n=5, nmin = 1, nmax = 100, data_type=\"int\"):\n",
    "    random_state = np.random\n",
    "    H = np.eye(n)\n",
    "    D = np.ones((n,))\n",
    "    for n in range(1, n):\n",
    "        x = random_state.normal(size=(dim-n+1,))\n",
    "        D[n-1] = np.sign(x[0])\n",
    "        x[0] -= D[n-1]*np.sqrt((x*x).sum())\n",
    "        # Householder transformation\n",
    "        Hx = (np.eye(dim-n+1) - 2.*np.outer(x, x)/(x*x).sum())\n",
    "        mat = np.eye(dim)\n",
    "        mat[n-1:, n-1:] = Hx\n",
    "        H = np.dot(H, mat)\n",
    "        # Fix the last sign such that the determinant is 1\n",
    "    D[-1] = (-1)**(1-(dim % 2))*D.prod()\n",
    "    # Equivalent to np.dot(np.diag(D), H) but faster, apparently\n",
    "    H = (D*H.T).T\n",
    "    return H"
   ]
  },
  {
   "cell_type": "markdown",
   "id": "c7651df5",
   "metadata": {},
   "source": [
    "## Generador de Matrices"
   ]
  },
  {
   "cell_type": "markdown",
   "id": "0e8d5773",
   "metadata": {},
   "source": [
    "#### EDD"
   ]
  },
  {
   "cell_type": "code",
   "execution_count": 12,
   "id": "b23c0df8",
   "metadata": {
    "scrolled": false
   },
   "outputs": [
    {
     "data": {
      "text/plain": [
       "'Instancia: 9'"
      ]
     },
     "metadata": {},
     "output_type": "display_data"
    }
   ],
   "source": [
    "caso=\"edd\";\n",
    "arr_instancias = []\n",
    "n_values = [10, 20, 30, 40, 50, 100, 250, 500, 1000, 2500]\n",
    "for i in range(1, len(n_values)):\n",
    "    clear_output(wait=True)\n",
    "    display('Instancia: ' + str(i))\n",
    "    \n",
    "    n = n_values[i]\n",
    "    A = dt_edd(n, nmin = np.random.randint(10,50), nmax =np.random.randint(51,90), data_type=\"float\")\n",
    "    x = generate_x(n, nmin = np.random.randint(1,10), nmax =np.random.randint(20,30), data_type=\"float\")\n",
    "    b = A @ x\n",
    "    \n",
    "    save_instance(caso, A, x, b, i, n)\n",
    "    arr_instancias.append([caso, F\"{caso}-{i}-matriz.txt\", F\"{caso}-{i}-solucion.txt\", F\"{caso}-{i}-resultado.txt\", n])\n",
    "    \n",
    "guardar_caso_instancias_enCSV(caso,arr_instancias)"
   ]
  },
  {
   "cell_type": "code",
   "execution_count": null,
   "id": "92042017",
   "metadata": {},
   "outputs": [],
   "source": [
    "caso=\"edd-tiempos\";\n",
    "arr_instancias = []\n",
    "n_values = [10, 20, 30, 40, 50, 100, 250, 500, 1000, 2500]\n",
    "for i in range(1, len(n_values)):\n",
    "    clear_output(wait=True)\n",
    "    display('Instancia: ' + str(i))\n",
    "    \n",
    "    n = n_values[i]\n",
    "    A = dt_edd(n, nmin = np.random.randint(10,50), nmax =np.random.randint(51,90), data_type=\"float\")\n",
    "    x = generate_x(n, nmin = np.random.randint(1,10), nmax =np.random.randint(20,30), data_type=\"float\")\n",
    "    b = A @ x\n",
    "    \n",
    "    save_instance(caso, A, x, b, i, n)\n",
    "    arr_instancias.append([caso, F\"{caso}-{i}-matriz.txt\", F\"{caso}-{i}-solucion.txt\", F\"{caso}-{i}-resultado.txt\", n])\n",
    "    \n",
    "guardar_caso_instancias_enCSV(caso,arr_instancias)"
   ]
  },
  {
   "cell_type": "code",
   "execution_count": 10,
   "id": "7272ed2b",
   "metadata": {},
   "outputs": [
    {
     "data": {
      "text/plain": [
       "'Instancia: 8'"
      ]
     },
     "metadata": {},
     "output_type": "display_data"
    }
   ],
   "source": [
    "caso=\"sdp\";\n",
    "arr_instancias = []\n",
    "n_values = [10, 20, 30, 40, 50, 100, 250, 500, 1000]\n",
    "for i in range(1, len(n_values)):\n",
    "    clear_output(wait=True)\n",
    "    display('Instancia: ' + str(i))\n",
    "    \n",
    "    n = n_values[i]\n",
    "    A = dt_sdp(n)\n",
    "    x = generate_x(n, nmin = np.random.randint(1,10), nmax =np.random.randint(20,30), data_type=\"float\")\n",
    "    b = A @ x\n",
    "    \n",
    "    save_instance(caso, A, x, b, i, n)\n",
    "    arr_instancias.append([caso, F\"{caso}-{i}-matriz.txt\", F\"{caso}-{i}-solucion.txt\", F\"{caso}-{i}-resultado.txt\", n])\n",
    "    \n",
    "guardar_caso_instancias_enCSV(caso,arr_instancias)"
   ]
  },
  {
   "cell_type": "code",
   "execution_count": 12,
   "id": "9af7de44",
   "metadata": {
    "scrolled": false
   },
   "outputs": [
    {
     "data": {
      "text/plain": [
       "'Instancia: 8'"
      ]
     },
     "metadata": {},
     "output_type": "display_data"
    }
   ],
   "source": [
    "caso=\"random\";\n",
    "arr_instancias = []\n",
    "n_values = [10, 20, 30, 40, 50, 100, 250, 500, 1000]\n",
    "for i in range(1, len(n_values)):\n",
    "    clear_output(wait=True)\n",
    "    display('Instancia: ' + str(i))\n",
    "    \n",
    "    n = n_values[i]\n",
    "    A = dt_random(n, nmin = np.random.randint(1,10), nmax =np.random.randint(20,30), data_type=\"float\")\n",
    "    x = generate_x(n, nmin = np.random.randint(1,10), nmax =np.random.randint(20,30), data_type=\"float\")\n",
    "    b = A @ x\n",
    "    \n",
    "    save_instance(caso, A, b, x, i, n)\n",
    "    arr_instancias.append([caso, F\"{caso}-{i}-matriz.txt\", F\"{caso}-{i}-solucion.txt\", F\"{caso}-{i}-resultado.txt\", n])\n",
    "    \n",
    "guardar_caso_instancias_enCSV(caso,arr_instancias)"
   ]
  }
 ],
 "metadata": {
  "kernelspec": {
   "display_name": "Python 3 (ipykernel)",
   "language": "python",
   "name": "python3"
  },
  "language_info": {
   "codemirror_mode": {
    "name": "ipython",
    "version": 3
   },
   "file_extension": ".py",
   "mimetype": "text/x-python",
   "name": "python",
   "nbconvert_exporter": "python",
   "pygments_lexer": "ipython3",
   "version": "3.10.6"
  },
  "vscode": {
   "interpreter": {
    "hash": "048ffb85d764fb63f5c1aed323785b15d6917b635b5bcedee59f8ef66ef1e14d"
   }
  }
 },
 "nbformat": 4,
 "nbformat_minor": 5
}
